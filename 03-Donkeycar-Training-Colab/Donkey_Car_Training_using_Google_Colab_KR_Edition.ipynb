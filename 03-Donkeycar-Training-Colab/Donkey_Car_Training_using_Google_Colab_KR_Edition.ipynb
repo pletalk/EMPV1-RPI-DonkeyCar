{
  "nbformat": 4,
  "nbformat_minor": 0,
  "metadata": {
    "colab": {
      "name": "Donkey Car Training using Google Colab-KR Edition",
      "provenance": [],
      "collapsed_sections": [],
      "include_colab_link": true
    },
    "kernelspec": {
      "name": "python3",
      "display_name": "Python 3"
    },
    "accelerator": "GPU"
  },
  "cells": [
    {
      "cell_type": "markdown",
      "metadata": {
        "id": "view-in-github",
        "colab_type": "text"
      },
      "source": [
        "<a href=\"https://colab.research.google.com/github/pletalk/EMPV1-RPI-DonkeyCar/blob/main/Donkey_Car_Training_using_Google_Colab_KR_Edition.ipynb\" target=\"_parent\"><img src=\"https://colab.research.google.com/assets/colab-badge.svg\" alt=\"Open In Colab\"/></a>"
      ]
    },
    {
      "cell_type": "markdown",
      "metadata": {
        "id": "BlmQIFSLZDdc"
      },
      "source": [
        "# Google Colaboratory를 활용한 동키카 학습을 위한 단계별 가이드\n",
        "\n",
        "@2020-11-11/Ignitespark\n",
        "\n",
        "Google에서 지원하는 Colaboratory 환경에서 Donkey의 주행 영상데이타를 활용해서 신경회로망의 학습을 단계적으로 수행하도록 안내하는 노트북입니다.\n",
        "\n",
        "원할한 수행을 위해서 메뉴의 런타임 > 런타임 유형변경에서 GPU/TPU를 선택해 주세요.\n",
        "\n",
        "*(Reference)* \n",
        "\n",
        "본 코드는 Sachindroid8님이 작성하신 Google Colaboratory기반의 Donkey Training 주피터 노트북에 기반하여 내용을 한글화하고, 교육에 필요한 내용을 추가하여 확장하였습니다. Sachindroid8님이 작성하신 Git의 코드 주소는 아래와 같습니다.\n",
        "\n",
        "https://github.com/sachindroid8/self-driving-car-using-google-colab\n",
        "\n",
        "<변경내용>\n",
        "* 11-11\n",
        "    * Tensorflow 1.15.2버전 지원\n",
        "    * Donkeycar 3.1.5버전 지원\n",
        "    * Donkeycar의 validation_step설정을 위해서 cfg.BATCH_SIZE=64로 변경(디폴트: 128)\n",
        "*08-01 \n",
        "    * Tensorflow설치(2.0alpha)코드 삭제 -> 현재 2.2버전지원\n",
        "    * 수행코드 일부변경\n",
        "\n",
        "<실행을 위한 참고사항>\n",
        "* donkeycar의 학습을 위해서 Tensorflow의 버전을 1.15.2로 설정합니다. \n",
        "* Google Colab의 학습환경과 PC/노트북의 Tensorflow환경을 맞추도록 합니다.\n",
        "* PC/노트북의 경우, pip install tensorflow==1.15.2 를 수행하도록 합니다."
      ]
    },
    {
      "cell_type": "markdown",
      "metadata": {
        "id": "PcxPuVeq6rQI"
      },
      "source": [
        "# 0 > Google Colaboratory를 사용하기 전에 알아두어야할 사항들"
      ]
    },
    {
      "cell_type": "markdown",
      "metadata": {
        "id": "Z17oTx4n6xn_"
      },
      "source": [
        "Google Colaboratory는 구글이 지원하는 머신러닝 및 데이타처리를 위한 무료 서비스 플랫폼입니다. Google Colaboratory에서는 고성능의 GPU를 제공하여 머신러닝의 학습속도를 빠르게 수행할 수 있는 우수한 기능을 제공하고 있습니다. 이런 기능들을 활용하는데 있어서 반드시 알아두어야할 사항들은 아래와 같습니다.\n",
        "\n",
        "\n",
        "* Google Colaboratory는 12시간 동안만 사용 가능합니다. 사용자가 프로그램 수행을 위한 노트를 개설하고 수행하는데 있어서 최대 12시간 이내에서만 사용할 수 있습니다. Google Colaboratory는 12시간이 지나면 개인에게 할당했던 모든 컴퓨팅 자원(CPU,메모리,GPU등)을 리셋(재설정)합니다.\n",
        "\n",
        "* 12시간 이내라도 80분간 사용하지 않으면, 개인에게 할당했던 모든 컴퓨팅 자원(CPU,메모리,GPU등)을 리셋(재설정)합니다.\n",
        "\n",
        "* 할당된 자원이 리셋(재설정)되었다고 다시 사용하지 못하는 것은 아닙니다. 개인의 구글 드라이브에 저장된 Google Laboratory에서 작성한 주피터 노트북을 다시 로드하고 프로젝트를 새로이 시작하면 됩니다. 또 다른 12시간의 개발과 테스팅 시간이 시작됩니다.\n",
        "\n",
        "* Google Laboratory에서 수행한 내용들은 주피터 노트북에 과정과 내용을 기록하여 재 사용가능하도록 합니다. 생성하거나 사용한 노트북은 개인의 구글 드라이브에 파일로 저장이 가능합니다."
      ]
    },
    {
      "cell_type": "markdown",
      "metadata": {
        "id": "5l4MpFXFip98"
      },
      "source": [
        "# 1 > Google Colaboratory의 컴퓨팅 환경\n",
        "\n",
        "구글의 Colaboratory에서 지원되는 기본적인 컴퓨팅 환경의 다양한 정보들을 통해 성능을 확인해봅니다."
      ]
    },
    {
      "cell_type": "markdown",
      "metadata": {
        "id": "EJjLud26jNI7"
      },
      "source": [
        "## 1.1 OS 확인하기"
      ]
    },
    {
      "cell_type": "code",
      "metadata": {
        "id": "og0R-h2zipTQ",
        "outputId": "8024ee56-6fd3-48f9-a3d0-6d1ac70ca12a",
        "colab": {
          "base_uri": "https://localhost:8080/"
        }
      },
      "source": [
        "! cat /etc/issue.net"
      ],
      "execution_count": null,
      "outputs": [
        {
          "output_type": "stream",
          "text": [
            "Ubuntu 18.04.5 LTS\n"
          ],
          "name": "stdout"
        }
      ]
    },
    {
      "cell_type": "markdown",
      "metadata": {
        "id": "Z4QMph5LjUeE"
      },
      "source": [
        "## 1.2 Google Colaboratory GPU 정보보기"
      ]
    },
    {
      "cell_type": "code",
      "metadata": {
        "id": "c8tmMHYcjZ4c",
        "outputId": "6f3414cb-9212-4c59-cf11-c4185bb36104",
        "colab": {
          "base_uri": "https://localhost:8080/"
        }
      },
      "source": [
        "! nvidia-smi"
      ],
      "execution_count": null,
      "outputs": [
        {
          "output_type": "stream",
          "text": [
            "Wed Nov 11 00:44:34 2020       \n",
            "+-----------------------------------------------------------------------------+\n",
            "| NVIDIA-SMI 455.32.00    Driver Version: 418.67       CUDA Version: 10.1     |\n",
            "|-------------------------------+----------------------+----------------------+\n",
            "| GPU  Name        Persistence-M| Bus-Id        Disp.A | Volatile Uncorr. ECC |\n",
            "| Fan  Temp  Perf  Pwr:Usage/Cap|         Memory-Usage | GPU-Util  Compute M. |\n",
            "|                               |                      |               MIG M. |\n",
            "|===============================+======================+======================|\n",
            "|   0  Tesla T4            Off  | 00000000:00:04.0 Off |                    0 |\n",
            "| N/A   51C    P8    10W /  70W |      0MiB / 15079MiB |      0%      Default |\n",
            "|                               |                      |                 ERR! |\n",
            "+-------------------------------+----------------------+----------------------+\n",
            "                                                                               \n",
            "+-----------------------------------------------------------------------------+\n",
            "| Processes:                                                                  |\n",
            "|  GPU   GI   CI        PID   Type   Process name                  GPU Memory |\n",
            "|        ID   ID                                                   Usage      |\n",
            "|=============================================================================|\n",
            "|  No running processes found                                                 |\n",
            "+-----------------------------------------------------------------------------+\n"
          ],
          "name": "stdout"
        }
      ]
    },
    {
      "cell_type": "markdown",
      "metadata": {
        "id": "TU6Q-ZqFjp1M"
      },
      "source": [
        "## 1.3 메모리 용량 파악하기"
      ]
    },
    {
      "cell_type": "code",
      "metadata": {
        "id": "GC0zt4zNjqK3",
        "outputId": "a5525345-73b3-47ba-a6bc-f95451b99a15",
        "colab": {
          "base_uri": "https://localhost:8080/"
        }
      },
      "source": [
        "! cat /proc/meminfo"
      ],
      "execution_count": null,
      "outputs": [
        {
          "output_type": "stream",
          "text": [
            "MemTotal:       13333552 kB\n",
            "MemFree:        10785108 kB\n",
            "MemAvailable:   12520668 kB\n",
            "Buffers:           78176 kB\n",
            "Cached:          1807680 kB\n",
            "SwapCached:            0 kB\n",
            "Active:           619248 kB\n",
            "Inactive:        1654644 kB\n",
            "Active(anon):     356112 kB\n",
            "Inactive(anon):      348 kB\n",
            "Active(file):     263136 kB\n",
            "Inactive(file):  1654296 kB\n",
            "Unevictable:           0 kB\n",
            "Mlocked:               0 kB\n",
            "SwapTotal:             0 kB\n",
            "SwapFree:              0 kB\n",
            "Dirty:               340 kB\n",
            "Writeback:             0 kB\n",
            "AnonPages:        388128 kB\n",
            "Mapped:           206468 kB\n",
            "Shmem:               956 kB\n",
            "Slab:             158372 kB\n",
            "SReclaimable:     117976 kB\n",
            "SUnreclaim:        40396 kB\n",
            "KernelStack:        3792 kB\n",
            "PageTables:         5236 kB\n",
            "NFS_Unstable:          0 kB\n",
            "Bounce:                0 kB\n",
            "WritebackTmp:          0 kB\n",
            "CommitLimit:     6666776 kB\n",
            "Committed_AS:    2614928 kB\n",
            "VmallocTotal:   34359738367 kB\n",
            "VmallocUsed:           0 kB\n",
            "VmallocChunk:          0 kB\n",
            "Percpu:              952 kB\n",
            "AnonHugePages:         0 kB\n",
            "ShmemHugePages:        0 kB\n",
            "ShmemPmdMapped:        0 kB\n",
            "HugePages_Total:       0\n",
            "HugePages_Free:        0\n",
            "HugePages_Rsvd:        0\n",
            "HugePages_Surp:        0\n",
            "Hugepagesize:       2048 kB\n",
            "Hugetlb:               0 kB\n",
            "DirectMap4k:      111804 kB\n",
            "DirectMap2M:     4081664 kB\n",
            "DirectMap1G:    11534336 kB\n"
          ],
          "name": "stdout"
        }
      ]
    },
    {
      "cell_type": "markdown",
      "metadata": {
        "id": "YhlZkOuQj1kW"
      },
      "source": [
        "## 1.4 CPU 정보 파악하기"
      ]
    },
    {
      "cell_type": "code",
      "metadata": {
        "id": "1e4y0p2fj1sq",
        "outputId": "ca77130b-c97d-4c6f-ee7c-90ffda41d8c4",
        "colab": {
          "base_uri": "https://localhost:8080/"
        }
      },
      "source": [
        "! cat /proc/cpuinfo"
      ],
      "execution_count": 32,
      "outputs": [
        {
          "output_type": "stream",
          "text": [
            "processor\t: 0\n",
            "vendor_id\t: GenuineIntel\n",
            "cpu family\t: 6\n",
            "model\t\t: 79\n",
            "model name\t: Intel(R) Xeon(R) CPU @ 2.20GHz\n",
            "stepping\t: 0\n",
            "microcode\t: 0x1\n",
            "cpu MHz\t\t: 2200.000\n",
            "cache size\t: 56320 KB\n",
            "physical id\t: 0\n",
            "siblings\t: 2\n",
            "core id\t\t: 0\n",
            "cpu cores\t: 1\n",
            "apicid\t\t: 0\n",
            "initial apicid\t: 0\n",
            "fpu\t\t: yes\n",
            "fpu_exception\t: yes\n",
            "cpuid level\t: 13\n",
            "wp\t\t: yes\n",
            "flags\t\t: fpu vme de pse tsc msr pae mce cx8 apic sep mtrr pge mca cmov pat pse36 clflush mmx fxsr sse sse2 ss ht syscall nx pdpe1gb rdtscp lm constant_tsc rep_good nopl xtopology nonstop_tsc cpuid tsc_known_freq pni pclmulqdq ssse3 fma cx16 pcid sse4_1 sse4_2 x2apic movbe popcnt aes xsave avx f16c rdrand hypervisor lahf_lm abm 3dnowprefetch invpcid_single ssbd ibrs ibpb stibp fsgsbase tsc_adjust bmi1 hle avx2 smep bmi2 erms invpcid rtm rdseed adx smap xsaveopt arat md_clear arch_capabilities\n",
            "bugs\t\t: cpu_meltdown spectre_v1 spectre_v2 spec_store_bypass l1tf mds swapgs taa\n",
            "bogomips\t: 4400.00\n",
            "clflush size\t: 64\n",
            "cache_alignment\t: 64\n",
            "address sizes\t: 46 bits physical, 48 bits virtual\n",
            "power management:\n",
            "\n",
            "processor\t: 1\n",
            "vendor_id\t: GenuineIntel\n",
            "cpu family\t: 6\n",
            "model\t\t: 79\n",
            "model name\t: Intel(R) Xeon(R) CPU @ 2.20GHz\n",
            "stepping\t: 0\n",
            "microcode\t: 0x1\n",
            "cpu MHz\t\t: 2200.000\n",
            "cache size\t: 56320 KB\n",
            "physical id\t: 0\n",
            "siblings\t: 2\n",
            "core id\t\t: 0\n",
            "cpu cores\t: 1\n",
            "apicid\t\t: 1\n",
            "initial apicid\t: 1\n",
            "fpu\t\t: yes\n",
            "fpu_exception\t: yes\n",
            "cpuid level\t: 13\n",
            "wp\t\t: yes\n",
            "flags\t\t: fpu vme de pse tsc msr pae mce cx8 apic sep mtrr pge mca cmov pat pse36 clflush mmx fxsr sse sse2 ss ht syscall nx pdpe1gb rdtscp lm constant_tsc rep_good nopl xtopology nonstop_tsc cpuid tsc_known_freq pni pclmulqdq ssse3 fma cx16 pcid sse4_1 sse4_2 x2apic movbe popcnt aes xsave avx f16c rdrand hypervisor lahf_lm abm 3dnowprefetch invpcid_single ssbd ibrs ibpb stibp fsgsbase tsc_adjust bmi1 hle avx2 smep bmi2 erms invpcid rtm rdseed adx smap xsaveopt arat md_clear arch_capabilities\n",
            "bugs\t\t: cpu_meltdown spectre_v1 spectre_v2 spec_store_bypass l1tf mds swapgs taa\n",
            "bogomips\t: 4400.00\n",
            "clflush size\t: 64\n",
            "cache_alignment\t: 64\n",
            "address sizes\t: 46 bits physical, 48 bits virtual\n",
            "power management:\n",
            "\n"
          ],
          "name": "stdout"
        }
      ]
    },
    {
      "cell_type": "markdown",
      "metadata": {
        "id": "liQZb4cDmZgy"
      },
      "source": [
        "# 2 > 텐서플로우 1.X으로 업데이트하기\n",
        "텐서플로우(tensorflow)와 Keras의 설치 버전을 확인합니다."
      ]
    },
    {
      "cell_type": "code",
      "metadata": {
        "id": "l2HZENUv4_W6",
        "outputId": "f75215fa-68f9-46a5-c9c7-b6d4b7647969",
        "colab": {
          "base_uri": "https://localhost:8080/"
        }
      },
      "source": [
        "%tensorflow_version 1.x"
      ],
      "execution_count": 1,
      "outputs": [
        {
          "output_type": "stream",
          "text": [
            "TensorFlow 1.x selected.\n"
          ],
          "name": "stdout"
        }
      ]
    },
    {
      "cell_type": "code",
      "metadata": {
        "id": "e6Jbr1_x5YHz",
        "outputId": "98a21e61-8ccb-4fd5-bac2-285df3ea9b8d",
        "colab": {
          "base_uri": "https://localhost:8080/"
        }
      },
      "source": [
        "import keras\n",
        "import tensorflow as tf\n",
        "print(tf.__version__)"
      ],
      "execution_count": 2,
      "outputs": [
        {
          "output_type": "stream",
          "text": [
            "Using TensorFlow backend.\n"
          ],
          "name": "stderr"
        },
        {
          "output_type": "stream",
          "text": [
            "1.15.2\n"
          ],
          "name": "stdout"
        }
      ]
    },
    {
      "cell_type": "code",
      "metadata": {
        "id": "ZguSsgHE4BIr"
      },
      "source": [
        ""
      ],
      "execution_count": 2,
      "outputs": []
    },
    {
      "cell_type": "markdown",
      "metadata": {
        "id": "arsH-DhLcihq"
      },
      "source": [
        "# 3 > GPU 할당 체크하기\n",
        "\"Found GPU at: / device: GPU: 0\"이 표시되면, GPU가 이미 사용중이라는 의미입니다."
      ]
    },
    {
      "cell_type": "code",
      "metadata": {
        "id": "uQgEhuoTcg0N",
        "outputId": "87fb8cfa-148d-4ddd-be4f-6e435437d1ed",
        "colab": {
          "base_uri": "https://localhost:8080/"
        }
      },
      "source": [
        "import tensorflow as tf\n",
        "device_name = tf.test.gpu_device_name()\n",
        "if device_name != '/device:GPU:0':\n",
        "  raise SystemError('GPU device not found')\n",
        "print('Found GPU at: {}'.format(device_name))"
      ],
      "execution_count": 3,
      "outputs": [
        {
          "output_type": "stream",
          "text": [
            "Found GPU at: /device:GPU:0\n"
          ],
          "name": "stdout"
        }
      ]
    },
    {
      "cell_type": "markdown",
      "metadata": {
        "id": "Ba2oPDIrsDFg"
      },
      "source": [
        "# 4 > Donkeycar 프로그램 설치 (3.1.5)\n",
        "\n",
        "* 2020-11-11일자 기준 3.15버전을 설치 \n",
        "\n",
        "* Donkeycar의 영상데이타 기반의 학습프로그램을 활용하기 위해서 Donkeycar의 프로그램들을 Google Colaboratory에 설치해야 합니다.\n",
        "\n",
        "* Git에 저장되어 있는 Donkeycar 프로그램 저장소에서 관련 소스코드를 가져와서 Google Colaboratory에 폴더를 생성하고 해당 소스코드를 복사하여 설치합니다."
      ]
    },
    {
      "cell_type": "code",
      "metadata": {
        "id": "oOxd9PFUyNxI",
        "outputId": "f8f619fb-0112-4fbc-f48d-2b3863c70074",
        "colab": {
          "base_uri": "https://localhost:8080/"
        }
      },
      "source": [
        "!git clone https://github.com/autorope/donkeycar\n",
        "%cd donkeycar\n",
        "!git checkout master"
      ],
      "execution_count": 4,
      "outputs": [
        {
          "output_type": "stream",
          "text": [
            "Cloning into 'donkeycar'...\n",
            "remote: Enumerating objects: 6, done.\u001b[K\n",
            "remote: Counting objects: 100% (6/6), done.\u001b[K\n",
            "remote: Compressing objects: 100% (6/6), done.\u001b[K\n",
            "remote: Total 13807 (delta 0), reused 0 (delta 0), pack-reused 13801\u001b[K\n",
            "Receiving objects: 100% (13807/13807), 81.55 MiB | 42.69 MiB/s, done.\n",
            "Resolving deltas: 100% (8715/8715), done.\n",
            "/content/donkeycar\n",
            "Branch 'master' set up to track remote branch 'master' from 'origin'.\n",
            "Switched to a new branch 'master'\n"
          ],
          "name": "stdout"
        }
      ]
    },
    {
      "cell_type": "markdown",
      "metadata": {
        "id": "4E8pOE73l3Fn"
      },
      "source": [
        "### (Q) 저장된 Donkeycar 소스코드는 어디에 ?\n",
        "\n",
        "Git에서 가져온 코드들은 Google Colaboratory의 탐색창의 상단의 파일 메뉴를 클릭하면 설치된 소스코드의 디렉토리를 아래와 같이 확인이 가능합니다.\n",
        "\n",
        "* Google Colaboratory의 파일은 /content 아래에 위치합니다.\n",
        "\n",
        "![DonkeyCar Git Source Codes Folder](https://api.monosnap.com/file/download?id=Apc4BB8AwlJ1tryBBykAzdnxvAwTw1)\n",
        "\n",
        "* 사용자가 /content 디렉토리 아래에 mydata라는 새로운 디렉토리(폴더)를 생성했다면, 실제 Google Colaboratory에서는 /content/mydata 라는 폴더가 생성됩니다."
      ]
    },
    {
      "cell_type": "markdown",
      "metadata": {
        "id": "9TkkcF-gsAnx"
      },
      "source": [
        "## 4.1 DonkeyCar 프로그램 설치하기\n",
        "\n",
        "DonkeyCar 프로그램 소스코드가 저장된 donkey폴더 내의 setup.py 파일을 사용해서 설치를 진행합니다."
      ]
    },
    {
      "cell_type": "code",
      "metadata": {
        "id": "jz_PZgrByPDh",
        "outputId": "ac5b66da-f0a0-4a55-f09f-edc25dca30fd",
        "colab": {
          "base_uri": "https://localhost:8080/"
        }
      },
      "source": [
        "!pip install -e .[pc]"
      ],
      "execution_count": 5,
      "outputs": [
        {
          "output_type": "stream",
          "text": [
            "Obtaining file:///content/donkeycar\n",
            "Requirement already satisfied: numpy in /usr/local/lib/python3.6/dist-packages (from donkeycar==3.1.5) (1.18.5)\n",
            "Requirement already satisfied: pillow in /usr/local/lib/python3.6/dist-packages (from donkeycar==3.1.5) (7.0.0)\n",
            "Requirement already satisfied: docopt in /usr/local/lib/python3.6/dist-packages (from donkeycar==3.1.5) (0.6.2)\n",
            "Requirement already satisfied: tornado in /usr/local/lib/python3.6/dist-packages (from donkeycar==3.1.5) (5.1.1)\n",
            "Requirement already satisfied: requests in /usr/local/lib/python3.6/dist-packages (from donkeycar==3.1.5) (2.23.0)\n",
            "Requirement already satisfied: h5py in /usr/local/lib/python3.6/dist-packages (from donkeycar==3.1.5) (2.10.0)\n",
            "Requirement already satisfied: moviepy in /usr/local/lib/python3.6/dist-packages (from donkeycar==3.1.5) (0.2.3.5)\n",
            "Requirement already satisfied: pandas in /usr/local/lib/python3.6/dist-packages (from donkeycar==3.1.5) (1.1.4)\n",
            "Requirement already satisfied: PrettyTable in /usr/local/lib/python3.6/dist-packages (from donkeycar==3.1.5) (1.0.1)\n",
            "Collecting paho-mqtt\n",
            "\u001b[?25l  Downloading https://files.pythonhosted.org/packages/32/d3/6dcb8fd14746fcde6a556f932b5de8bea8fedcb85b3a092e0e986372c0e7/paho-mqtt-1.5.1.tar.gz (101kB)\n",
            "\u001b[K     |████████████████████████████████| 102kB 6.4MB/s \n",
            "\u001b[?25hCollecting simple_pid\n",
            "  Downloading https://files.pythonhosted.org/packages/25/37/6e65affc5c135cda2ad6931c83e185957faf2c74c6432bad5fbf5523f344/simple_pid-0.2.4-py2.py3-none-any.whl\n",
            "Requirement already satisfied: matplotlib in /usr/local/lib/python3.6/dist-packages (from donkeycar==3.1.5) (3.2.2)\n",
            "Requirement already satisfied: urllib3!=1.25.0,!=1.25.1,<1.26,>=1.21.1 in /usr/local/lib/python3.6/dist-packages (from requests->donkeycar==3.1.5) (1.24.3)\n",
            "Requirement already satisfied: certifi>=2017.4.17 in /usr/local/lib/python3.6/dist-packages (from requests->donkeycar==3.1.5) (2020.6.20)\n",
            "Requirement already satisfied: idna<3,>=2.5 in /usr/local/lib/python3.6/dist-packages (from requests->donkeycar==3.1.5) (2.10)\n",
            "Requirement already satisfied: chardet<4,>=3.0.2 in /usr/local/lib/python3.6/dist-packages (from requests->donkeycar==3.1.5) (3.0.4)\n",
            "Requirement already satisfied: six in /usr/local/lib/python3.6/dist-packages (from h5py->donkeycar==3.1.5) (1.15.0)\n",
            "Requirement already satisfied: decorator<5.0,>=4.0.2 in /usr/local/lib/python3.6/dist-packages (from moviepy->donkeycar==3.1.5) (4.4.2)\n",
            "Requirement already satisfied: imageio<3.0,>=2.1.2 in /usr/local/lib/python3.6/dist-packages (from moviepy->donkeycar==3.1.5) (2.4.1)\n",
            "Requirement already satisfied: tqdm<5.0,>=4.11.2 in /usr/local/lib/python3.6/dist-packages (from moviepy->donkeycar==3.1.5) (4.41.1)\n",
            "Requirement already satisfied: python-dateutil>=2.7.3 in /usr/local/lib/python3.6/dist-packages (from pandas->donkeycar==3.1.5) (2.8.1)\n",
            "Requirement already satisfied: pytz>=2017.2 in /usr/local/lib/python3.6/dist-packages (from pandas->donkeycar==3.1.5) (2018.9)\n",
            "Requirement already satisfied: wcwidth in /usr/local/lib/python3.6/dist-packages (from PrettyTable->donkeycar==3.1.5) (0.2.5)\n",
            "Requirement already satisfied: setuptools in /usr/local/lib/python3.6/dist-packages (from PrettyTable->donkeycar==3.1.5) (50.3.2)\n",
            "Requirement already satisfied: pyparsing!=2.0.4,!=2.1.2,!=2.1.6,>=2.0.1 in /usr/local/lib/python3.6/dist-packages (from matplotlib->donkeycar==3.1.5) (2.4.7)\n",
            "Requirement already satisfied: kiwisolver>=1.0.1 in /usr/local/lib/python3.6/dist-packages (from matplotlib->donkeycar==3.1.5) (1.3.1)\n",
            "Requirement already satisfied: cycler>=0.10 in /usr/local/lib/python3.6/dist-packages (from matplotlib->donkeycar==3.1.5) (0.10.0)\n",
            "Building wheels for collected packages: paho-mqtt\n",
            "  Building wheel for paho-mqtt (setup.py) ... \u001b[?25l\u001b[?25hdone\n",
            "  Created wheel for paho-mqtt: filename=paho_mqtt-1.5.1-cp36-none-any.whl size=61544 sha256=4a1f1a45acc5b1fc22ee085daf57b899f732bf82106a5ef1462ff4c0fd567843\n",
            "  Stored in directory: /root/.cache/pip/wheels/75/e2/f5/78942b19b4d135605e58dfe85fba52253b14d636aabf76904b\n",
            "Successfully built paho-mqtt\n",
            "Installing collected packages: paho-mqtt, simple-pid, donkeycar\n",
            "  Running setup.py develop for donkeycar\n",
            "Successfully installed donkeycar paho-mqtt-1.5.1 simple-pid-0.2.4\n"
          ],
          "name": "stdout"
        }
      ]
    },
    {
      "cell_type": "code",
      "metadata": {
        "id": "FTJTkh542XM-",
        "outputId": "a92409b1-6c35-4500-fa3d-e3ce8e4b9adc",
        "colab": {
          "base_uri": "https://localhost:8080/"
        }
      },
      "source": [
        "!pip list | grep tensorflow"
      ],
      "execution_count": 6,
      "outputs": [
        {
          "output_type": "stream",
          "text": [
            "mesh-tensorflow               0.1.12          \n",
            "tensorflow                    1.15.2          \n",
            "tensorflow-addons             0.8.3           \n",
            "tensorflow-datasets           4.0.1           \n",
            "tensorflow-estimator          1.15.1          \n",
            "tensorflow-gan                2.0.0           \n",
            "tensorflow-gcs-config         2.3.0           \n",
            "tensorflow-hub                0.10.0          \n",
            "tensorflow-metadata           0.24.0          \n",
            "tensorflow-privacy            0.2.2           \n",
            "tensorflow-probability        0.7.0           \n"
          ],
          "name": "stdout"
        }
      ]
    },
    {
      "cell_type": "markdown",
      "metadata": {
        "id": "syCctLq2r4Wk"
      },
      "source": [
        "## 4.2 DonkeyCar 프로젝트 생성하기\n",
        "\n",
        "DonkeyCar에 대한 나만의 프로젝트를 새로이 생성합니다. 프로젝트를 생성하기 위해서는 프로젝트 이름이 필요합니다. 여기서는 mycar라는 프로젝트명을 사용합니다. Donkeycar의 프로젝트 생성 형식은 다음과 같습니다.\n",
        "\n",
        "$ donkey createcar --path /content/mycar [enter]"
      ]
    },
    {
      "cell_type": "code",
      "metadata": {
        "id": "1xjJBSITyXy2",
        "outputId": "4f218bb9-0c87-4928-a096-dfc50e46d182",
        "colab": {
          "base_uri": "https://localhost:8080/"
        }
      },
      "source": [
        "!donkey createcar --path /content/mycar"
      ],
      "execution_count": 7,
      "outputs": [
        {
          "output_type": "stream",
          "text": [
            "using donkey v3.1.5 ...\n",
            "Creating car folder: /content/mycar\n",
            "making dir  /content/mycar\n",
            "Creating data & model folders.\n",
            "making dir  /content/mycar/models\n",
            "making dir  /content/mycar/data\n",
            "making dir  /content/mycar/logs\n",
            "Copying car application template: complete\n",
            "Copying car config defaults. Adjust these before starting your car.\n",
            "Copying train script. Adjust these before starting your car.\n",
            "Copying calibrate script. Adjust these before starting your car.\n",
            "Copying my car config overrides\n",
            "Donkey setup complete.\n"
          ],
          "name": "stdout"
        }
      ]
    },
    {
      "cell_type": "markdown",
      "metadata": {
        "id": "RkEtUoKIq2Ua"
      },
      "source": [
        "### (Q) 생성된 mycar 프로젝트는 어디에 ?\n",
        "\n",
        "탐색창의 파일을 클릭하면, 다음과 같이 /content 디렉토리 아래에 mycar폴더가 새롭게 생성되었다는 것을 확인할 수 있습니다. mycar폴더에는 3개의 폴더와 4개의 파이썬 파일이 생성됩니다.\n",
        "\n",
        "![Donkeycar User-Defined Project Folder](https://api.monosnap.com/file/download?id=yMcfRjpwpEpeZIkCqiq2nfX7ihdFjX)"
      ]
    },
    {
      "cell_type": "markdown",
      "metadata": {
        "id": "dnUy1Z1zro77"
      },
      "source": [
        "## 4.3 라즈베리파이의 주행데이타를 Google Colaboratory로 이동 준비(PC/노트북)\n",
        "\n",
        "* 라즈베리파이에 저장된 주행 영상데이타는 프로젝트 파일 폴더(예를 들어 mycar라고 가정) 아래에 data 폴더 아래에 tub_라는 이름을 시작하는 폴더에 순차번호를 붙여서 저장되어 있습니다. 예를들어, 폴더명이 tub_1_19-11-09라면, 11월 09일에 주행한 첫번째 주행영상이라는 의미로 해석이 가능합니다(~/mycar/data/tub_1_19-11-09).\n",
        "\n",
        "* 주행데이타는 개별(1회분의 주행영상)은 물론이고 여러개의 풀더(여러번의 주행영상들)을 모두 학습에 활용할 수 있기때문에 우선 PC로 모두 이동하여 저장하는 방법이 유용합니다.\n",
        "\n",
        "* 본 워크샵에서는 Paragon S/W의 extFS for Windows 소프트웨어를 사용해서 라즈베리파이의 SD카드로부터 프로젝트 폴더내 data폴더내의 tub_폴더 데이타를 PC/노트북으로 바로 복사할 수 있습니다. \n",
        "\n",
        "* 라즈베리파이 SD카드로부터 폴더 단위의 복사를 완료했다면, tub_ 폴더들을 Google Laboratory로 업로드하기 위해서 zip으로 묶고, 압축된 파일을 Google Laboratory로 업로드합니다.\n",
        "\n",
        "![Alt text](https://monosnap.com/image/cLWMOMwqgzhLhg2io0DgSBaov7NWKb)"
      ]
    },
    {
      "cell_type": "markdown",
      "metadata": {
        "id": "ixjmMBKvzrV4"
      },
      "source": [
        "## 4.4 Data.zip을 노트북/PC에서 Google Colaboratory로 업로드하기"
      ]
    },
    {
      "cell_type": "markdown",
      "metadata": {
        "id": "Kz4k56hs0TAD"
      },
      "source": [
        "#### PC/노트북에서 압축된 주행데이타 파일을 업로드 하기 위한 수행코드는 아래와 같습니다.\n",
        "\n",
        "업로드할 파일은 data.tar.gz 파일명을 가지며, 해당 파일이 업로드되면 아래의 수행코드에 따라 data.tar.gz파일이 mycar 폴더에 위치하게 되며, 자동적으로 압축이 해제되어 설치됩니다."
      ]
    },
    {
      "cell_type": "code",
      "metadata": {
        "id": "ws3tajS7iaex"
      },
      "source": [
        "import os\n",
        "from google.colab import files\n",
        "import shutil\n",
        "\n",
        "WORK_FOLDER = \"/content/mycar/data\"\n",
        "if(os.path.exists(WORK_FOLDER) == True):  \n",
        "    shutil.rmtree('/content/mycar/data')\n",
        "os.makedirs(WORK_FOLDER)"
      ],
      "execution_count": 8,
      "outputs": []
    },
    {
      "cell_type": "code",
      "metadata": {
        "id": "wkvP7rkCkR8W",
        "outputId": "304158ed-f09d-4208-e8e1-4c3703c9ab4b",
        "colab": {
          "base_uri": "https://localhost:8080/",
          "height": 35
        }
      },
      "source": [
        "%pwd"
      ],
      "execution_count": 9,
      "outputs": [
        {
          "output_type": "execute_result",
          "data": {
            "application/vnd.google.colaboratory.intrinsic+json": {
              "type": "string"
            },
            "text/plain": [
              "'/content/donkeycar'"
            ]
          },
          "metadata": {
            "tags": []
          },
          "execution_count": 9
        }
      ]
    },
    {
      "cell_type": "code",
      "metadata": {
        "id": "1Kb9gG4WkIIg",
        "outputId": "ca8027d0-6bd1-41a3-83b8-549d973e8fd0",
        "colab": {
          "base_uri": "https://localhost:8080/"
        }
      },
      "source": [
        "%cd \"/content/mycar\""
      ],
      "execution_count": 10,
      "outputs": [
        {
          "output_type": "stream",
          "text": [
            "/content/mycar\n"
          ],
          "name": "stdout"
        }
      ]
    },
    {
      "cell_type": "code",
      "metadata": {
        "id": "ncx9VYhKjCCJ",
        "outputId": "1ffba42f-34d2-4603-ee5b-0df601fb4d03",
        "colab": {
          "resources": {
            "http://localhost:8080/nbextensions/google.colab/files.js": {
              "data": "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",
              "ok": true,
              "headers": [
                [
                  "content-type",
                  "application/javascript"
                ]
              ],
              "status": 200,
              "status_text": ""
            }
          },
          "base_uri": "https://localhost:8080/",
          "height": 73
        }
      },
      "source": [
        "uploaded = files.upload()"
      ],
      "execution_count": 21,
      "outputs": [
        {
          "output_type": "display_data",
          "data": {
            "text/html": [
              "\n",
              "     <input type=\"file\" id=\"files-c948fd8e-d50f-4b01-ad49-415ed7d06d94\" name=\"files[]\" multiple disabled\n",
              "        style=\"border:none\" />\n",
              "     <output id=\"result-c948fd8e-d50f-4b01-ad49-415ed7d06d94\">\n",
              "      Upload widget is only available when the cell has been executed in the\n",
              "      current browser session. Please rerun this cell to enable.\n",
              "      </output>\n",
              "      <script src=\"/nbextensions/google.colab/files.js\"></script> "
            ],
            "text/plain": [
              "<IPython.core.display.HTML object>"
            ]
          },
          "metadata": {
            "tags": []
          }
        },
        {
          "output_type": "stream",
          "text": [
            "Saving data.tar.gz to data.tar.gz\n"
          ],
          "name": "stdout"
        }
      ]
    },
    {
      "cell_type": "code",
      "metadata": {
        "id": "ioZvktt50O5e",
        "outputId": "ee98690a-9674-4a54-d113-fec6dd3e0cbb",
        "colab": {
          "base_uri": "https://localhost:8080/"
        }
      },
      "source": [
        "# 압축을 해제하고, tar 파일을 풀기\n",
        "! gzip -cd data.tar.gz | tar xvf -"
      ],
      "execution_count": 22,
      "outputs": [
        {
          "output_type": "stream",
          "text": [
            "./data/\n",
            "./data/tub_2_20-11-11/\n",
            "./data/tub_2_20-11-11/record_34.json\n",
            "./data/tub_2_20-11-11/22_cam-image_array_.jpg\n",
            "./data/tub_2_20-11-11/record_3.json\n",
            "./data/tub_2_20-11-11/record_28.json\n",
            "./data/tub_2_20-11-11/record_15.json\n",
            "./data/tub_2_20-11-11/record_29.json\n",
            "./data/tub_2_20-11-11/record_54.json\n",
            "./data/tub_2_20-11-11/record_17.json\n",
            "./data/tub_2_20-11-11/53_cam-image_array_.jpg\n",
            "./data/tub_2_20-11-11/record_19.json\n",
            "./data/tub_2_20-11-11/38_cam-image_array_.jpg\n",
            "./data/tub_2_20-11-11/49_cam-image_array_.jpg\n",
            "./data/tub_2_20-11-11/57_cam-image_array_.jpg\n",
            "./data/tub_2_20-11-11/32_cam-image_array_.jpg\n",
            "./data/tub_2_20-11-11/record_61.json\n",
            "./data/tub_2_20-11-11/41_cam-image_array_.jpg\n",
            "./data/tub_2_20-11-11/record_47.json\n",
            "./data/tub_2_20-11-11/record_38.json\n",
            "./data/tub_2_20-11-11/record_9.json\n",
            "./data/tub_2_20-11-11/69_cam-image_array_.jpg\n",
            "./data/tub_2_20-11-11/62_cam-image_array_.jpg\n",
            "./data/tub_2_20-11-11/54_cam-image_array_.jpg\n",
            "./data/tub_2_20-11-11/record_53.json\n",
            "./data/tub_2_20-11-11/63_cam-image_array_.jpg\n",
            "./data/tub_2_20-11-11/record_50.json\n",
            "./data/tub_2_20-11-11/record_18.json\n",
            "./data/tub_2_20-11-11/record_63.json\n",
            "./data/tub_2_20-11-11/27_cam-image_array_.jpg\n",
            "./data/tub_2_20-11-11/record_68.json\n",
            "./data/tub_2_20-11-11/50_cam-image_array_.jpg\n",
            "./data/tub_2_20-11-11/record_5.json\n",
            "./data/tub_2_20-11-11/record_10.json\n",
            "./data/tub_2_20-11-11/70_cam-image_array_.jpg\n",
            "./data/tub_2_20-11-11/record_30.json\n",
            "./data/tub_2_20-11-11/record_59.json\n",
            "./data/tub_2_20-11-11/record_25.json\n",
            "./data/tub_2_20-11-11/56_cam-image_array_.jpg\n",
            "./data/tub_2_20-11-11/51_cam-image_array_.jpg\n",
            "./data/tub_2_20-11-11/44_cam-image_array_.jpg\n",
            "./data/tub_2_20-11-11/record_39.json\n",
            "./data/tub_2_20-11-11/15_cam-image_array_.jpg\n",
            "./data/tub_2_20-11-11/record_27.json\n",
            "./data/tub_2_20-11-11/21_cam-image_array_.jpg\n",
            "./data/tub_2_20-11-11/28_cam-image_array_.jpg\n",
            "./data/tub_2_20-11-11/record_62.json\n",
            "./data/tub_2_20-11-11/record_36.json\n",
            "./data/tub_2_20-11-11/25_cam-image_array_.jpg\n",
            "./data/tub_2_20-11-11/14_cam-image_array_.jpg\n",
            "./data/tub_2_20-11-11/record_60.json\n",
            "./data/tub_2_20-11-11/67_cam-image_array_.jpg\n",
            "./data/tub_2_20-11-11/record_14.json\n",
            "./data/tub_2_20-11-11/record_55.json\n",
            "./data/tub_2_20-11-11/40_cam-image_array_.jpg\n",
            "./data/tub_2_20-11-11/record_33.json\n",
            "./data/tub_2_20-11-11/record_64.json\n",
            "./data/tub_2_20-11-11/26_cam-image_array_.jpg\n",
            "./data/tub_2_20-11-11/65_cam-image_array_.jpg\n",
            "./data/tub_2_20-11-11/33_cam-image_array_.jpg\n",
            "./data/tub_2_20-11-11/record_67.json\n",
            "./data/tub_2_20-11-11/24_cam-image_array_.jpg\n",
            "./data/tub_2_20-11-11/36_cam-image_array_.jpg\n",
            "./data/tub_2_20-11-11/23_cam-image_array_.jpg\n",
            "./data/tub_2_20-11-11/52_cam-image_array_.jpg\n",
            "./data/tub_2_20-11-11/16_cam-image_array_.jpg\n",
            "./data/tub_2_20-11-11/record_7.json\n",
            "./data/tub_2_20-11-11/record_69.json\n",
            "./data/tub_2_20-11-11/record_51.json\n",
            "./data/tub_2_20-11-11/record_45.json\n",
            "./data/tub_2_20-11-11/record_52.json\n",
            "./data/tub_2_20-11-11/12_cam-image_array_.jpg\n",
            "./data/tub_2_20-11-11/45_cam-image_array_.jpg\n",
            "./data/tub_2_20-11-11/30_cam-image_array_.jpg\n",
            "./data/tub_2_20-11-11/record_13.json\n",
            "./data/tub_2_20-11-11/record_65.json\n",
            "./data/tub_2_20-11-11/record_16.json\n",
            "./data/tub_2_20-11-11/record_20.json\n",
            "./data/tub_2_20-11-11/record_70.json\n",
            "./data/tub_2_20-11-11/record_40.json\n",
            "./data/tub_2_20-11-11/record_21.json\n",
            "./data/tub_2_20-11-11/19_cam-image_array_.jpg\n",
            "./data/tub_2_20-11-11/record_12.json\n",
            "./data/tub_2_20-11-11/record_42.json\n",
            "./data/tub_2_20-11-11/48_cam-image_array_.jpg\n",
            "./data/tub_2_20-11-11/record_23.json\n",
            "./data/tub_2_20-11-11/31_cam-image_array_.jpg\n",
            "./data/tub_2_20-11-11/record_11.json\n",
            "./data/tub_2_20-11-11/55_cam-image_array_.jpg\n",
            "./data/tub_2_20-11-11/record_57.json\n",
            "./data/tub_2_20-11-11/61_cam-image_array_.jpg\n",
            "./data/tub_2_20-11-11/record_66.json\n",
            "./data/tub_2_20-11-11/2_cam-image_array_.jpg\n",
            "./data/tub_2_20-11-11/record_1.json\n",
            "./data/tub_2_20-11-11/10_cam-image_array_.jpg\n",
            "./data/tub_2_20-11-11/64_cam-image_array_.jpg\n",
            "./data/tub_2_20-11-11/record_32.json\n",
            "./data/tub_2_20-11-11/20_cam-image_array_.jpg\n",
            "./data/tub_2_20-11-11/1_cam-image_array_.jpg\n",
            "./data/tub_2_20-11-11/record_58.json\n",
            "./data/tub_2_20-11-11/35_cam-image_array_.jpg\n",
            "./data/tub_2_20-11-11/record_48.json\n",
            "./data/tub_2_20-11-11/record_41.json\n",
            "./data/tub_2_20-11-11/7_cam-image_array_.jpg\n",
            "./data/tub_2_20-11-11/record_44.json\n",
            "./data/tub_2_20-11-11/record_4.json\n",
            "./data/tub_2_20-11-11/record_46.json\n",
            "./data/tub_2_20-11-11/37_cam-image_array_.jpg\n",
            "./data/tub_2_20-11-11/3_cam-image_array_.jpg\n",
            "./data/tub_2_20-11-11/meta.json\n",
            "./data/tub_2_20-11-11/record_35.json\n",
            "./data/tub_2_20-11-11/8_cam-image_array_.jpg\n",
            "./data/tub_2_20-11-11/58_cam-image_array_.jpg\n",
            "./data/tub_2_20-11-11/29_cam-image_array_.jpg\n",
            "./data/tub_2_20-11-11/13_cam-image_array_.jpg\n",
            "./data/tub_2_20-11-11/5_cam-image_array_.jpg\n",
            "./data/tub_2_20-11-11/record_43.json\n",
            "./data/tub_2_20-11-11/11_cam-image_array_.jpg\n",
            "./data/tub_2_20-11-11/6_cam-image_array_.jpg\n",
            "./data/tub_2_20-11-11/record_6.json\n",
            "./data/tub_2_20-11-11/record_2.json\n",
            "./data/tub_2_20-11-11/record_26.json\n",
            "./data/tub_2_20-11-11/4_cam-image_array_.jpg\n",
            "./data/tub_2_20-11-11/17_cam-image_array_.jpg\n",
            "./data/tub_2_20-11-11/18_cam-image_array_.jpg\n",
            "./data/tub_2_20-11-11/59_cam-image_array_.jpg\n",
            "./data/tub_2_20-11-11/record_49.json\n",
            "./data/tub_2_20-11-11/68_cam-image_array_.jpg\n",
            "./data/tub_2_20-11-11/record_56.json\n",
            "./data/tub_2_20-11-11/record_8.json\n",
            "./data/tub_2_20-11-11/66_cam-image_array_.jpg\n",
            "./data/tub_2_20-11-11/43_cam-image_array_.jpg\n",
            "./data/tub_2_20-11-11/39_cam-image_array_.jpg\n",
            "./data/tub_2_20-11-11/47_cam-image_array_.jpg\n",
            "./data/tub_2_20-11-11/record_37.json\n",
            "./data/tub_2_20-11-11/record_24.json\n",
            "./data/tub_2_20-11-11/record_31.json\n",
            "./data/tub_2_20-11-11/46_cam-image_array_.jpg\n",
            "./data/tub_2_20-11-11/42_cam-image_array_.jpg\n",
            "./data/tub_2_20-11-11/60_cam-image_array_.jpg\n",
            "./data/tub_2_20-11-11/34_cam-image_array_.jpg\n",
            "./data/tub_2_20-11-11/9_cam-image_array_.jpg\n",
            "./data/tub_2_20-11-11/record_22.json\n",
            "./data/tub_3_20-11-11/\n",
            "./data/tub_3_20-11-11/record_34.json\n",
            "./data/tub_3_20-11-11/22_cam-image_array_.jpg\n",
            "./data/tub_3_20-11-11/record_3.json\n",
            "./data/tub_3_20-11-11/record_28.json\n",
            "./data/tub_3_20-11-11/record_80.json\n",
            "./data/tub_3_20-11-11/record_15.json\n",
            "./data/tub_3_20-11-11/record_29.json\n",
            "./data/tub_3_20-11-11/record_76.json\n",
            "./data/tub_3_20-11-11/record_54.json\n",
            "./data/tub_3_20-11-11/record_17.json\n",
            "./data/tub_3_20-11-11/53_cam-image_array_.jpg\n",
            "./data/tub_3_20-11-11/record_19.json\n",
            "./data/tub_3_20-11-11/83_cam-image_array_.jpg\n",
            "./data/tub_3_20-11-11/38_cam-image_array_.jpg\n",
            "./data/tub_3_20-11-11/84_cam-image_array_.jpg\n",
            "./data/tub_3_20-11-11/49_cam-image_array_.jpg\n",
            "./data/tub_3_20-11-11/57_cam-image_array_.jpg\n",
            "./data/tub_3_20-11-11/71_cam-image_array_.jpg\n",
            "./data/tub_3_20-11-11/32_cam-image_array_.jpg\n",
            "./data/tub_3_20-11-11/record_61.json\n",
            "./data/tub_3_20-11-11/record_90.json\n",
            "./data/tub_3_20-11-11/41_cam-image_array_.jpg\n",
            "./data/tub_3_20-11-11/record_47.json\n",
            "./data/tub_3_20-11-11/record_38.json\n",
            "./data/tub_3_20-11-11/record_9.json\n",
            "./data/tub_3_20-11-11/69_cam-image_array_.jpg\n",
            "./data/tub_3_20-11-11/62_cam-image_array_.jpg\n",
            "./data/tub_3_20-11-11/record_89.json\n",
            "./data/tub_3_20-11-11/54_cam-image_array_.jpg\n",
            "./data/tub_3_20-11-11/record_53.json\n",
            "./data/tub_3_20-11-11/63_cam-image_array_.jpg\n",
            "./data/tub_3_20-11-11/record_85.json\n",
            "./data/tub_3_20-11-11/record_50.json\n",
            "./data/tub_3_20-11-11/record_18.json\n",
            "./data/tub_3_20-11-11/record_88.json\n",
            "./data/tub_3_20-11-11/record_63.json\n",
            "./data/tub_3_20-11-11/27_cam-image_array_.jpg\n",
            "./data/tub_3_20-11-11/80_cam-image_array_.jpg\n",
            "./data/tub_3_20-11-11/record_68.json\n",
            "./data/tub_3_20-11-11/50_cam-image_array_.jpg\n",
            "./data/tub_3_20-11-11/record_5.json\n",
            "./data/tub_3_20-11-11/81_cam-image_array_.jpg\n",
            "./data/tub_3_20-11-11/record_10.json\n",
            "./data/tub_3_20-11-11/70_cam-image_array_.jpg\n",
            "./data/tub_3_20-11-11/record_30.json\n",
            "./data/tub_3_20-11-11/record_59.json\n",
            "./data/tub_3_20-11-11/record_25.json\n",
            "./data/tub_3_20-11-11/56_cam-image_array_.jpg\n",
            "./data/tub_3_20-11-11/51_cam-image_array_.jpg\n",
            "./data/tub_3_20-11-11/44_cam-image_array_.jpg\n",
            "./data/tub_3_20-11-11/record_39.json\n",
            "./data/tub_3_20-11-11/record_71.json\n",
            "./data/tub_3_20-11-11/15_cam-image_array_.jpg\n",
            "./data/tub_3_20-11-11/record_27.json\n",
            "./data/tub_3_20-11-11/21_cam-image_array_.jpg\n",
            "./data/tub_3_20-11-11/28_cam-image_array_.jpg\n",
            "./data/tub_3_20-11-11/record_62.json\n",
            "./data/tub_3_20-11-11/79_cam-image_array_.jpg\n",
            "./data/tub_3_20-11-11/87_cam-image_array_.jpg\n",
            "./data/tub_3_20-11-11/record_36.json\n",
            "./data/tub_3_20-11-11/25_cam-image_array_.jpg\n",
            "./data/tub_3_20-11-11/14_cam-image_array_.jpg\n",
            "./data/tub_3_20-11-11/record_60.json\n",
            "./data/tub_3_20-11-11/67_cam-image_array_.jpg\n",
            "./data/tub_3_20-11-11/73_cam-image_array_.jpg\n",
            "./data/tub_3_20-11-11/85_cam-image_array_.jpg\n",
            "./data/tub_3_20-11-11/record_14.json\n",
            "./data/tub_3_20-11-11/89_cam-image_array_.jpg\n",
            "./data/tub_3_20-11-11/record_55.json\n",
            "./data/tub_3_20-11-11/86_cam-image_array_.jpg\n",
            "./data/tub_3_20-11-11/40_cam-image_array_.jpg\n",
            "./data/tub_3_20-11-11/record_33.json\n",
            "./data/tub_3_20-11-11/record_64.json\n",
            "./data/tub_3_20-11-11/26_cam-image_array_.jpg\n",
            "./data/tub_3_20-11-11/65_cam-image_array_.jpg\n",
            "./data/tub_3_20-11-11/record_77.json\n",
            "./data/tub_3_20-11-11/33_cam-image_array_.jpg\n",
            "./data/tub_3_20-11-11/record_67.json\n",
            "./data/tub_3_20-11-11/24_cam-image_array_.jpg\n",
            "./data/tub_3_20-11-11/record_83.json\n",
            "./data/tub_3_20-11-11/82_cam-image_array_.jpg\n",
            "./data/tub_3_20-11-11/36_cam-image_array_.jpg\n",
            "./data/tub_3_20-11-11/23_cam-image_array_.jpg\n",
            "./data/tub_3_20-11-11/52_cam-image_array_.jpg\n",
            "./data/tub_3_20-11-11/16_cam-image_array_.jpg\n",
            "./data/tub_3_20-11-11/record_7.json\n",
            "./data/tub_3_20-11-11/record_69.json\n",
            "./data/tub_3_20-11-11/record_51.json\n",
            "./data/tub_3_20-11-11/record_45.json\n",
            "./data/tub_3_20-11-11/record_52.json\n",
            "./data/tub_3_20-11-11/91_cam-image_array_.jpg\n",
            "./data/tub_3_20-11-11/record_75.json\n",
            "./data/tub_3_20-11-11/12_cam-image_array_.jpg\n",
            "./data/tub_3_20-11-11/45_cam-image_array_.jpg\n",
            "./data/tub_3_20-11-11/30_cam-image_array_.jpg\n",
            "./data/tub_3_20-11-11/record_79.json\n",
            "./data/tub_3_20-11-11/record_13.json\n",
            "./data/tub_3_20-11-11/record_65.json\n",
            "./data/tub_3_20-11-11/record_16.json\n",
            "./data/tub_3_20-11-11/record_20.json\n",
            "./data/tub_3_20-11-11/record_70.json\n",
            "./data/tub_3_20-11-11/record_40.json\n",
            "./data/tub_3_20-11-11/record_21.json\n",
            "./data/tub_3_20-11-11/19_cam-image_array_.jpg\n",
            "./data/tub_3_20-11-11/record_12.json\n",
            "./data/tub_3_20-11-11/record_42.json\n",
            "./data/tub_3_20-11-11/48_cam-image_array_.jpg\n",
            "./data/tub_3_20-11-11/record_23.json\n",
            "./data/tub_3_20-11-11/31_cam-image_array_.jpg\n",
            "./data/tub_3_20-11-11/record_11.json\n",
            "./data/tub_3_20-11-11/55_cam-image_array_.jpg\n",
            "./data/tub_3_20-11-11/record_57.json\n",
            "./data/tub_3_20-11-11/61_cam-image_array_.jpg\n",
            "./data/tub_3_20-11-11/record_66.json\n",
            "./data/tub_3_20-11-11/2_cam-image_array_.jpg\n",
            "./data/tub_3_20-11-11/record_1.json\n",
            "./data/tub_3_20-11-11/10_cam-image_array_.jpg\n",
            "./data/tub_3_20-11-11/64_cam-image_array_.jpg\n",
            "./data/tub_3_20-11-11/record_32.json\n",
            "./data/tub_3_20-11-11/20_cam-image_array_.jpg\n",
            "./data/tub_3_20-11-11/1_cam-image_array_.jpg\n",
            "./data/tub_3_20-11-11/record_58.json\n",
            "./data/tub_3_20-11-11/77_cam-image_array_.jpg\n",
            "./data/tub_3_20-11-11/35_cam-image_array_.jpg\n",
            "./data/tub_3_20-11-11/record_48.json\n",
            "./data/tub_3_20-11-11/72_cam-image_array_.jpg\n",
            "./data/tub_3_20-11-11/record_41.json\n",
            "./data/tub_3_20-11-11/record_86.json\n",
            "./data/tub_3_20-11-11/7_cam-image_array_.jpg\n",
            "./data/tub_3_20-11-11/record_44.json\n",
            "./data/tub_3_20-11-11/record_4.json\n",
            "./data/tub_3_20-11-11/record_84.json\n",
            "./data/tub_3_20-11-11/90_cam-image_array_.jpg\n",
            "./data/tub_3_20-11-11/record_46.json\n",
            "./data/tub_3_20-11-11/78_cam-image_array_.jpg\n",
            "./data/tub_3_20-11-11/record_73.json\n",
            "./data/tub_3_20-11-11/37_cam-image_array_.jpg\n",
            "./data/tub_3_20-11-11/3_cam-image_array_.jpg\n",
            "./data/tub_3_20-11-11/74_cam-image_array_.jpg\n",
            "./data/tub_3_20-11-11/meta.json\n",
            "./data/tub_3_20-11-11/record_35.json\n",
            "./data/tub_3_20-11-11/record_82.json\n",
            "./data/tub_3_20-11-11/record_81.json\n",
            "./data/tub_3_20-11-11/8_cam-image_array_.jpg\n",
            "./data/tub_3_20-11-11/58_cam-image_array_.jpg\n",
            "./data/tub_3_20-11-11/29_cam-image_array_.jpg\n",
            "./data/tub_3_20-11-11/88_cam-image_array_.jpg\n",
            "./data/tub_3_20-11-11/13_cam-image_array_.jpg\n",
            "./data/tub_3_20-11-11/5_cam-image_array_.jpg\n",
            "./data/tub_3_20-11-11/record_43.json\n",
            "./data/tub_3_20-11-11/record_72.json\n",
            "./data/tub_3_20-11-11/11_cam-image_array_.jpg\n",
            "./data/tub_3_20-11-11/75_cam-image_array_.jpg\n",
            "./data/tub_3_20-11-11/6_cam-image_array_.jpg\n",
            "./data/tub_3_20-11-11/record_6.json\n",
            "./data/tub_3_20-11-11/record_78.json\n",
            "./data/tub_3_20-11-11/record_2.json\n",
            "./data/tub_3_20-11-11/record_26.json\n",
            "./data/tub_3_20-11-11/record_74.json\n",
            "./data/tub_3_20-11-11/4_cam-image_array_.jpg\n",
            "./data/tub_3_20-11-11/17_cam-image_array_.jpg\n",
            "./data/tub_3_20-11-11/18_cam-image_array_.jpg\n",
            "./data/tub_3_20-11-11/59_cam-image_array_.jpg\n",
            "./data/tub_3_20-11-11/record_49.json\n",
            "./data/tub_3_20-11-11/record_91.json\n",
            "./data/tub_3_20-11-11/68_cam-image_array_.jpg\n",
            "./data/tub_3_20-11-11/record_56.json\n",
            "./data/tub_3_20-11-11/record_87.json\n",
            "./data/tub_3_20-11-11/record_8.json\n",
            "./data/tub_3_20-11-11/66_cam-image_array_.jpg\n",
            "./data/tub_3_20-11-11/43_cam-image_array_.jpg\n",
            "./data/tub_3_20-11-11/39_cam-image_array_.jpg\n",
            "./data/tub_3_20-11-11/47_cam-image_array_.jpg\n",
            "./data/tub_3_20-11-11/record_37.json\n",
            "./data/tub_3_20-11-11/record_24.json\n",
            "./data/tub_3_20-11-11/record_31.json\n",
            "./data/tub_3_20-11-11/46_cam-image_array_.jpg\n",
            "./data/tub_3_20-11-11/42_cam-image_array_.jpg\n",
            "./data/tub_3_20-11-11/60_cam-image_array_.jpg\n",
            "./data/tub_3_20-11-11/76_cam-image_array_.jpg\n",
            "./data/tub_3_20-11-11/34_cam-image_array_.jpg\n",
            "./data/tub_3_20-11-11/9_cam-image_array_.jpg\n",
            "./data/tub_3_20-11-11/record_22.json\n",
            "./data/tub_5_20-11-11/\n",
            "./data/tub_5_20-11-11/record_34.json\n",
            "./data/tub_5_20-11-11/22_cam-image_array_.jpg\n",
            "./data/tub_5_20-11-11/record_3.json\n",
            "./data/tub_5_20-11-11/record_28.json\n",
            "./data/tub_5_20-11-11/record_80.json\n",
            "./data/tub_5_20-11-11/record_15.json\n",
            "./data/tub_5_20-11-11/record_29.json\n",
            "./data/tub_5_20-11-11/record_76.json\n",
            "./data/tub_5_20-11-11/record_54.json\n",
            "./data/tub_5_20-11-11/record_17.json\n",
            "./data/tub_5_20-11-11/53_cam-image_array_.jpg\n",
            "./data/tub_5_20-11-11/record_19.json\n",
            "./data/tub_5_20-11-11/83_cam-image_array_.jpg\n",
            "./data/tub_5_20-11-11/38_cam-image_array_.jpg\n",
            "./data/tub_5_20-11-11/84_cam-image_array_.jpg\n",
            "./data/tub_5_20-11-11/49_cam-image_array_.jpg\n",
            "./data/tub_5_20-11-11/57_cam-image_array_.jpg\n",
            "./data/tub_5_20-11-11/71_cam-image_array_.jpg\n",
            "./data/tub_5_20-11-11/32_cam-image_array_.jpg\n",
            "./data/tub_5_20-11-11/record_61.json\n",
            "./data/tub_5_20-11-11/record_90.json\n",
            "./data/tub_5_20-11-11/41_cam-image_array_.jpg\n",
            "./data/tub_5_20-11-11/record_47.json\n",
            "./data/tub_5_20-11-11/record_38.json\n",
            "./data/tub_5_20-11-11/record_9.json\n",
            "./data/tub_5_20-11-11/69_cam-image_array_.jpg\n",
            "./data/tub_5_20-11-11/62_cam-image_array_.jpg\n",
            "./data/tub_5_20-11-11/record_89.json\n",
            "./data/tub_5_20-11-11/54_cam-image_array_.jpg\n",
            "./data/tub_5_20-11-11/record_53.json\n",
            "./data/tub_5_20-11-11/63_cam-image_array_.jpg\n",
            "./data/tub_5_20-11-11/record_85.json\n",
            "./data/tub_5_20-11-11/record_50.json\n",
            "./data/tub_5_20-11-11/record_18.json\n",
            "./data/tub_5_20-11-11/record_88.json\n",
            "./data/tub_5_20-11-11/record_63.json\n",
            "./data/tub_5_20-11-11/27_cam-image_array_.jpg\n",
            "./data/tub_5_20-11-11/80_cam-image_array_.jpg\n",
            "./data/tub_5_20-11-11/record_68.json\n",
            "./data/tub_5_20-11-11/50_cam-image_array_.jpg\n",
            "./data/tub_5_20-11-11/record_5.json\n",
            "./data/tub_5_20-11-11/81_cam-image_array_.jpg\n",
            "./data/tub_5_20-11-11/record_10.json\n",
            "./data/tub_5_20-11-11/70_cam-image_array_.jpg\n",
            "./data/tub_5_20-11-11/record_30.json\n",
            "./data/tub_5_20-11-11/record_59.json\n",
            "./data/tub_5_20-11-11/record_25.json\n",
            "./data/tub_5_20-11-11/56_cam-image_array_.jpg\n",
            "./data/tub_5_20-11-11/51_cam-image_array_.jpg\n",
            "./data/tub_5_20-11-11/44_cam-image_array_.jpg\n",
            "./data/tub_5_20-11-11/record_39.json\n",
            "./data/tub_5_20-11-11/record_71.json\n",
            "./data/tub_5_20-11-11/15_cam-image_array_.jpg\n",
            "./data/tub_5_20-11-11/record_27.json\n",
            "./data/tub_5_20-11-11/21_cam-image_array_.jpg\n",
            "./data/tub_5_20-11-11/28_cam-image_array_.jpg\n",
            "./data/tub_5_20-11-11/record_62.json\n",
            "./data/tub_5_20-11-11/79_cam-image_array_.jpg\n",
            "./data/tub_5_20-11-11/87_cam-image_array_.jpg\n",
            "./data/tub_5_20-11-11/record_36.json\n",
            "./data/tub_5_20-11-11/25_cam-image_array_.jpg\n",
            "./data/tub_5_20-11-11/14_cam-image_array_.jpg\n",
            "./data/tub_5_20-11-11/record_60.json\n",
            "./data/tub_5_20-11-11/67_cam-image_array_.jpg\n",
            "./data/tub_5_20-11-11/73_cam-image_array_.jpg\n",
            "./data/tub_5_20-11-11/85_cam-image_array_.jpg\n",
            "./data/tub_5_20-11-11/record_14.json\n",
            "./data/tub_5_20-11-11/89_cam-image_array_.jpg\n",
            "./data/tub_5_20-11-11/record_55.json\n",
            "./data/tub_5_20-11-11/86_cam-image_array_.jpg\n",
            "./data/tub_5_20-11-11/40_cam-image_array_.jpg\n",
            "./data/tub_5_20-11-11/record_33.json\n",
            "./data/tub_5_20-11-11/record_64.json\n",
            "./data/tub_5_20-11-11/26_cam-image_array_.jpg\n",
            "./data/tub_5_20-11-11/65_cam-image_array_.jpg\n",
            "./data/tub_5_20-11-11/record_77.json\n",
            "./data/tub_5_20-11-11/33_cam-image_array_.jpg\n",
            "./data/tub_5_20-11-11/record_67.json\n",
            "./data/tub_5_20-11-11/24_cam-image_array_.jpg\n",
            "./data/tub_5_20-11-11/record_83.json\n",
            "./data/tub_5_20-11-11/82_cam-image_array_.jpg\n",
            "./data/tub_5_20-11-11/36_cam-image_array_.jpg\n",
            "./data/tub_5_20-11-11/23_cam-image_array_.jpg\n",
            "./data/tub_5_20-11-11/52_cam-image_array_.jpg\n",
            "./data/tub_5_20-11-11/16_cam-image_array_.jpg\n",
            "./data/tub_5_20-11-11/record_7.json\n",
            "./data/tub_5_20-11-11/record_69.json\n",
            "./data/tub_5_20-11-11/record_51.json\n",
            "./data/tub_5_20-11-11/record_45.json\n",
            "./data/tub_5_20-11-11/record_52.json\n",
            "./data/tub_5_20-11-11/91_cam-image_array_.jpg\n",
            "./data/tub_5_20-11-11/record_75.json\n",
            "./data/tub_5_20-11-11/12_cam-image_array_.jpg\n",
            "./data/tub_5_20-11-11/45_cam-image_array_.jpg\n",
            "./data/tub_5_20-11-11/30_cam-image_array_.jpg\n",
            "./data/tub_5_20-11-11/record_79.json\n",
            "./data/tub_5_20-11-11/record_13.json\n",
            "./data/tub_5_20-11-11/record_65.json\n",
            "./data/tub_5_20-11-11/record_16.json\n",
            "./data/tub_5_20-11-11/record_20.json\n",
            "./data/tub_5_20-11-11/record_70.json\n",
            "./data/tub_5_20-11-11/record_40.json\n",
            "./data/tub_5_20-11-11/record_21.json\n",
            "./data/tub_5_20-11-11/19_cam-image_array_.jpg\n",
            "./data/tub_5_20-11-11/record_12.json\n",
            "./data/tub_5_20-11-11/record_42.json\n",
            "./data/tub_5_20-11-11/48_cam-image_array_.jpg\n",
            "./data/tub_5_20-11-11/record_23.json\n",
            "./data/tub_5_20-11-11/31_cam-image_array_.jpg\n",
            "./data/tub_5_20-11-11/record_11.json\n",
            "./data/tub_5_20-11-11/55_cam-image_array_.jpg\n",
            "./data/tub_5_20-11-11/record_57.json\n",
            "./data/tub_5_20-11-11/61_cam-image_array_.jpg\n",
            "./data/tub_5_20-11-11/record_66.json\n",
            "./data/tub_5_20-11-11/2_cam-image_array_.jpg\n",
            "./data/tub_5_20-11-11/record_1.json\n",
            "./data/tub_5_20-11-11/10_cam-image_array_.jpg\n",
            "./data/tub_5_20-11-11/64_cam-image_array_.jpg\n",
            "./data/tub_5_20-11-11/record_32.json\n",
            "./data/tub_5_20-11-11/20_cam-image_array_.jpg\n",
            "./data/tub_5_20-11-11/1_cam-image_array_.jpg\n",
            "./data/tub_5_20-11-11/record_58.json\n",
            "./data/tub_5_20-11-11/77_cam-image_array_.jpg\n",
            "./data/tub_5_20-11-11/35_cam-image_array_.jpg\n",
            "./data/tub_5_20-11-11/record_48.json\n",
            "./data/tub_5_20-11-11/72_cam-image_array_.jpg\n",
            "./data/tub_5_20-11-11/record_41.json\n",
            "./data/tub_5_20-11-11/record_86.json\n",
            "./data/tub_5_20-11-11/7_cam-image_array_.jpg\n",
            "./data/tub_5_20-11-11/record_44.json\n",
            "./data/tub_5_20-11-11/record_4.json\n",
            "./data/tub_5_20-11-11/record_84.json\n",
            "./data/tub_5_20-11-11/90_cam-image_array_.jpg\n",
            "./data/tub_5_20-11-11/record_46.json\n",
            "./data/tub_5_20-11-11/78_cam-image_array_.jpg\n",
            "./data/tub_5_20-11-11/record_73.json\n",
            "./data/tub_5_20-11-11/37_cam-image_array_.jpg\n",
            "./data/tub_5_20-11-11/3_cam-image_array_.jpg\n",
            "./data/tub_5_20-11-11/74_cam-image_array_.jpg\n",
            "./data/tub_5_20-11-11/meta.json\n",
            "./data/tub_5_20-11-11/record_35.json\n",
            "./data/tub_5_20-11-11/record_82.json\n",
            "./data/tub_5_20-11-11/record_81.json\n",
            "./data/tub_5_20-11-11/8_cam-image_array_.jpg\n",
            "./data/tub_5_20-11-11/58_cam-image_array_.jpg\n",
            "./data/tub_5_20-11-11/29_cam-image_array_.jpg\n",
            "./data/tub_5_20-11-11/88_cam-image_array_.jpg\n",
            "./data/tub_5_20-11-11/13_cam-image_array_.jpg\n",
            "./data/tub_5_20-11-11/5_cam-image_array_.jpg\n",
            "./data/tub_5_20-11-11/record_43.json\n",
            "./data/tub_5_20-11-11/record_72.json\n",
            "./data/tub_5_20-11-11/11_cam-image_array_.jpg\n",
            "./data/tub_5_20-11-11/75_cam-image_array_.jpg\n",
            "./data/tub_5_20-11-11/6_cam-image_array_.jpg\n",
            "./data/tub_5_20-11-11/record_6.json\n",
            "./data/tub_5_20-11-11/record_78.json\n",
            "./data/tub_5_20-11-11/record_2.json\n",
            "./data/tub_5_20-11-11/record_26.json\n",
            "./data/tub_5_20-11-11/record_74.json\n",
            "./data/tub_5_20-11-11/4_cam-image_array_.jpg\n",
            "./data/tub_5_20-11-11/17_cam-image_array_.jpg\n",
            "./data/tub_5_20-11-11/18_cam-image_array_.jpg\n",
            "./data/tub_5_20-11-11/59_cam-image_array_.jpg\n",
            "./data/tub_5_20-11-11/record_49.json\n",
            "./data/tub_5_20-11-11/record_91.json\n",
            "./data/tub_5_20-11-11/68_cam-image_array_.jpg\n",
            "./data/tub_5_20-11-11/record_56.json\n",
            "./data/tub_5_20-11-11/record_87.json\n",
            "./data/tub_5_20-11-11/record_8.json\n",
            "./data/tub_5_20-11-11/66_cam-image_array_.jpg\n",
            "./data/tub_5_20-11-11/43_cam-image_array_.jpg\n",
            "./data/tub_5_20-11-11/39_cam-image_array_.jpg\n",
            "./data/tub_5_20-11-11/47_cam-image_array_.jpg\n",
            "./data/tub_5_20-11-11/record_37.json\n",
            "./data/tub_5_20-11-11/record_24.json\n",
            "./data/tub_5_20-11-11/record_31.json\n",
            "./data/tub_5_20-11-11/46_cam-image_array_.jpg\n",
            "./data/tub_5_20-11-11/42_cam-image_array_.jpg\n",
            "./data/tub_5_20-11-11/60_cam-image_array_.jpg\n",
            "./data/tub_5_20-11-11/76_cam-image_array_.jpg\n",
            "./data/tub_5_20-11-11/34_cam-image_array_.jpg\n",
            "./data/tub_5_20-11-11/9_cam-image_array_.jpg\n",
            "./data/tub_5_20-11-11/record_22.json\n",
            "./data/tub_4_20-11-11/\n",
            "./data/tub_4_20-11-11/94_cam-image_array_.jpg\n",
            "./data/tub_4_20-11-11/record_34.json\n",
            "./data/tub_4_20-11-11/22_cam-image_array_.jpg\n",
            "./data/tub_4_20-11-11/record_114.json\n",
            "./data/tub_4_20-11-11/104_cam-image_array_.jpg\n",
            "./data/tub_4_20-11-11/record_3.json\n",
            "./data/tub_4_20-11-11/record_28.json\n",
            "./data/tub_4_20-11-11/record_80.json\n",
            "./data/tub_4_20-11-11/112_cam-image_array_.jpg\n",
            "./data/tub_4_20-11-11/record_15.json\n",
            "./data/tub_4_20-11-11/record_29.json\n",
            "./data/tub_4_20-11-11/record_76.json\n",
            "./data/tub_4_20-11-11/record_54.json\n",
            "./data/tub_4_20-11-11/record_17.json\n",
            "./data/tub_4_20-11-11/110_cam-image_array_.jpg\n",
            "./data/tub_4_20-11-11/record_109.json\n",
            "./data/tub_4_20-11-11/53_cam-image_array_.jpg\n",
            "./data/tub_4_20-11-11/record_19.json\n",
            "./data/tub_4_20-11-11/83_cam-image_array_.jpg\n",
            "./data/tub_4_20-11-11/38_cam-image_array_.jpg\n",
            "./data/tub_4_20-11-11/84_cam-image_array_.jpg\n",
            "./data/tub_4_20-11-11/49_cam-image_array_.jpg\n",
            "./data/tub_4_20-11-11/57_cam-image_array_.jpg\n",
            "./data/tub_4_20-11-11/71_cam-image_array_.jpg\n",
            "./data/tub_4_20-11-11/32_cam-image_array_.jpg\n",
            "./data/tub_4_20-11-11/record_61.json\n",
            "./data/tub_4_20-11-11/record_90.json\n",
            "./data/tub_4_20-11-11/41_cam-image_array_.jpg\n",
            "./data/tub_4_20-11-11/record_47.json\n",
            "./data/tub_4_20-11-11/record_38.json\n",
            "./data/tub_4_20-11-11/record_9.json\n",
            "./data/tub_4_20-11-11/69_cam-image_array_.jpg\n",
            "./data/tub_4_20-11-11/62_cam-image_array_.jpg\n",
            "./data/tub_4_20-11-11/record_89.json\n",
            "./data/tub_4_20-11-11/54_cam-image_array_.jpg\n",
            "./data/tub_4_20-11-11/record_53.json\n",
            "./data/tub_4_20-11-11/63_cam-image_array_.jpg\n",
            "./data/tub_4_20-11-11/record_119.json\n",
            "./data/tub_4_20-11-11/record_85.json\n",
            "./data/tub_4_20-11-11/100_cam-image_array_.jpg\n",
            "./data/tub_4_20-11-11/93_cam-image_array_.jpg\n",
            "./data/tub_4_20-11-11/record_50.json\n",
            "./data/tub_4_20-11-11/record_18.json\n",
            "./data/tub_4_20-11-11/record_88.json\n",
            "./data/tub_4_20-11-11/record_63.json\n",
            "./data/tub_4_20-11-11/106_cam-image_array_.jpg\n",
            "./data/tub_4_20-11-11/107_cam-image_array_.jpg\n",
            "./data/tub_4_20-11-11/27_cam-image_array_.jpg\n",
            "./data/tub_4_20-11-11/80_cam-image_array_.jpg\n",
            "./data/tub_4_20-11-11/record_68.json\n",
            "./data/tub_4_20-11-11/50_cam-image_array_.jpg\n",
            "./data/tub_4_20-11-11/record_5.json\n",
            "./data/tub_4_20-11-11/113_cam-image_array_.jpg\n",
            "./data/tub_4_20-11-11/81_cam-image_array_.jpg\n",
            "./data/tub_4_20-11-11/record_10.json\n",
            "./data/tub_4_20-11-11/70_cam-image_array_.jpg\n",
            "./data/tub_4_20-11-11/record_30.json\n",
            "./data/tub_4_20-11-11/record_59.json\n",
            "./data/tub_4_20-11-11/114_cam-image_array_.jpg\n",
            "./data/tub_4_20-11-11/117_cam-image_array_.jpg\n",
            "./data/tub_4_20-11-11/record_25.json\n",
            "./data/tub_4_20-11-11/56_cam-image_array_.jpg\n",
            "./data/tub_4_20-11-11/51_cam-image_array_.jpg\n",
            "./data/tub_4_20-11-11/44_cam-image_array_.jpg\n",
            "./data/tub_4_20-11-11/record_39.json\n",
            "./data/tub_4_20-11-11/record_71.json\n",
            "./data/tub_4_20-11-11/92_cam-image_array_.jpg\n",
            "./data/tub_4_20-11-11/15_cam-image_array_.jpg\n",
            "./data/tub_4_20-11-11/97_cam-image_array_.jpg\n",
            "./data/tub_4_20-11-11/record_27.json\n",
            "./data/tub_4_20-11-11/21_cam-image_array_.jpg\n",
            "./data/tub_4_20-11-11/28_cam-image_array_.jpg\n",
            "./data/tub_4_20-11-11/record_62.json\n",
            "./data/tub_4_20-11-11/79_cam-image_array_.jpg\n",
            "./data/tub_4_20-11-11/87_cam-image_array_.jpg\n",
            "./data/tub_4_20-11-11/record_36.json\n",
            "./data/tub_4_20-11-11/25_cam-image_array_.jpg\n",
            "./data/tub_4_20-11-11/120_cam-image_array_.jpg\n",
            "./data/tub_4_20-11-11/14_cam-image_array_.jpg\n",
            "./data/tub_4_20-11-11/record_60.json\n",
            "./data/tub_4_20-11-11/67_cam-image_array_.jpg\n",
            "./data/tub_4_20-11-11/73_cam-image_array_.jpg\n",
            "./data/tub_4_20-11-11/record_99.json\n",
            "./data/tub_4_20-11-11/85_cam-image_array_.jpg\n",
            "./data/tub_4_20-11-11/record_14.json\n",
            "./data/tub_4_20-11-11/record_113.json\n",
            "./data/tub_4_20-11-11/89_cam-image_array_.jpg\n",
            "./data/tub_4_20-11-11/record_55.json\n",
            "./data/tub_4_20-11-11/86_cam-image_array_.jpg\n",
            "./data/tub_4_20-11-11/record_105.json\n",
            "./data/tub_4_20-11-11/40_cam-image_array_.jpg\n",
            "./data/tub_4_20-11-11/record_33.json\n",
            "./data/tub_4_20-11-11/record_64.json\n",
            "./data/tub_4_20-11-11/119_cam-image_array_.jpg\n",
            "./data/tub_4_20-11-11/103_cam-image_array_.jpg\n",
            "./data/tub_4_20-11-11/26_cam-image_array_.jpg\n",
            "./data/tub_4_20-11-11/65_cam-image_array_.jpg\n",
            "./data/tub_4_20-11-11/record_77.json\n",
            "./data/tub_4_20-11-11/record_104.json\n",
            "./data/tub_4_20-11-11/record_118.json\n",
            "./data/tub_4_20-11-11/33_cam-image_array_.jpg\n",
            "./data/tub_4_20-11-11/record_102.json\n",
            "./data/tub_4_20-11-11/record_67.json\n",
            "./data/tub_4_20-11-11/24_cam-image_array_.jpg\n",
            "./data/tub_4_20-11-11/record_83.json\n",
            "./data/tub_4_20-11-11/82_cam-image_array_.jpg\n",
            "./data/tub_4_20-11-11/36_cam-image_array_.jpg\n",
            "./data/tub_4_20-11-11/23_cam-image_array_.jpg\n",
            "./data/tub_4_20-11-11/52_cam-image_array_.jpg\n",
            "./data/tub_4_20-11-11/16_cam-image_array_.jpg\n",
            "./data/tub_4_20-11-11/102_cam-image_array_.jpg\n",
            "./data/tub_4_20-11-11/record_111.json\n",
            "./data/tub_4_20-11-11/record_7.json\n",
            "./data/tub_4_20-11-11/record_69.json\n",
            "./data/tub_4_20-11-11/105_cam-image_array_.jpg\n",
            "./data/tub_4_20-11-11/record_106.json\n",
            "./data/tub_4_20-11-11/record_51.json\n",
            "./data/tub_4_20-11-11/record_45.json\n",
            "./data/tub_4_20-11-11/record_52.json\n",
            "./data/tub_4_20-11-11/record_103.json\n",
            "./data/tub_4_20-11-11/91_cam-image_array_.jpg\n",
            "./data/tub_4_20-11-11/111_cam-image_array_.jpg\n",
            "./data/tub_4_20-11-11/record_75.json\n",
            "./data/tub_4_20-11-11/12_cam-image_array_.jpg\n",
            "./data/tub_4_20-11-11/record_95.json\n",
            "./data/tub_4_20-11-11/45_cam-image_array_.jpg\n",
            "./data/tub_4_20-11-11/30_cam-image_array_.jpg\n",
            "./data/tub_4_20-11-11/record_79.json\n",
            "./data/tub_4_20-11-11/record_13.json\n",
            "./data/tub_4_20-11-11/record_65.json\n",
            "./data/tub_4_20-11-11/record_16.json\n",
            "./data/tub_4_20-11-11/record_20.json\n",
            "./data/tub_4_20-11-11/record_70.json\n",
            "./data/tub_4_20-11-11/record_40.json\n",
            "./data/tub_4_20-11-11/record_21.json\n",
            "./data/tub_4_20-11-11/19_cam-image_array_.jpg\n",
            "./data/tub_4_20-11-11/record_12.json\n",
            "./data/tub_4_20-11-11/109_cam-image_array_.jpg\n",
            "./data/tub_4_20-11-11/record_42.json\n",
            "./data/tub_4_20-11-11/48_cam-image_array_.jpg\n",
            "./data/tub_4_20-11-11/record_23.json\n",
            "./data/tub_4_20-11-11/31_cam-image_array_.jpg\n",
            "./data/tub_4_20-11-11/record_11.json\n",
            "./data/tub_4_20-11-11/55_cam-image_array_.jpg\n",
            "./data/tub_4_20-11-11/record_57.json\n",
            "./data/tub_4_20-11-11/61_cam-image_array_.jpg\n",
            "./data/tub_4_20-11-11/record_101.json\n",
            "./data/tub_4_20-11-11/record_66.json\n",
            "./data/tub_4_20-11-11/2_cam-image_array_.jpg\n",
            "./data/tub_4_20-11-11/record_1.json\n",
            "./data/tub_4_20-11-11/10_cam-image_array_.jpg\n",
            "./data/tub_4_20-11-11/record_116.json\n",
            "./data/tub_4_20-11-11/64_cam-image_array_.jpg\n",
            "./data/tub_4_20-11-11/record_32.json\n",
            "./data/tub_4_20-11-11/98_cam-image_array_.jpg\n",
            "./data/tub_4_20-11-11/20_cam-image_array_.jpg\n",
            "./data/tub_4_20-11-11/1_cam-image_array_.jpg\n",
            "./data/tub_4_20-11-11/record_58.json\n",
            "./data/tub_4_20-11-11/77_cam-image_array_.jpg\n",
            "./data/tub_4_20-11-11/95_cam-image_array_.jpg\n",
            "./data/tub_4_20-11-11/96_cam-image_array_.jpg\n",
            "./data/tub_4_20-11-11/35_cam-image_array_.jpg\n",
            "./data/tub_4_20-11-11/record_48.json\n",
            "./data/tub_4_20-11-11/72_cam-image_array_.jpg\n",
            "./data/tub_4_20-11-11/record_98.json\n",
            "./data/tub_4_20-11-11/record_41.json\n",
            "./data/tub_4_20-11-11/record_86.json\n",
            "./data/tub_4_20-11-11/7_cam-image_array_.jpg\n",
            "./data/tub_4_20-11-11/record_44.json\n",
            "./data/tub_4_20-11-11/record_4.json\n",
            "./data/tub_4_20-11-11/record_92.json\n",
            "./data/tub_4_20-11-11/record_97.json\n",
            "./data/tub_4_20-11-11/record_84.json\n",
            "./data/tub_4_20-11-11/90_cam-image_array_.jpg\n",
            "./data/tub_4_20-11-11/record_46.json\n",
            "./data/tub_4_20-11-11/78_cam-image_array_.jpg\n",
            "./data/tub_4_20-11-11/record_73.json\n",
            "./data/tub_4_20-11-11/37_cam-image_array_.jpg\n",
            "./data/tub_4_20-11-11/record_93.json\n",
            "./data/tub_4_20-11-11/3_cam-image_array_.jpg\n",
            "./data/tub_4_20-11-11/74_cam-image_array_.jpg\n",
            "./data/tub_4_20-11-11/record_94.json\n",
            "./data/tub_4_20-11-11/108_cam-image_array_.jpg\n",
            "./data/tub_4_20-11-11/record_96.json\n",
            "./data/tub_4_20-11-11/meta.json\n",
            "./data/tub_4_20-11-11/record_35.json\n",
            "./data/tub_4_20-11-11/record_82.json\n",
            "./data/tub_4_20-11-11/99_cam-image_array_.jpg\n",
            "./data/tub_4_20-11-11/record_81.json\n",
            "./data/tub_4_20-11-11/8_cam-image_array_.jpg\n",
            "./data/tub_4_20-11-11/record_107.json\n",
            "./data/tub_4_20-11-11/58_cam-image_array_.jpg\n",
            "./data/tub_4_20-11-11/29_cam-image_array_.jpg\n",
            "./data/tub_4_20-11-11/88_cam-image_array_.jpg\n",
            "./data/tub_4_20-11-11/13_cam-image_array_.jpg\n",
            "./data/tub_4_20-11-11/116_cam-image_array_.jpg\n",
            "./data/tub_4_20-11-11/5_cam-image_array_.jpg\n",
            "./data/tub_4_20-11-11/record_112.json\n",
            "./data/tub_4_20-11-11/record_43.json\n",
            "./data/tub_4_20-11-11/record_100.json\n",
            "./data/tub_4_20-11-11/record_72.json\n",
            "./data/tub_4_20-11-11/11_cam-image_array_.jpg\n",
            "./data/tub_4_20-11-11/75_cam-image_array_.jpg\n",
            "./data/tub_4_20-11-11/6_cam-image_array_.jpg\n",
            "./data/tub_4_20-11-11/record_6.json\n",
            "./data/tub_4_20-11-11/record_78.json\n",
            "./data/tub_4_20-11-11/record_2.json\n",
            "./data/tub_4_20-11-11/record_117.json\n",
            "./data/tub_4_20-11-11/record_26.json\n",
            "./data/tub_4_20-11-11/record_74.json\n",
            "./data/tub_4_20-11-11/4_cam-image_array_.jpg\n",
            "./data/tub_4_20-11-11/17_cam-image_array_.jpg\n",
            "./data/tub_4_20-11-11/18_cam-image_array_.jpg\n",
            "./data/tub_4_20-11-11/59_cam-image_array_.jpg\n",
            "./data/tub_4_20-11-11/record_49.json\n",
            "./data/tub_4_20-11-11/record_115.json\n",
            "./data/tub_4_20-11-11/record_91.json\n",
            "./data/tub_4_20-11-11/record_110.json\n",
            "./data/tub_4_20-11-11/68_cam-image_array_.jpg\n",
            "./data/tub_4_20-11-11/record_56.json\n",
            "./data/tub_4_20-11-11/record_87.json\n",
            "./data/tub_4_20-11-11/record_8.json\n",
            "./data/tub_4_20-11-11/66_cam-image_array_.jpg\n",
            "./data/tub_4_20-11-11/43_cam-image_array_.jpg\n",
            "./data/tub_4_20-11-11/record_108.json\n",
            "./data/tub_4_20-11-11/118_cam-image_array_.jpg\n",
            "./data/tub_4_20-11-11/39_cam-image_array_.jpg\n",
            "./data/tub_4_20-11-11/47_cam-image_array_.jpg\n",
            "./data/tub_4_20-11-11/115_cam-image_array_.jpg\n",
            "./data/tub_4_20-11-11/record_37.json\n",
            "./data/tub_4_20-11-11/record_24.json\n",
            "./data/tub_4_20-11-11/record_31.json\n",
            "./data/tub_4_20-11-11/46_cam-image_array_.jpg\n",
            "./data/tub_4_20-11-11/42_cam-image_array_.jpg\n",
            "./data/tub_4_20-11-11/record_120.json\n",
            "./data/tub_4_20-11-11/60_cam-image_array_.jpg\n",
            "./data/tub_4_20-11-11/101_cam-image_array_.jpg\n",
            "./data/tub_4_20-11-11/76_cam-image_array_.jpg\n",
            "./data/tub_4_20-11-11/34_cam-image_array_.jpg\n",
            "./data/tub_4_20-11-11/9_cam-image_array_.jpg\n",
            "./data/tub_4_20-11-11/record_22.json\n"
          ],
          "name": "stdout"
        }
      ]
    },
    {
      "cell_type": "markdown",
      "metadata": {
        "id": "9-3U5MnYoZPY"
      },
      "source": [
        "## 4.4 PC/노트북에서 업로드된 data.tar.gz파일 삭제하기\n",
        "\n",
        "업로드된 data.zip파일을 삭제하여 tub_ 폴더만이 data폴더 안에 위치하도록 합니다."
      ]
    },
    {
      "cell_type": "code",
      "metadata": {
        "id": "bXs57m5Nh91O"
      },
      "source": [
        "!rm /content/mycar/data.tar.gz"
      ],
      "execution_count": 14,
      "outputs": []
    },
    {
      "cell_type": "markdown",
      "metadata": {
        "id": "T3Ya8qEUAfOv"
      },
      "source": [
        "# 5> Donkeycar 주행영상데이타를 활용한 자율주행모델 학습하기\n",
        "\n",
        "동키카에서 지원되는 학습모듈을 사용해서 주행영상 데이타 기반의 인공지능 학습을 진행합니다. CNN(Convolution Neural Network)기반의 이미지 식별을 통한 모델 학습으로 주행영상과 실제 주행시 함께 획득한 속도와 주행방향에 대한 데이타를 입력으로 하여 주행 모델을 학습하게 됩니다.\n",
        "\n",
        "* tub_ 디렉토리가 적은 경우, 학습이 되지 않습니다. 최소 10개이상의 주행을 하고 학습하세요."
      ]
    },
    {
      "cell_type": "code",
      "metadata": {
        "id": "jqgaPmDU0tH_",
        "outputId": "fbd24526-9035-43d0-a6c0-d29e480f37c0",
        "colab": {
          "base_uri": "https://localhost:8080/"
        }
      },
      "source": [
        "!python /content/mycar/train.py"
      ],
      "execution_count": 23,
      "outputs": [
        {
          "output_type": "stream",
          "text": [
            "using donkey v3.1.5 ...\n",
            "Usage:\n",
            "    train.py [--tub=<tub1,tub2,..tubn>] [--file=<file> ...] (--model=<model>) [--transfer=<model>] [--type=(linear|latent|categorical|rnn|imu|behavior|3d|look_ahead|tensorrt_linear|tflite_linear|coral_tflite_linear)] [--figure_format=<figure_format>] [--continuous] [--aug]\n"
          ],
          "name": "stdout"
        }
      ]
    },
    {
      "cell_type": "markdown",
      "metadata": {
        "id": "hmRtjhxVKvQQ"
      },
      "source": [
        "[주의] \n",
        "\n",
        "*   학습데이타가 128개보다 작은 경우, 오류가 발생(validation_step에서 오류발생)\n",
        "*   위의 경우, config.py파일의 BATCH_SIZE를 총 데이타갯수보다 작게 설정(e.g) BATCH_SIZE=64\n",
        "\n"
      ]
    },
    {
      "cell_type": "code",
      "metadata": {
        "id": "cCvUUnaHzwx8",
        "outputId": "9495012b-2bb2-46d8-f3cd-8561b80ac379",
        "colab": {
          "base_uri": "https://localhost:8080/"
        }
      },
      "source": [
        "#\n",
        "# 학습을 위한 데이타는 /data 디렉토리 아래의 tub_ 이름의 폴더에서 자동으로 가져와서 학습을 수행\n",
        "#\n",
        "!python /content/mycar/train.py --model /content/mycar/models/mypilot.h5"
      ],
      "execution_count": 25,
      "outputs": [
        {
          "output_type": "stream",
          "text": [
            "using donkey v3.1.5 ...\n",
            "loading config file: /content/mycar/config.py\n",
            "myconfig myconfig.py\n",
            "loading personal config over-rides from myconfig.py\n",
            "\n",
            "config loaded\n",
            "using default model type of linear\n",
            "\"get_model_by_type\" model Type is: linear\n",
            "WARNING:tensorflow:From /tensorflow-1.15.2/python3.6/tensorflow_core/python/ops/resource_variable_ops.py:1630: calling BaseResourceVariable.__init__ (from tensorflow.python.ops.resource_variable_ops) with constraint is deprecated and will be removed in a future version.\n",
            "Instructions for updating:\n",
            "If using Keras pass *_constraint arguments to layers.\n",
            "training with model type <class 'donkeycar.parts.keras.KerasLinear'>\n",
            "Model: \"model\"\n",
            "__________________________________________________________________________________________________\n",
            "Layer (type)                    Output Shape         Param #     Connected to                     \n",
            "==================================================================================================\n",
            "img_in (InputLayer)             [(None, 120, 160, 3) 0                                            \n",
            "__________________________________________________________________________________________________\n",
            "conv2d_1 (Conv2D)               (None, 58, 78, 24)   1824        img_in[0][0]                     \n",
            "__________________________________________________________________________________________________\n",
            "dropout (Dropout)               (None, 58, 78, 24)   0           conv2d_1[0][0]                   \n",
            "__________________________________________________________________________________________________\n",
            "conv2d_2 (Conv2D)               (None, 27, 37, 32)   19232       dropout[0][0]                    \n",
            "__________________________________________________________________________________________________\n",
            "dropout_1 (Dropout)             (None, 27, 37, 32)   0           conv2d_2[0][0]                   \n",
            "__________________________________________________________________________________________________\n",
            "conv2d_3 (Conv2D)               (None, 12, 17, 64)   51264       dropout_1[0][0]                  \n",
            "__________________________________________________________________________________________________\n",
            "dropout_2 (Dropout)             (None, 12, 17, 64)   0           conv2d_3[0][0]                   \n",
            "__________________________________________________________________________________________________\n",
            "conv2d_4 (Conv2D)               (None, 10, 15, 64)   36928       dropout_2[0][0]                  \n",
            "__________________________________________________________________________________________________\n",
            "dropout_3 (Dropout)             (None, 10, 15, 64)   0           conv2d_4[0][0]                   \n",
            "__________________________________________________________________________________________________\n",
            "conv2d_5 (Conv2D)               (None, 8, 13, 64)    36928       dropout_3[0][0]                  \n",
            "__________________________________________________________________________________________________\n",
            "dropout_4 (Dropout)             (None, 8, 13, 64)    0           conv2d_5[0][0]                   \n",
            "__________________________________________________________________________________________________\n",
            "flattened (Flatten)             (None, 6656)         0           dropout_4[0][0]                  \n",
            "__________________________________________________________________________________________________\n",
            "dense (Dense)                   (None, 100)          665700      flattened[0][0]                  \n",
            "__________________________________________________________________________________________________\n",
            "dropout_5 (Dropout)             (None, 100)          0           dense[0][0]                      \n",
            "__________________________________________________________________________________________________\n",
            "dense_1 (Dense)                 (None, 50)           5050        dropout_5[0][0]                  \n",
            "__________________________________________________________________________________________________\n",
            "dropout_6 (Dropout)             (None, 50)           0           dense_1[0][0]                    \n",
            "__________________________________________________________________________________________________\n",
            "n_outputs0 (Dense)              (None, 1)            51          dropout_6[0][0]                  \n",
            "__________________________________________________________________________________________________\n",
            "n_outputs1 (Dense)              (None, 1)            51          dropout_6[0][0]                  \n",
            "==================================================================================================\n",
            "Total params: 817,028\n",
            "Trainable params: 817,028\n",
            "Non-trainable params: 0\n",
            "__________________________________________________________________________________________________\n",
            "None\n",
            "found 0 pickles writing json records and images in tub /content/mycar/data/tub_3_20-11-11\n",
            "found 0 pickles writing json records and images in tub /content/mycar/data/tub_2_20-11-11\n",
            "found 0 pickles writing json records and images in tub /content/mycar/data/tub_5_20-11-11\n",
            "found 0 pickles writing json records and images in tub /content/mycar/data/tub_4_20-11-11\n",
            "/content/mycar/data/tub_3_20-11-11\n",
            "/content/mycar/data/tub_2_20-11-11\n",
            "/content/mycar/data/tub_5_20-11-11\n",
            "/content/mycar/data/tub_4_20-11-11\n",
            "collating 372 records ...\n",
            "train: 297, val: 75\n",
            "total records: 372\n",
            "steps_per_epoch 4\n",
            "2020-11-11 02:40:08.633408: I tensorflow/stream_executor/platform/default/dso_loader.cc:44] Successfully opened dynamic library libcuda.so.1\n",
            "2020-11-11 02:40:08.638395: I tensorflow/stream_executor/cuda/cuda_gpu_executor.cc:983] successful NUMA node read from SysFS had negative value (-1), but there must be at least one NUMA node, so returning NUMA node zero\n",
            "2020-11-11 02:40:08.639011: I tensorflow/core/common_runtime/gpu/gpu_device.cc:1639] Found device 0 with properties: \n",
            "name: Tesla T4 major: 7 minor: 5 memoryClockRate(GHz): 1.59\n",
            "pciBusID: 0000:00:04.0\n",
            "2020-11-11 02:40:08.639335: I tensorflow/stream_executor/platform/default/dso_loader.cc:44] Successfully opened dynamic library libcudart.so.10.1\n",
            "2020-11-11 02:40:08.641127: I tensorflow/stream_executor/platform/default/dso_loader.cc:44] Successfully opened dynamic library libcublas.so.10\n",
            "2020-11-11 02:40:08.648900: I tensorflow/stream_executor/platform/default/dso_loader.cc:44] Successfully opened dynamic library libcufft.so.10\n",
            "2020-11-11 02:40:08.649247: I tensorflow/stream_executor/platform/default/dso_loader.cc:44] Successfully opened dynamic library libcurand.so.10\n",
            "2020-11-11 02:40:08.651184: I tensorflow/stream_executor/platform/default/dso_loader.cc:44] Successfully opened dynamic library libcusolver.so.10\n",
            "2020-11-11 02:40:08.656836: I tensorflow/stream_executor/platform/default/dso_loader.cc:44] Successfully opened dynamic library libcusparse.so.10\n",
            "2020-11-11 02:40:08.668652: I tensorflow/stream_executor/platform/default/dso_loader.cc:44] Successfully opened dynamic library libcudnn.so.7\n",
            "2020-11-11 02:40:08.668787: I tensorflow/stream_executor/cuda/cuda_gpu_executor.cc:983] successful NUMA node read from SysFS had negative value (-1), but there must be at least one NUMA node, so returning NUMA node zero\n",
            "2020-11-11 02:40:08.669448: I tensorflow/stream_executor/cuda/cuda_gpu_executor.cc:983] successful NUMA node read from SysFS had negative value (-1), but there must be at least one NUMA node, so returning NUMA node zero\n",
            "2020-11-11 02:40:08.670101: I tensorflow/core/common_runtime/gpu/gpu_device.cc:1767] Adding visible gpu devices: 0\n",
            "2020-11-11 02:40:08.687019: I tensorflow/core/platform/profile_utils/cpu_utils.cc:94] CPU Frequency: 2200000000 Hz\n",
            "2020-11-11 02:40:08.687243: I tensorflow/compiler/xla/service/service.cc:168] XLA service 0x1fdea00 initialized for platform Host (this does not guarantee that XLA will be used). Devices:\n",
            "2020-11-11 02:40:08.687276: I tensorflow/compiler/xla/service/service.cc:176]   StreamExecutor device (0): Host, Default Version\n",
            "2020-11-11 02:40:08.819105: I tensorflow/stream_executor/cuda/cuda_gpu_executor.cc:983] successful NUMA node read from SysFS had negative value (-1), but there must be at least one NUMA node, so returning NUMA node zero\n",
            "2020-11-11 02:40:08.820169: I tensorflow/compiler/xla/service/service.cc:168] XLA service 0x1fdebc0 initialized for platform CUDA (this does not guarantee that XLA will be used). Devices:\n",
            "2020-11-11 02:40:08.820214: I tensorflow/compiler/xla/service/service.cc:176]   StreamExecutor device (0): Tesla T4, Compute Capability 7.5\n",
            "2020-11-11 02:40:08.820398: I tensorflow/stream_executor/cuda/cuda_gpu_executor.cc:983] successful NUMA node read from SysFS had negative value (-1), but there must be at least one NUMA node, so returning NUMA node zero\n",
            "2020-11-11 02:40:08.821259: I tensorflow/core/common_runtime/gpu/gpu_device.cc:1639] Found device 0 with properties: \n",
            "name: Tesla T4 major: 7 minor: 5 memoryClockRate(GHz): 1.59\n",
            "pciBusID: 0000:00:04.0\n",
            "2020-11-11 02:40:08.821348: I tensorflow/stream_executor/platform/default/dso_loader.cc:44] Successfully opened dynamic library libcudart.so.10.1\n",
            "2020-11-11 02:40:08.821376: I tensorflow/stream_executor/platform/default/dso_loader.cc:44] Successfully opened dynamic library libcublas.so.10\n",
            "2020-11-11 02:40:08.821400: I tensorflow/stream_executor/platform/default/dso_loader.cc:44] Successfully opened dynamic library libcufft.so.10\n",
            "2020-11-11 02:40:08.821423: I tensorflow/stream_executor/platform/default/dso_loader.cc:44] Successfully opened dynamic library libcurand.so.10\n",
            "2020-11-11 02:40:08.821449: I tensorflow/stream_executor/platform/default/dso_loader.cc:44] Successfully opened dynamic library libcusolver.so.10\n",
            "2020-11-11 02:40:08.821472: I tensorflow/stream_executor/platform/default/dso_loader.cc:44] Successfully opened dynamic library libcusparse.so.10\n",
            "2020-11-11 02:40:08.821496: I tensorflow/stream_executor/platform/default/dso_loader.cc:44] Successfully opened dynamic library libcudnn.so.7\n",
            "2020-11-11 02:40:08.821635: I tensorflow/stream_executor/cuda/cuda_gpu_executor.cc:983] successful NUMA node read from SysFS had negative value (-1), but there must be at least one NUMA node, so returning NUMA node zero\n",
            "2020-11-11 02:40:08.822675: I tensorflow/stream_executor/cuda/cuda_gpu_executor.cc:983] successful NUMA node read from SysFS had negative value (-1), but there must be at least one NUMA node, so returning NUMA node zero\n",
            "2020-11-11 02:40:08.823580: I tensorflow/core/common_runtime/gpu/gpu_device.cc:1767] Adding visible gpu devices: 0\n",
            "2020-11-11 02:40:08.823702: I tensorflow/stream_executor/platform/default/dso_loader.cc:44] Successfully opened dynamic library libcudart.so.10.1\n",
            "2020-11-11 02:40:08.825203: I tensorflow/core/common_runtime/gpu/gpu_device.cc:1180] Device interconnect StreamExecutor with strength 1 edge matrix:\n",
            "2020-11-11 02:40:08.825247: I tensorflow/core/common_runtime/gpu/gpu_device.cc:1186]      0 \n",
            "2020-11-11 02:40:08.825270: I tensorflow/core/common_runtime/gpu/gpu_device.cc:1199] 0:   N \n",
            "2020-11-11 02:40:08.825449: I tensorflow/stream_executor/cuda/cuda_gpu_executor.cc:983] successful NUMA node read from SysFS had negative value (-1), but there must be at least one NUMA node, so returning NUMA node zero\n",
            "2020-11-11 02:40:08.826406: I tensorflow/stream_executor/cuda/cuda_gpu_executor.cc:983] successful NUMA node read from SysFS had negative value (-1), but there must be at least one NUMA node, so returning NUMA node zero\n",
            "2020-11-11 02:40:08.827343: W tensorflow/core/common_runtime/gpu/gpu_bfc_allocator.cc:39] Overriding allow_growth setting because the TF_FORCE_GPU_ALLOW_GROWTH environment variable is set. Original config value was 0.\n",
            "2020-11-11 02:40:08.827411: I tensorflow/core/common_runtime/gpu/gpu_device.cc:1325] Created TensorFlow device (/job:localhost/replica:0/task:0/device:GPU:0 with 14125 MB memory) -> physical GPU (device: 0, name: Tesla T4, pci bus id: 0000:00:04.0, compute capability: 7.5)\n",
            "Epoch 1/100\n",
            "2020-11-11 02:40:17.205041: I tensorflow/stream_executor/platform/default/dso_loader.cc:44] Successfully opened dynamic library libcublas.so.10\n",
            "2020-11-11 02:40:18.701109: I tensorflow/stream_executor/platform/default/dso_loader.cc:44] Successfully opened dynamic library libcudnn.so.7\n",
            "3/4 [=====================>........] - ETA: 2s - loss: 0.1000 - n_outputs0_loss: 0.0698 - n_outputs1_loss: 0.0302 Epoch 1/100\n",
            "1/4 [======>.......................] - ETA: 0s - loss: 0.0554 - n_outputs0_loss: 0.0346 - n_outputs1_loss: 0.0209\n",
            "Epoch 00001: val_loss improved from inf to 0.05543, saving model to /content/mycar/models/mypilot.h5\n",
            "4/4 [==============================] - 8s 2s/step - loss: 0.0901 - n_outputs0_loss: 0.0622 - n_outputs1_loss: 0.0279 - val_loss: 0.0554 - val_n_outputs0_loss: 0.0346 - val_n_outputs1_loss: 0.0209\n",
            "Epoch 2/100\n",
            "3/4 [=====================>........] - ETA: 0s - loss: 0.0814 - n_outputs0_loss: 0.0563 - n_outputs1_loss: 0.0251Epoch 1/100\n",
            "1/4 [======>.......................] - ETA: 0s - loss: 0.0537 - n_outputs0_loss: 0.0352 - n_outputs1_loss: 0.0185\n",
            "Epoch 00002: val_loss improved from 0.05543 to 0.05366, saving model to /content/mycar/models/mypilot.h5\n",
            "4/4 [==============================] - 0s 44ms/step - loss: 0.0754 - n_outputs0_loss: 0.0512 - n_outputs1_loss: 0.0242 - val_loss: 0.0537 - val_n_outputs0_loss: 0.0352 - val_n_outputs1_loss: 0.0185\n",
            "Epoch 3/100\n",
            "1/4 [======>.......................] - ETA: 0s - loss: 0.0769 - n_outputs0_loss: 0.0548 - n_outputs1_loss: 0.0221Epoch 1/100\n",
            "1/4 [======>.......................] - ETA: 0s - loss: 0.0517 - n_outputs0_loss: 0.0325 - n_outputs1_loss: 0.0192\n",
            "Epoch 00003: val_loss improved from 0.05366 to 0.05167, saving model to /content/mycar/models/mypilot.h5\n",
            "4/4 [==============================] - 0s 73ms/step - loss: 0.0761 - n_outputs0_loss: 0.0541 - n_outputs1_loss: 0.0220 - val_loss: 0.0517 - val_n_outputs0_loss: 0.0325 - val_n_outputs1_loss: 0.0192\n",
            "Epoch 4/100\n",
            "3/4 [=====================>........] - ETA: 0s - loss: 0.0697 - n_outputs0_loss: 0.0483 - n_outputs1_loss: 0.0214Epoch 1/100\n",
            "1/4 [======>.......................] - ETA: 0s - loss: 0.0491 - n_outputs0_loss: 0.0301 - n_outputs1_loss: 0.0190\n",
            "Epoch 00004: val_loss improved from 0.05167 to 0.04908, saving model to /content/mycar/models/mypilot.h5\n",
            "4/4 [==============================] - 0s 65ms/step - loss: 0.0770 - n_outputs0_loss: 0.0555 - n_outputs1_loss: 0.0215 - val_loss: 0.0491 - val_n_outputs0_loss: 0.0301 - val_n_outputs1_loss: 0.0190\n",
            "Epoch 5/100\n",
            "1/4 [======>.......................] - ETA: 0s - loss: 0.0813 - n_outputs0_loss: 0.0604 - n_outputs1_loss: 0.0209Epoch 1/100\n",
            "1/4 [======>.......................] - ETA: 0s - loss: 0.0489 - n_outputs0_loss: 0.0299 - n_outputs1_loss: 0.0190\n",
            "Epoch 00005: val_loss improved from 0.04908 to 0.04891, saving model to /content/mycar/models/mypilot.h5\n",
            "4/4 [==============================] - 0s 80ms/step - loss: 0.0821 - n_outputs0_loss: 0.0600 - n_outputs1_loss: 0.0221 - val_loss: 0.0489 - val_n_outputs0_loss: 0.0299 - val_n_outputs1_loss: 0.0190\n",
            "Epoch 6/100\n",
            "1/4 [======>.......................] - ETA: 0s - loss: 0.0919 - n_outputs0_loss: 0.0626 - n_outputs1_loss: 0.0293Epoch 1/100\n",
            "1/4 [======>.......................] - ETA: 0s - loss: 0.0537 - n_outputs0_loss: 0.0313 - n_outputs1_loss: 0.0224\n",
            "Epoch 00006: val_loss did not improve from 0.04891\n",
            "4/4 [==============================] - 0s 30ms/step - loss: 0.0760 - n_outputs0_loss: 0.0542 - n_outputs1_loss: 0.0218 - val_loss: 0.0537 - val_n_outputs0_loss: 0.0313 - val_n_outputs1_loss: 0.0224\n",
            "Epoch 7/100\n",
            "1/4 [======>.......................] - ETA: 0s - loss: 0.0686 - n_outputs0_loss: 0.0505 - n_outputs1_loss: 0.0181Epoch 1/100\n",
            "1/4 [======>.......................] - ETA: 0s - loss: 0.0540 - n_outputs0_loss: 0.0342 - n_outputs1_loss: 0.0198\n",
            "Epoch 00007: val_loss did not improve from 0.04891\n",
            "4/4 [==============================] - 0s 30ms/step - loss: 0.0790 - n_outputs0_loss: 0.0574 - n_outputs1_loss: 0.0216 - val_loss: 0.0540 - val_n_outputs0_loss: 0.0342 - val_n_outputs1_loss: 0.0198\n",
            "Epoch 8/100\n",
            "3/4 [=====================>........] - ETA: 0s - loss: 0.0772 - n_outputs0_loss: 0.0548 - n_outputs1_loss: 0.0224Epoch 1/100\n",
            "1/4 [======>.......................] - ETA: 0s - loss: 0.0390 - n_outputs0_loss: 0.0204 - n_outputs1_loss: 0.0186\n",
            "Epoch 00008: val_loss improved from 0.04891 to 0.03897, saving model to /content/mycar/models/mypilot.h5\n",
            "4/4 [==============================] - 0s 48ms/step - loss: 0.0775 - n_outputs0_loss: 0.0569 - n_outputs1_loss: 0.0206 - val_loss: 0.0390 - val_n_outputs0_loss: 0.0204 - val_n_outputs1_loss: 0.0186\n",
            "Epoch 9/100\n",
            "3/4 [=====================>........] - ETA: 0s - loss: 0.0739 - n_outputs0_loss: 0.0531 - n_outputs1_loss: 0.0208Epoch 1/100\n",
            "1/4 [======>.......................] - ETA: 0s - loss: 0.0513 - n_outputs0_loss: 0.0325 - n_outputs1_loss: 0.0188\n",
            "Epoch 00009: val_loss did not improve from 0.03897\n",
            "4/4 [==============================] - 0s 30ms/step - loss: 0.0740 - n_outputs0_loss: 0.0542 - n_outputs1_loss: 0.0198 - val_loss: 0.0513 - val_n_outputs0_loss: 0.0325 - val_n_outputs1_loss: 0.0188\n",
            "Epoch 10/100\n",
            "1/4 [======>.......................] - ETA: 0s - loss: 0.0619 - n_outputs0_loss: 0.0406 - n_outputs1_loss: 0.0213Epoch 1/100\n",
            "1/4 [======>.......................] - ETA: 0s - loss: 0.0500 - n_outputs0_loss: 0.0319 - n_outputs1_loss: 0.0180\n",
            "Epoch 00010: val_loss did not improve from 0.03897\n",
            "4/4 [==============================] - 0s 27ms/step - loss: 0.0695 - n_outputs0_loss: 0.0490 - n_outputs1_loss: 0.0205 - val_loss: 0.0500 - val_n_outputs0_loss: 0.0319 - val_n_outputs1_loss: 0.0180\n",
            "Epoch 11/100\n",
            "1/4 [======>.......................] - ETA: 0s - loss: 0.0588 - n_outputs0_loss: 0.0383 - n_outputs1_loss: 0.0205Epoch 1/100\n",
            "1/4 [======>.......................] - ETA: 0s - loss: 0.0493 - n_outputs0_loss: 0.0298 - n_outputs1_loss: 0.0195\n",
            "Epoch 00011: val_loss did not improve from 0.03897\n",
            "4/4 [==============================] - 0s 29ms/step - loss: 0.0703 - n_outputs0_loss: 0.0496 - n_outputs1_loss: 0.0207 - val_loss: 0.0493 - val_n_outputs0_loss: 0.0298 - val_n_outputs1_loss: 0.0195\n",
            "Epoch 12/100\n",
            "1/4 [======>.......................] - ETA: 0s - loss: 0.0839 - n_outputs0_loss: 0.0614 - n_outputs1_loss: 0.0225Epoch 1/100\n",
            "1/4 [======>.......................] - ETA: 0s - loss: 0.0512 - n_outputs0_loss: 0.0348 - n_outputs1_loss: 0.0163\n",
            "Epoch 00012: val_loss did not improve from 0.03897\n",
            "4/4 [==============================] - 0s 29ms/step - loss: 0.0665 - n_outputs0_loss: 0.0480 - n_outputs1_loss: 0.0185 - val_loss: 0.0512 - val_n_outputs0_loss: 0.0348 - val_n_outputs1_loss: 0.0163\n",
            "Epoch 13/100\n",
            "1/4 [======>.......................] - ETA: 0s - loss: 0.0688 - n_outputs0_loss: 0.0484 - n_outputs1_loss: 0.0204Epoch 1/100\n",
            "1/4 [======>.......................] - ETA: 0s - loss: 0.0489 - n_outputs0_loss: 0.0313 - n_outputs1_loss: 0.0176\n",
            "Epoch 00013: val_loss did not improve from 0.03897\n",
            "4/4 [==============================] - 0s 28ms/step - loss: 0.0646 - n_outputs0_loss: 0.0429 - n_outputs1_loss: 0.0217 - val_loss: 0.0489 - val_n_outputs0_loss: 0.0313 - val_n_outputs1_loss: 0.0176\n",
            "Epoch 00013: early stopping\n",
            "Training completed in 0:00:18.\n",
            "\n",
            "\n",
            "----------- Best Eval Loss :0.038966 ---------\n",
            "<Figure size 640x480 with 1 Axes>\n"
          ],
          "name": "stdout"
        }
      ]
    },
    {
      "cell_type": "markdown",
      "metadata": {
        "id": "6BEOJYH601O0"
      },
      "source": [
        "# 6> 학습한 모델 PC/노트북에 다운로드 하기\n",
        "\n",
        "* Google Colaboratory의 탐색창에서 파일 섹션으로 이동합니다. \n",
        "\n",
        "* Google Colaboratory에서 학습한 모델을 저장하고 있는 디렉토리(models)를 클릭하고 이동합니다. 사용자의 프로젝트 폴더가 mycar라면, mycar/models 디렉토리에 학습한 인공지능 모델이 저장되어 있습니다.\n",
        "\n",
        "* 학습한 모델은 확장자로 *.h5를 사용합니다. 다운로드할 모델파일을 선택하고, 마우스의 오른쪽 버튼을 누르면 선택한 파일의 '다운로드' 메뉴항목이 표시됩니다. 해당 항목을 선택하면 노트북/PC에 모델을 다운로드 할 수 있습니다.\n",
        "\n",
        "\n",
        "![Alt text](https://monosnap.com/image/XpGITFyzwgkqjNI7c40fsv91KRpTqw)\n",
        "\n",
        "* 학습한 모델을 저장한 폴더에는 저장된 모델명 파일(여기서는 mypolot.h5)의 학습과정동안 계산된 loss(손실)과 정확도(accurracy)에 대한 값을 그래프로 표현한 png파일도 함께 저장되어 있습니다. 결과값에 대한 파일명은 \"모델명_loss_acc_정확도실수값.png\"의 형식으로 표현됩니다.\n",
        "\n",
        "<img src=\"https://monosnap.com/image/Xrnv8MfkNS8opa46LAcNvuHnmHPu9Q\" width=\"480\" height=\"320\" />"
      ]
    },
    {
      "cell_type": "markdown",
      "metadata": {
        "id": "0tlwsxAZ3NBp"
      },
      "source": [
        "### <모델디렉토리에 생성된 png파일의 이름 변경하여 표시하기>"
      ]
    },
    {
      "cell_type": "code",
      "metadata": {
        "id": "OPIditpm2_xN",
        "outputId": "2a2ebf80-d99c-4509-fb61-b4ba579e7833",
        "colab": {
          "base_uri": "https://localhost:8080/",
          "height": 497
        }
      },
      "source": [
        "\n",
        "# 학습과정의 손실-인식율 그래프로 표시\n",
        "# models 디렉토리에 *.png파일로 저장\n",
        "\n",
        "from IPython.display import Image\n",
        "import os\n",
        "\n",
        "models_dir = '/content/mycar/models'\n",
        "\n",
        "acc_loss_filepath = 'mypilot.h5_loss_acc_0.038966.png'\n",
        "\n",
        "filename = os.path.join(models_dir, acc_loss_filepath)\n",
        "Image(filename=filename)"
      ],
      "execution_count": 26,
      "outputs": [
        {
          "output_type": "execute_result",
          "data": {
            "image/png": "[encoded data removed]",
            "text/plain": [
              "<IPython.core.display.Image object>"
            ]
          },
          "metadata": {
            "tags": []
          },
          "execution_count": 26
        }
      ]
    },
    {
      "cell_type": "markdown",
      "metadata": {
        "id": "hfERkGy821Xy"
      },
      "source": [
        "# 7> 자율주행모드로 동키카 운행하기\n",
        "\n",
        "* PC/노트북에 다운로드한 인공지능 모델(*.h5)를 폴더에 저장합니다.\n",
        "\n",
        "* 저장이 완료된 모델을 탑재한 라즈베리파이 SD카드를 동키카에 적재하고 동키카에 전원을 넣어 부팅합니다.\n",
        "\n",
        "* 노트북/PC에서 SSH로 동키카에 접속한 후, 아래의 명령을 입력하여 자율주행 모드로의 실행을 설정합니다.\n",
        "\n",
        "```\n",
        "# 동키카에 탑재된 라즈베리파이에서 수행할 코드\n",
        "\n",
        "$cd mycar [enter]\n",
        "$python manage.py drive --model /mycar/models/mypilot.h5 [enter]\n",
        "```\n",
        "\n",
        "\n",
        "\n",
        "\n"
      ]
    },
    {
      "cell_type": "markdown",
      "metadata": {
        "id": "kxTAj6h2DTCe"
      },
      "source": [
        "## 8> PC에 설치된 Donkeycar 시뮬레이터에서 학습된 모델 작동시키기\n",
        "\n",
        "<참고>\n",
        "동키카 시뮬레이터 사용에 대해서는 아래의 링크를 참고하세요.\n",
        "* https://docs.donkeycar.com/guide/simulator/\n",
        "\n",
        "1. PC/Notebook에 설치된 simulator의 디렉토리로 이동합니다. 시뮬레이터 구동을 위한 동키카 프로젝트 폴더를 생성했다면, 해당디렉토리로 이동합니다(여기서는 ~/mysim으로 가정)\n",
        "2. 해당 디렉토리로 이동해서 simulator를 구동합니다.\n",
        "    * mysconfig.py파일에서 DONKEY_SIM_PATH가 시뮬레이터의 경로를 잘 설정하고 있는지 확인 부탁드립니다.\n",
        "3. 학습된 자율주행모델(*.h5)를 ~/mysim 디렉토리 아래의 models 디렉토리에 복사합니다.\n",
        "4. 아래의 명령어를 입력해서 자율주행을 실행합니다.\n",
        "    * ```$python manage.py drive --model models/mypilot.h5 ```    \n",
        "5. 유니티(Unity) 시뮬레이터창이 표시되고, 터미널에서 localhost:8887 접속에 대한 내용이 안내되면 웹브라우져를 실행하고 시뮬레이터에 접속합니다.\n",
        "6. 표시되는 웹 브라우져내의 drive창에서 아래의 Mode&Pilot의 Local Pilot으로 설정하면 자동주행을 합니다.\n",
        "\n",
        "![시뮬레이터 자율주행 설정](https://api.monosnap.com/file/download?id=PLU9FFdile460iwnUUCNvgdHKDLhHT)"
      ]
    }
  ]
}