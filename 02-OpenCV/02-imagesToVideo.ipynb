{
  "nbformat": 4,
  "nbformat_minor": 0,
  "metadata": {
    "colab": {
      "name": "imagesToVideo.ipynb",
      "provenance": [],
      "collapsed_sections": [],
      "toc_visible": true,
      "authorship_tag": "ABX9TyOMIzPnw++FxQeIPRZUOAi9",
      "include_colab_link": true
    },
    "kernelspec": {
      "name": "python3",
      "display_name": "Python 3"
    },
    "accelerator": "GPU"
  },
  "cells": [
    {
      "cell_type": "markdown",
      "metadata": {
        "id": "view-in-github",
        "colab_type": "text"
      },
      "source": [
        "<a href=\"https://colab.research.google.com/github/pletalk/EMPV-RPI-AutoDriving/blob/master/02-OpenCV/02-imagesToVideo.ipynb\" target=\"_parent\"><img src=\"https://colab.research.google.com/assets/colab-badge.svg\" alt=\"Open In Colab\"/></a>"
      ]
    },
    {
      "cell_type": "markdown",
      "metadata": {
        "id": "hC9zZPurm2KN",
        "colab_type": "text"
      },
      "source": [
        "# 이미지들로부터 영상 만들기\n",
        "@2020-08-01/@pletalk\n",
        "\n",
        "* 문서작성이력:\n",
        "    * 2020-05-24  작성시작 -> 완료 \n",
        "* 이미지들로부터 동영상 만들기\n",
        "    * 주행분석 이미지들로부터 연속동작 영상만들기\n",
        "    * 저장포맷은 확장자 avi로, 다운로드 받아서 확인이 필요\n",
        "\n",
        "[note]\n",
        "\n",
        "* Google Colab에서 사용 시, 메뉴에서 런타임 > 런타임 유형변경 을 선택하고, GPU/TPU를 설정해야합니다."
      ]
    },
    {
      "cell_type": "code",
      "metadata": {
        "id": "1kOFvendnKne",
        "colab_type": "code",
        "colab": {}
      },
      "source": [
        "import cv2\n",
        "import os"
      ],
      "execution_count": 1,
      "outputs": []
    },
    {
      "cell_type": "markdown",
      "metadata": {
        "id": "w_Vb-c25nKph",
        "colab_type": "text"
      },
      "source": [
        "## [1] DeepPiCar Git코드 다운로드"
      ]
    },
    {
      "cell_type": "code",
      "metadata": {
        "id": "KSGloIOunfNI",
        "colab_type": "code",
        "colab": {
          "base_uri": "https://localhost:8080/",
          "height": 102
        },
        "outputId": "43df71bd-825d-4f23-f795-145a79b2fc17"
      },
      "source": [
        "! git clone https://github.com/dctian/DeepPiCar.git"
      ],
      "execution_count": 2,
      "outputs": [
        {
          "output_type": "stream",
          "text": [
            "Cloning into 'DeepPiCar'...\n",
            "remote: Enumerating objects: 1027, done.\u001b[K\n",
            "remote: Total 1027 (delta 0), reused 0 (delta 0), pack-reused 1027\u001b[K\n",
            "Receiving objects: 100% (1027/1027), 141.14 MiB | 29.08 MiB/s, done.\n",
            "Resolving deltas: 100% (320/320), done.\n"
          ],
          "name": "stdout"
        }
      ]
    },
    {
      "cell_type": "code",
      "metadata": {
        "id": "XrTQy5shnfPl",
        "colab_type": "code",
        "colab": {
          "base_uri": "https://localhost:8080/",
          "height": 34
        },
        "outputId": "72ce0ea8-1e5f-4745-c52a-bffe49211ab7"
      },
      "source": [
        "! pwd\n",
        "! cd DeepPiCar"
      ],
      "execution_count": 3,
      "outputs": [
        {
          "output_type": "stream",
          "text": [
            "/content\n"
          ],
          "name": "stdout"
        }
      ]
    },
    {
      "cell_type": "markdown",
      "metadata": {
        "id": "_MQWQoq5n4Qo",
        "colab_type": "text"
      },
      "source": [
        "## [2] 파일관련 디렉토리/경로 설정"
      ]
    },
    {
      "cell_type": "code",
      "metadata": {
        "id": "Nl6JN17dn4te",
        "colab_type": "code",
        "colab": {}
      },
      "source": [
        "images_dir = '/content/DeepPiCar/models/lane_navigation/data/images'"
      ],
      "execution_count": 4,
      "outputs": []
    },
    {
      "cell_type": "markdown",
      "metadata": {
        "id": "a8bgtG9moGVI",
        "colab_type": "text"
      },
      "source": [
        "## [3] 이미지 디렉토리로부터 이미지들 순서대로 이름 목록 저장하기"
      ]
    },
    {
      "cell_type": "markdown",
      "metadata": {
        "id": "17gV8_hCpCgV",
        "colab_type": "text"
      },
      "source": [
        "### 1> 디렉토리의 이미지 파일들 이름 가져와서 목록 생성하기"
      ]
    },
    {
      "cell_type": "code",
      "metadata": {
        "id": "qo2J6W6roGss",
        "colab_type": "code",
        "colab": {}
      },
      "source": [
        "frames_path_list = []\n",
        "for x in os.listdir(images_dir):\n",
        "    if x.endswith('png'):\n",
        "        frames_path_list.append(x)\n",
        "\n",
        "# 이름순서대로 soring하기(내림차순)\n",
        "frames_path_list.sort()"
      ],
      "execution_count": 5,
      "outputs": []
    },
    {
      "cell_type": "code",
      "metadata": {
        "id": "sfzwTB1LoiRr",
        "colab_type": "code",
        "colab": {
          "base_uri": "https://localhost:8080/",
          "height": 34
        },
        "outputId": "6cc0352a-2fc9-4a1b-9d86-bba9bd9cfc3c"
      },
      "source": [
        "frames_path_list[0:3]"
      ],
      "execution_count": null,
      "outputs": [
        {
          "output_type": "execute_result",
          "data": {
            "text/plain": [
              "['video01_000_085.png', 'video01_001_080.png', 'video01_002_077.png']"
            ]
          },
          "metadata": {
            "tags": []
          },
          "execution_count": 11
        }
      ]
    },
    {
      "cell_type": "markdown",
      "metadata": {
        "id": "MBwDQxa_o6nI",
        "colab_type": "text"
      },
      "source": [
        "### 2> 파일의 전체경로 생성하기"
      ]
    },
    {
      "cell_type": "code",
      "metadata": {
        "id": "1SpE4LRdpMm6",
        "colab_type": "code",
        "colab": {}
      },
      "source": [
        "image_full_path_list = [ \"%s/%s\"%(images_dir,fname) for fname in frames_path_list]"
      ],
      "execution_count": 6,
      "outputs": []
    },
    {
      "cell_type": "code",
      "metadata": {
        "id": "KBImsKeIpMpS",
        "colab_type": "code",
        "colab": {
          "base_uri": "https://localhost:8080/",
          "height": 68
        },
        "outputId": "ad799098-a7e0-4ff0-d6ec-6a0ef6d6ad09"
      },
      "source": [
        "image_full_path_list[0:3]"
      ],
      "execution_count": 7,
      "outputs": [
        {
          "output_type": "execute_result",
          "data": {
            "text/plain": [
              "['/content/DeepPiCar/models/lane_navigation/data/images/video01_000_085.png',\n",
              " '/content/DeepPiCar/models/lane_navigation/data/images/video01_001_080.png',\n",
              " '/content/DeepPiCar/models/lane_navigation/data/images/video01_002_077.png']"
            ]
          },
          "metadata": {
            "tags": []
          },
          "execution_count": 7
        }
      ]
    },
    {
      "cell_type": "markdown",
      "metadata": {
        "id": "uPK5iYZVnKr9",
        "colab_type": "text"
      },
      "source": [
        "## [2] \b이미지들로부터 영상 만들기 함수"
      ]
    },
    {
      "cell_type": "markdown",
      "metadata": {
        "id": "fcO-I-kpq6j4",
        "colab_type": "text"
      },
      "source": [
        "### 1> 이미지 로딩하기(BGR -> RGB)"
      ]
    },
    {
      "cell_type": "code",
      "metadata": {
        "id": "Oj4s_yXGqfsK",
        "colab_type": "code",
        "colab": {}
      },
      "source": [
        "def load_rgb_image(file_path):\n",
        "    img_frame = cv2.imread(file_path)\n",
        "    # BGR -> RGB\n",
        "    rgb_img_frame = cv2.cvtColor(img_frame, cv2.COLOR_BGR2RGB) \n",
        "    return rgb_img_frame"
      ],
      "execution_count": 8,
      "outputs": []
    },
    {
      "cell_type": "code",
      "metadata": {
        "id": "NPrvUF9yszbc",
        "colab_type": "code",
        "colab": {}
      },
      "source": [
        "def load_bgr_image(file_path):\n",
        "    img_frame = cv2.imread(file_path)\n",
        "    return img_frame"
      ],
      "execution_count": 9,
      "outputs": []
    },
    {
      "cell_type": "code",
      "metadata": {
        "id": "iW90frm8qt_2",
        "colab_type": "code",
        "colab": {
          "base_uri": "https://localhost:8080/",
          "height": 34
        },
        "outputId": "181f25cb-2088-464a-cc0f-e3440a0d751a"
      },
      "source": [
        "# 이미지 로딩 테스트\n",
        "rgb_image = load_rgb_image(image_full_path_list[0])\n",
        "rgb_image.shape"
      ],
      "execution_count": 10,
      "outputs": [
        {
          "output_type": "execute_result",
          "data": {
            "text/plain": [
              "(240, 320, 3)"
            ]
          },
          "metadata": {
            "tags": []
          },
          "execution_count": 10
        }
      ]
    },
    {
      "cell_type": "markdown",
      "metadata": {
        "id": "cjDMAYh8q-0U",
        "colab_type": "text"
      },
      "source": [
        "### 2> 이미지들로부터 동영상 생성\n",
        "* [Notice] 이미지들로부터 영상을 만들 때, 이미지 로딩포맷은 BGR\n",
        "    * RGB로 변환 후, 영상포맷에 저장하면 파란색으로 보임(BGR포맷으로 표시)"
      ]
    },
    {
      "cell_type": "code",
      "metadata": {
        "id": "CESky_XCnKuD",
        "colab_type": "code",
        "colab": {}
      },
      "source": [
        "def make_images_to_video(images_path_list,video_file_name,vid_fps=24):\n",
        "    bgr_image = load_bgr_image(images_path_list[0])\n",
        "    height, width,_ = bgr_image.shape\n",
        "    codec = cv2.VideoWriter_fourcc(*'XVID')\n",
        "\n",
        "    #fourcc = cv2.cv.CV_FOURCC(*'XVID')\n",
        "    #out = cv2.VideoWriter('output.avi',fourcc, 20.0, (640,480))\n",
        "\n",
        "    vid_size = (width,height)\n",
        "    vid_writer = cv2.VideoWriter(video_file_name, codec, vid_fps, vid_size) \n",
        "\n",
        "    ncounts = len(images_path_list)\n",
        "    for i in range(ncounts):\n",
        "        bgr_image = load_bgr_image(images_path_list[i])\n",
        "        vid_writer.write(bgr_image)         \n",
        "    vid_writer.release()"
      ],
      "execution_count": 11,
      "outputs": []
    },
    {
      "cell_type": "code",
      "metadata": {
        "id": "yne92yl4rr0o",
        "colab_type": "code",
        "colab": {}
      },
      "source": [
        "vid_fps=20\n",
        "video_file_path = f'/content/driving_video_{vid_fps}.avi'\n",
        "\n",
        "make_images_to_video(image_full_path_list, video_file_path,vid_fps=vid_fps)"
      ],
      "execution_count": 12,
      "outputs": []
    },
    {
      "cell_type": "markdown",
      "metadata": {
        "id": "iC2MgbXCW20L",
        "colab_type": "text"
      },
      "source": [
        "### 3> 아래의 디렉토리에서 이미지로 결합된 영상 다운로드\n",
        "\n",
        "```\n",
        "/content/driving_video_20.avi\n",
        "```"
      ]
    }
  ]
}