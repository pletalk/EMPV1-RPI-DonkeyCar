{
  "nbformat": 4,
  "nbformat_minor": 0,
  "metadata": {
    "colab": {
      "name": "Donkey Car Training using Google Colab-KR Edition-1.13.1_V2",
      "provenance": [],
      "collapsed_sections": [],
      "toc_visible": true,
      "include_colab_link": true
    },
    "kernelspec": {
      "name": "python3",
      "display_name": "Python 3"
    },
    "accelerator": "GPU"
  },
  "cells": [
    {
      "cell_type": "markdown",
      "metadata": {
        "id": "view-in-github",
        "colab_type": "text"
      },
      "source": [
        "<a href=\"https://colab.research.google.com/github/pletalk/EMPV1-RPI-DonkeyCar/blob/main/Donkey_Car_Training_using_Google_Colab_KR_Edition_1_13_1_V2.ipynb\" target=\"_parent\"><img src=\"https://colab.research.google.com/assets/colab-badge.svg\" alt=\"Open In Colab\"/></a>"
      ]
    },
    {
      "cell_type": "markdown",
      "metadata": {
        "id": "BlmQIFSLZDdc"
      },
      "source": [
        "# Google Colaboratory를 활용한 동키카 학습을 위한 단계별 가이드\n",
        "\n",
        "@2021-01-27/Ignitespark\n",
        "\n",
        "Google에서 지원하는 Colaboratory 환경에서 Donkey의 주행 영상데이타를 활용해서 신경회로망의 학습을 단계적으로 수행하도록 안내하는 노트북입니다.\n",
        "\n",
        "원할한 수행을 위해서 메뉴의 런타임 > 런타임 유형변경에서 GPU/TPU를 선택해 주세요.\n",
        "\n",
        "*(Reference)* \n",
        "\n",
        "본 코드는 Sachindroid8님이 작성하신 Google Colaboratory기반의 Donkey Training 주피터 노트북에 기반하여 내용을 한글화하고, 교육에 필요한 내용을 추가하여 확장하였습니다. Sachindroid8님이 작성하신 Git의 코드 주소는 아래와 같습니다.\n",
        "\n",
        "https://github.com/sachindroid8/self-driving-car-using-google-colab\n",
        "\n",
        "<변경내용>\n",
        "* 2021-01-27\n",
        "    * donkeycar 4.1버전으로 업데이트됨에 따라 github에서 프로그램을 가져오면 3.1.5버전이 아닌 4.1버전을 다운로드\n",
        "    * 이전 버전으로 브랜치를 설정하고 적용(donkey-3.x)\n",
        "* 11-11\n",
        "    * Tensorflow 1.15.2버전 지원\n",
        "    * Donkeycar 3.1.5버전 지원\n",
        "    * Donkeycar의 validation_step설정을 위해서 cfg.BATCH_SIZE=64로 변경(디폴트: 128)\n",
        "*08-01 \n",
        "    * Tensorflow설치(2.0alpha)코드 삭제 -> 현재 2.2버전지원\n",
        "    * 수행코드 일부변경\n",
        "\n",
        "<실행을 위한 참고사항>\n",
        "* donkeycar의 학습을 위해서 Tensorflow의 버전을 1.15.2로 설정합니다. \n",
        "* Google Colab의 학습환경과 PC/노트북의 Tensorflow환경을 맞추도록 합니다.\n",
        "* PC/노트북의 경우, pip install tensorflow==1.15.2 를 수행하도록 합니다.\n",
        "\n",
        "<참고>\n",
        "* donkeycar visualization - https://colab.research.google.com/github/uwesterr/MlFastAiBlog/blob/master/_notebooks/2020-03-01-TrainDonkeyCar.ipynb"
      ]
    },
    {
      "cell_type": "markdown",
      "metadata": {
        "id": "PcxPuVeq6rQI"
      },
      "source": [
        "# 0 > Google Colaboratory를 사용하기 전에 알아두어야할 사항들"
      ]
    },
    {
      "cell_type": "markdown",
      "metadata": {
        "id": "Z17oTx4n6xn_"
      },
      "source": [
        "Google Colaboratory는 구글이 지원하는 머신러닝 및 데이타처리를 위한 무료 서비스 플랫폼입니다. Google Colaboratory에서는 고성능의 GPU를 제공하여 머신러닝의 학습속도를 빠르게 수행할 수 있는 우수한 기능을 제공하고 있습니다. 이런 기능들을 활용하는데 있어서 반드시 알아두어야할 사항들은 아래와 같습니다.\n",
        "\n",
        "\n",
        "* Google Colaboratory는 12시간 동안만 사용 가능합니다. 사용자가 프로그램 수행을 위한 노트를 개설하고 수행하는데 있어서 최대 12시간 이내에서만 사용할 수 있습니다. Google Colaboratory는 12시간이 지나면 개인에게 할당했던 모든 컴퓨팅 자원(CPU,메모리,GPU등)을 리셋(재설정)합니다.\n",
        "\n",
        "* 12시간 이내라도 80분간 사용하지 않으면, 개인에게 할당했던 모든 컴퓨팅 자원(CPU,메모리,GPU등)을 리셋(재설정)합니다.\n",
        "\n",
        "* 할당된 자원이 리셋(재설정)되었다고 다시 사용하지 못하는 것은 아닙니다. 개인의 구글 드라이브에 저장된 Google Laboratory에서 작성한 주피터 노트북을 다시 로드하고 프로젝트를 새로이 시작하면 됩니다. 또 다른 12시간의 개발과 테스팅 시간이 시작됩니다.\n",
        "\n",
        "* Google Laboratory에서 수행한 내용들은 주피터 노트북에 과정과 내용을 기록하여 재 사용가능하도록 합니다. 생성하거나 사용한 노트북은 개인의 구글 드라이브에 파일로 저장이 가능합니다."
      ]
    },
    {
      "cell_type": "markdown",
      "metadata": {
        "id": "5l4MpFXFip98"
      },
      "source": [
        "# 1 > Google Colaboratory의 컴퓨팅 환경\n",
        "\n",
        "구글의 Colaboratory에서 지원되는 기본적인 컴퓨팅 환경의 다양한 정보들을 통해 성능을 확인해봅니다."
      ]
    },
    {
      "cell_type": "markdown",
      "metadata": {
        "id": "EJjLud26jNI7"
      },
      "source": [
        "## 1.1 OS 확인하기"
      ]
    },
    {
      "cell_type": "code",
      "metadata": {
        "id": "og0R-h2zipTQ",
        "colab": {
          "base_uri": "https://localhost:8080/"
        },
        "outputId": "26b24ba8-3cd3-41a8-ff69-4587a28937a1"
      },
      "source": [
        "! cat /etc/issue.net"
      ],
      "execution_count": 1,
      "outputs": [
        {
          "output_type": "stream",
          "text": [
            "Ubuntu 18.04.5 LTS\n"
          ],
          "name": "stdout"
        }
      ]
    },
    {
      "cell_type": "markdown",
      "metadata": {
        "id": "Z4QMph5LjUeE"
      },
      "source": [
        "## 1.2 Google Colaboratory GPU 정보보기"
      ]
    },
    {
      "cell_type": "code",
      "metadata": {
        "id": "c8tmMHYcjZ4c",
        "colab": {
          "base_uri": "https://localhost:8080/"
        },
        "outputId": "af75df9b-8bd0-4049-e5a9-fd1018631b84"
      },
      "source": [
        "! nvidia-smi"
      ],
      "execution_count": 2,
      "outputs": [
        {
          "output_type": "stream",
          "text": [
            "Wed Jan 27 08:12:41 2021       \n",
            "+-----------------------------------------------------------------------------+\n",
            "| NVIDIA-SMI 460.32.03    Driver Version: 418.67       CUDA Version: 10.1     |\n",
            "|-------------------------------+----------------------+----------------------+\n",
            "| GPU  Name        Persistence-M| Bus-Id        Disp.A | Volatile Uncorr. ECC |\n",
            "| Fan  Temp  Perf  Pwr:Usage/Cap|         Memory-Usage | GPU-Util  Compute M. |\n",
            "|                               |                      |               MIG M. |\n",
            "|===============================+======================+======================|\n",
            "|   0  Tesla T4            Off  | 00000000:00:04.0 Off |                    0 |\n",
            "| N/A   46C    P8     9W /  70W |      0MiB / 15079MiB |      0%      Default |\n",
            "|                               |                      |                 ERR! |\n",
            "+-------------------------------+----------------------+----------------------+\n",
            "                                                                               \n",
            "+-----------------------------------------------------------------------------+\n",
            "| Processes:                                                                  |\n",
            "|  GPU   GI   CI        PID   Type   Process name                  GPU Memory |\n",
            "|        ID   ID                                                   Usage      |\n",
            "|=============================================================================|\n",
            "|  No running processes found                                                 |\n",
            "+-----------------------------------------------------------------------------+\n"
          ],
          "name": "stdout"
        }
      ]
    },
    {
      "cell_type": "markdown",
      "metadata": {
        "id": "TU6Q-ZqFjp1M"
      },
      "source": [
        "## 1.3 메모리 용량 파악하기"
      ]
    },
    {
      "cell_type": "code",
      "metadata": {
        "id": "GC0zt4zNjqK3",
        "colab": {
          "base_uri": "https://localhost:8080/"
        },
        "outputId": "112c8fec-d375-4d24-d546-410db627bacc"
      },
      "source": [
        "! cat /proc/meminfo"
      ],
      "execution_count": 3,
      "outputs": [
        {
          "output_type": "stream",
          "text": [
            "MemTotal:       13333596 kB\n",
            "MemFree:        10326288 kB\n",
            "MemAvailable:   12487536 kB\n",
            "Buffers:           90024 kB\n",
            "Cached:          2219384 kB\n",
            "SwapCached:            0 kB\n",
            "Active:           739552 kB\n",
            "Inactive:        1961260 kB\n",
            "Active(anon):     364896 kB\n",
            "Inactive(anon):      372 kB\n",
            "Active(file):     374656 kB\n",
            "Inactive(file):  1960888 kB\n",
            "Unevictable:           0 kB\n",
            "Mlocked:               0 kB\n",
            "SwapTotal:             0 kB\n",
            "SwapFree:              0 kB\n",
            "Dirty:               228 kB\n",
            "Writeback:             0 kB\n",
            "AnonPages:        391384 kB\n",
            "Mapped:           215004 kB\n",
            "Shmem:              1032 kB\n",
            "Slab:             175692 kB\n",
            "SReclaimable:     132820 kB\n",
            "SUnreclaim:        42872 kB\n",
            "KernelStack:        4160 kB\n",
            "PageTables:         5232 kB\n",
            "NFS_Unstable:          0 kB\n",
            "Bounce:                0 kB\n",
            "WritebackTmp:          0 kB\n",
            "CommitLimit:     6666796 kB\n",
            "Committed_AS:    2908072 kB\n",
            "VmallocTotal:   34359738367 kB\n",
            "VmallocUsed:           0 kB\n",
            "VmallocChunk:          0 kB\n",
            "Percpu:             1048 kB\n",
            "AnonHugePages:         0 kB\n",
            "ShmemHugePages:        0 kB\n",
            "ShmemPmdMapped:        0 kB\n",
            "HugePages_Total:       0\n",
            "HugePages_Free:        0\n",
            "HugePages_Rsvd:        0\n",
            "HugePages_Surp:        0\n",
            "Hugepagesize:       2048 kB\n",
            "Hugetlb:               0 kB\n",
            "DirectMap4k:      120040 kB\n",
            "DirectMap2M:     5122048 kB\n",
            "DirectMap1G:    10485760 kB\n"
          ],
          "name": "stdout"
        }
      ]
    },
    {
      "cell_type": "markdown",
      "metadata": {
        "id": "YhlZkOuQj1kW"
      },
      "source": [
        "## 1.4 CPU 정보 파악하기"
      ]
    },
    {
      "cell_type": "code",
      "metadata": {
        "id": "1e4y0p2fj1sq",
        "colab": {
          "base_uri": "https://localhost:8080/"
        },
        "outputId": "3d98887c-8ade-4aa8-fe1f-a458fe82e4da"
      },
      "source": [
        "! cat /proc/cpuinfo"
      ],
      "execution_count": 4,
      "outputs": [
        {
          "output_type": "stream",
          "text": [
            "processor\t: 0\n",
            "vendor_id\t: GenuineIntel\n",
            "cpu family\t: 6\n",
            "model\t\t: 79\n",
            "model name\t: Intel(R) Xeon(R) CPU @ 2.20GHz\n",
            "stepping\t: 0\n",
            "microcode\t: 0x1\n",
            "cpu MHz\t\t: 2199.998\n",
            "cache size\t: 56320 KB\n",
            "physical id\t: 0\n",
            "siblings\t: 2\n",
            "core id\t\t: 0\n",
            "cpu cores\t: 1\n",
            "apicid\t\t: 0\n",
            "initial apicid\t: 0\n",
            "fpu\t\t: yes\n",
            "fpu_exception\t: yes\n",
            "cpuid level\t: 13\n",
            "wp\t\t: yes\n",
            "flags\t\t: fpu vme de pse tsc msr pae mce cx8 apic sep mtrr pge mca cmov pat pse36 clflush mmx fxsr sse sse2 ss ht syscall nx pdpe1gb rdtscp lm constant_tsc rep_good nopl xtopology nonstop_tsc cpuid tsc_known_freq pni pclmulqdq ssse3 fma cx16 pcid sse4_1 sse4_2 x2apic movbe popcnt aes xsave avx f16c rdrand hypervisor lahf_lm abm 3dnowprefetch invpcid_single ssbd ibrs ibpb stibp fsgsbase tsc_adjust bmi1 hle avx2 smep bmi2 erms invpcid rtm rdseed adx smap xsaveopt arat md_clear arch_capabilities\n",
            "bugs\t\t: cpu_meltdown spectre_v1 spectre_v2 spec_store_bypass l1tf mds swapgs taa\n",
            "bogomips\t: 4399.99\n",
            "clflush size\t: 64\n",
            "cache_alignment\t: 64\n",
            "address sizes\t: 46 bits physical, 48 bits virtual\n",
            "power management:\n",
            "\n",
            "processor\t: 1\n",
            "vendor_id\t: GenuineIntel\n",
            "cpu family\t: 6\n",
            "model\t\t: 79\n",
            "model name\t: Intel(R) Xeon(R) CPU @ 2.20GHz\n",
            "stepping\t: 0\n",
            "microcode\t: 0x1\n",
            "cpu MHz\t\t: 2199.998\n",
            "cache size\t: 56320 KB\n",
            "physical id\t: 0\n",
            "siblings\t: 2\n",
            "core id\t\t: 0\n",
            "cpu cores\t: 1\n",
            "apicid\t\t: 1\n",
            "initial apicid\t: 1\n",
            "fpu\t\t: yes\n",
            "fpu_exception\t: yes\n",
            "cpuid level\t: 13\n",
            "wp\t\t: yes\n",
            "flags\t\t: fpu vme de pse tsc msr pae mce cx8 apic sep mtrr pge mca cmov pat pse36 clflush mmx fxsr sse sse2 ss ht syscall nx pdpe1gb rdtscp lm constant_tsc rep_good nopl xtopology nonstop_tsc cpuid tsc_known_freq pni pclmulqdq ssse3 fma cx16 pcid sse4_1 sse4_2 x2apic movbe popcnt aes xsave avx f16c rdrand hypervisor lahf_lm abm 3dnowprefetch invpcid_single ssbd ibrs ibpb stibp fsgsbase tsc_adjust bmi1 hle avx2 smep bmi2 erms invpcid rtm rdseed adx smap xsaveopt arat md_clear arch_capabilities\n",
            "bugs\t\t: cpu_meltdown spectre_v1 spectre_v2 spec_store_bypass l1tf mds swapgs taa\n",
            "bogomips\t: 4399.99\n",
            "clflush size\t: 64\n",
            "cache_alignment\t: 64\n",
            "address sizes\t: 46 bits physical, 48 bits virtual\n",
            "power management:\n",
            "\n"
          ],
          "name": "stdout"
        }
      ]
    },
    {
      "cell_type": "markdown",
      "metadata": {
        "id": "liQZb4cDmZgy"
      },
      "source": [
        "# 2 > 텐서플로우 1.X으로 업데이트하기\n",
        "텐서플로우(tensorflow)와 Keras의 설치 버전을 확인합니다."
      ]
    },
    {
      "cell_type": "code",
      "metadata": {
        "id": "YuaQ-lEX5B0B",
        "colab": {
          "base_uri": "https://localhost:8080/"
        },
        "outputId": "74f38636-b860-40fc-a03c-c9fad1df0671"
      },
      "source": [
        "!pip install tensorflow==1.13.1\n",
        "!pip install tensorflow-gpu==1.13.1"
      ],
      "execution_count": 5,
      "outputs": [
        {
          "output_type": "stream",
          "text": [
            "Collecting tensorflow==1.13.1\n",
            "\u001b[?25l  Downloading https://files.pythonhosted.org/packages/77/63/a9fa76de8dffe7455304c4ed635be4aa9c0bacef6e0633d87d5f54530c5c/tensorflow-1.13.1-cp36-cp36m-manylinux1_x86_64.whl (92.5MB)\n",
            "\u001b[K     |████████████████████████████████| 92.5MB 60kB/s \n",
            "\u001b[?25hCollecting tensorboard<1.14.0,>=1.13.0\n",
            "\u001b[?25l  Downloading https://files.pythonhosted.org/packages/0f/39/bdd75b08a6fba41f098b6cb091b9e8c7a80e1b4d679a581a0ccd17b10373/tensorboard-1.13.1-py3-none-any.whl (3.2MB)\n",
            "\u001b[K     |████████████████████████████████| 3.2MB 56.6MB/s \n",
            "\u001b[?25hRequirement already satisfied: astor>=0.6.0 in /usr/local/lib/python3.6/dist-packages (from tensorflow==1.13.1) (0.8.1)\n",
            "Requirement already satisfied: absl-py>=0.1.6 in /usr/local/lib/python3.6/dist-packages (from tensorflow==1.13.1) (0.10.0)\n",
            "Requirement already satisfied: termcolor>=1.1.0 in /usr/local/lib/python3.6/dist-packages (from tensorflow==1.13.1) (1.1.0)\n",
            "Requirement already satisfied: six>=1.10.0 in /usr/local/lib/python3.6/dist-packages (from tensorflow==1.13.1) (1.15.0)\n",
            "Collecting keras-applications>=1.0.6\n",
            "\u001b[?25l  Downloading https://files.pythonhosted.org/packages/71/e3/19762fdfc62877ae9102edf6342d71b28fbfd9dea3d2f96a882ce099b03f/Keras_Applications-1.0.8-py3-none-any.whl (50kB)\n",
            "\u001b[K     |████████████████████████████████| 51kB 8.9MB/s \n",
            "\u001b[?25hRequirement already satisfied: grpcio>=1.8.6 in /usr/local/lib/python3.6/dist-packages (from tensorflow==1.13.1) (1.32.0)\n",
            "Requirement already satisfied: protobuf>=3.6.1 in /usr/local/lib/python3.6/dist-packages (from tensorflow==1.13.1) (3.12.4)\n",
            "Requirement already satisfied: numpy>=1.13.3 in /usr/local/lib/python3.6/dist-packages (from tensorflow==1.13.1) (1.19.5)\n",
            "Requirement already satisfied: gast>=0.2.0 in /usr/local/lib/python3.6/dist-packages (from tensorflow==1.13.1) (0.3.3)\n",
            "Collecting tensorflow-estimator<1.14.0rc0,>=1.13.0\n",
            "\u001b[?25l  Downloading https://files.pythonhosted.org/packages/bb/48/13f49fc3fa0fdf916aa1419013bb8f2ad09674c275b4046d5ee669a46873/tensorflow_estimator-1.13.0-py2.py3-none-any.whl (367kB)\n",
            "\u001b[K     |████████████████████████████████| 368kB 56.4MB/s \n",
            "\u001b[?25hRequirement already satisfied: keras-preprocessing>=1.0.5 in /usr/local/lib/python3.6/dist-packages (from tensorflow==1.13.1) (1.1.2)\n",
            "Requirement already satisfied: wheel>=0.26 in /usr/local/lib/python3.6/dist-packages (from tensorflow==1.13.1) (0.36.2)\n",
            "Requirement already satisfied: werkzeug>=0.11.15 in /usr/local/lib/python3.6/dist-packages (from tensorboard<1.14.0,>=1.13.0->tensorflow==1.13.1) (1.0.1)\n",
            "Requirement already satisfied: markdown>=2.6.8 in /usr/local/lib/python3.6/dist-packages (from tensorboard<1.14.0,>=1.13.0->tensorflow==1.13.1) (3.3.3)\n",
            "Requirement already satisfied: h5py in /usr/local/lib/python3.6/dist-packages (from keras-applications>=1.0.6->tensorflow==1.13.1) (2.10.0)\n",
            "Requirement already satisfied: setuptools in /usr/local/lib/python3.6/dist-packages (from protobuf>=3.6.1->tensorflow==1.13.1) (51.3.3)\n",
            "Collecting mock>=2.0.0\n",
            "  Downloading https://files.pythonhosted.org/packages/5c/03/b7e605db4a57c0f6fba744b11ef3ddf4ddebcada35022927a2b5fc623fdf/mock-4.0.3-py3-none-any.whl\n",
            "Requirement already satisfied: importlib-metadata; python_version < \"3.8\" in /usr/local/lib/python3.6/dist-packages (from markdown>=2.6.8->tensorboard<1.14.0,>=1.13.0->tensorflow==1.13.1) (3.3.0)\n",
            "Requirement already satisfied: zipp>=0.5 in /usr/local/lib/python3.6/dist-packages (from importlib-metadata; python_version < \"3.8\"->markdown>=2.6.8->tensorboard<1.14.0,>=1.13.0->tensorflow==1.13.1) (3.4.0)\n",
            "Requirement already satisfied: typing-extensions>=3.6.4; python_version < \"3.8\" in /usr/local/lib/python3.6/dist-packages (from importlib-metadata; python_version < \"3.8\"->markdown>=2.6.8->tensorboard<1.14.0,>=1.13.0->tensorflow==1.13.1) (3.7.4.3)\n",
            "Installing collected packages: tensorboard, keras-applications, mock, tensorflow-estimator, tensorflow\n",
            "  Found existing installation: tensorboard 2.4.0\n",
            "    Uninstalling tensorboard-2.4.0:\n",
            "      Successfully uninstalled tensorboard-2.4.0\n",
            "  Found existing installation: tensorflow-estimator 2.4.0\n",
            "    Uninstalling tensorflow-estimator-2.4.0:\n",
            "      Successfully uninstalled tensorflow-estimator-2.4.0\n",
            "  Found existing installation: tensorflow 2.4.0\n",
            "    Uninstalling tensorflow-2.4.0:\n",
            "      Successfully uninstalled tensorflow-2.4.0\n",
            "Successfully installed keras-applications-1.0.8 mock-4.0.3 tensorboard-1.13.1 tensorflow-1.13.1 tensorflow-estimator-1.13.0\n",
            "Collecting tensorflow-gpu==1.13.1\n",
            "\u001b[?25l  Downloading https://files.pythonhosted.org/packages/7b/b1/0ad4ae02e17ddd62109cd54c291e311c4b5fd09b4d0678d3d6ce4159b0f0/tensorflow_gpu-1.13.1-cp36-cp36m-manylinux1_x86_64.whl (345.2MB)\n",
            "\u001b[K     |████████████████████████████████| 345.2MB 52kB/s \n",
            "\u001b[?25hRequirement already satisfied: numpy>=1.13.3 in /usr/local/lib/python3.6/dist-packages (from tensorflow-gpu==1.13.1) (1.19.5)\n",
            "Requirement already satisfied: tensorflow-estimator<1.14.0rc0,>=1.13.0 in /usr/local/lib/python3.6/dist-packages (from tensorflow-gpu==1.13.1) (1.13.0)\n",
            "Requirement already satisfied: keras-applications>=1.0.6 in /usr/local/lib/python3.6/dist-packages (from tensorflow-gpu==1.13.1) (1.0.8)\n",
            "Requirement already satisfied: keras-preprocessing>=1.0.5 in /usr/local/lib/python3.6/dist-packages (from tensorflow-gpu==1.13.1) (1.1.2)\n",
            "Requirement already satisfied: protobuf>=3.6.1 in /usr/local/lib/python3.6/dist-packages (from tensorflow-gpu==1.13.1) (3.12.4)\n",
            "Requirement already satisfied: absl-py>=0.1.6 in /usr/local/lib/python3.6/dist-packages (from tensorflow-gpu==1.13.1) (0.10.0)\n",
            "Requirement already satisfied: grpcio>=1.8.6 in /usr/local/lib/python3.6/dist-packages (from tensorflow-gpu==1.13.1) (1.32.0)\n",
            "Requirement already satisfied: astor>=0.6.0 in /usr/local/lib/python3.6/dist-packages (from tensorflow-gpu==1.13.1) (0.8.1)\n",
            "Requirement already satisfied: wheel>=0.26 in /usr/local/lib/python3.6/dist-packages (from tensorflow-gpu==1.13.1) (0.36.2)\n",
            "Requirement already satisfied: gast>=0.2.0 in /usr/local/lib/python3.6/dist-packages (from tensorflow-gpu==1.13.1) (0.3.3)\n",
            "Requirement already satisfied: termcolor>=1.1.0 in /usr/local/lib/python3.6/dist-packages (from tensorflow-gpu==1.13.1) (1.1.0)\n",
            "Requirement already satisfied: tensorboard<1.14.0,>=1.13.0 in /usr/local/lib/python3.6/dist-packages (from tensorflow-gpu==1.13.1) (1.13.1)\n",
            "Requirement already satisfied: six>=1.10.0 in /usr/local/lib/python3.6/dist-packages (from tensorflow-gpu==1.13.1) (1.15.0)\n",
            "Requirement already satisfied: mock>=2.0.0 in /usr/local/lib/python3.6/dist-packages (from tensorflow-estimator<1.14.0rc0,>=1.13.0->tensorflow-gpu==1.13.1) (4.0.3)\n",
            "Requirement already satisfied: h5py in /usr/local/lib/python3.6/dist-packages (from keras-applications>=1.0.6->tensorflow-gpu==1.13.1) (2.10.0)\n",
            "Requirement already satisfied: setuptools in /usr/local/lib/python3.6/dist-packages (from protobuf>=3.6.1->tensorflow-gpu==1.13.1) (51.3.3)\n",
            "Requirement already satisfied: markdown>=2.6.8 in /usr/local/lib/python3.6/dist-packages (from tensorboard<1.14.0,>=1.13.0->tensorflow-gpu==1.13.1) (3.3.3)\n",
            "Requirement already satisfied: werkzeug>=0.11.15 in /usr/local/lib/python3.6/dist-packages (from tensorboard<1.14.0,>=1.13.0->tensorflow-gpu==1.13.1) (1.0.1)\n",
            "Requirement already satisfied: importlib-metadata; python_version < \"3.8\" in /usr/local/lib/python3.6/dist-packages (from markdown>=2.6.8->tensorboard<1.14.0,>=1.13.0->tensorflow-gpu==1.13.1) (3.3.0)\n",
            "Requirement already satisfied: zipp>=0.5 in /usr/local/lib/python3.6/dist-packages (from importlib-metadata; python_version < \"3.8\"->markdown>=2.6.8->tensorboard<1.14.0,>=1.13.0->tensorflow-gpu==1.13.1) (3.4.0)\n",
            "Requirement already satisfied: typing-extensions>=3.6.4; python_version < \"3.8\" in /usr/local/lib/python3.6/dist-packages (from importlib-metadata; python_version < \"3.8\"->markdown>=2.6.8->tensorboard<1.14.0,>=1.13.0->tensorflow-gpu==1.13.1) (3.7.4.3)\n",
            "Installing collected packages: tensorflow-gpu\n",
            "Successfully installed tensorflow-gpu-1.13.1\n"
          ],
          "name": "stdout"
        }
      ]
    },
    {
      "cell_type": "code",
      "metadata": {
        "id": "l2HZENUv4_W6",
        "colab": {
          "base_uri": "https://localhost:8080/"
        },
        "outputId": "21aed635-e5ab-41b7-e936-ecd4d0f36717"
      },
      "source": [
        "%tensorflow_version 1.x"
      ],
      "execution_count": 6,
      "outputs": [
        {
          "output_type": "stream",
          "text": [
            "TensorFlow 1.x selected.\n"
          ],
          "name": "stdout"
        }
      ]
    },
    {
      "cell_type": "code",
      "metadata": {
        "id": "e6Jbr1_x5YHz",
        "colab": {
          "base_uri": "https://localhost:8080/"
        },
        "outputId": "b48d1a17-ee6a-4f44-97ca-36ad4bd03eb9"
      },
      "source": [
        "#import keras\n",
        "import tensorflow as tf\n",
        "print(tf.__version__)"
      ],
      "execution_count": 7,
      "outputs": [
        {
          "output_type": "stream",
          "text": [
            "1.15.2\n"
          ],
          "name": "stdout"
        }
      ]
    },
    {
      "cell_type": "code",
      "metadata": {
        "id": "ZguSsgHE4BIr"
      },
      "source": [
        ""
      ],
      "execution_count": null,
      "outputs": []
    },
    {
      "cell_type": "markdown",
      "metadata": {
        "id": "arsH-DhLcihq"
      },
      "source": [
        "# 3 > GPU 할당 체크하기\n",
        "\"Found GPU at: / device: GPU: 0\"이 표시되면, GPU가 이미 사용중이라는 의미입니다."
      ]
    },
    {
      "cell_type": "code",
      "metadata": {
        "id": "uQgEhuoTcg0N",
        "colab": {
          "base_uri": "https://localhost:8080/"
        },
        "outputId": "7cfd643f-9ffc-4c3b-f89b-397525e61140"
      },
      "source": [
        "import tensorflow as tf\n",
        "device_name = tf.test.gpu_device_name()\n",
        "if device_name != '/device:GPU:0':\n",
        "  raise SystemError('GPU device not found')\n",
        "print('Found GPU at: {}'.format(device_name))"
      ],
      "execution_count": 8,
      "outputs": [
        {
          "output_type": "stream",
          "text": [
            "Found GPU at: /device:GPU:0\n"
          ],
          "name": "stdout"
        }
      ]
    },
    {
      "cell_type": "markdown",
      "metadata": {
        "id": "Ba2oPDIrsDFg"
      },
      "source": [
        "# 4 > Donkeycar 프로그램 설치 (3.1.5)\n",
        "\n",
        "* 2020-11-11일자 기준 3.15버전을 설치 \n",
        "\n",
        "* Donkeycar의 영상데이타 기반의 학습프로그램을 활용하기 위해서 Donkeycar의 프로그램들을 Google Colaboratory에 설치해야 합니다.\n",
        "\n",
        "* Git에 저장되어 있는 Donkeycar 프로그램 저장소에서 관련 소스코드를 가져와서 Google Colaboratory에 폴더를 생성하고 해당 소스코드를 복사하여 설치합니다."
      ]
    },
    {
      "cell_type": "markdown",
      "metadata": {
        "id": "7KeM7LXB6bfK"
      },
      "source": [
        ""
      ]
    },
    {
      "cell_type": "code",
      "metadata": {
        "id": "oOxd9PFUyNxI",
        "colab": {
          "base_uri": "https://localhost:8080/"
        },
        "outputId": "f312bf47-52ae-491e-b913-27a9c8b14ddd"
      },
      "source": [
        "!git clone https://github.com/autorope/donkeycar\n",
        "%cd donkeycar\n",
        "!git checkout donkey-3.x"
      ],
      "execution_count": 9,
      "outputs": [
        {
          "output_type": "stream",
          "text": [
            "Cloning into 'donkeycar'...\n",
            "remote: Enumerating objects: 28, done.\u001b[K\n",
            "remote: Counting objects: 100% (28/28), done.\u001b[K\n",
            "remote: Compressing objects: 100% (28/28), done.\u001b[K\n",
            "remote: Total 14224 (delta 11), reused 5 (delta 0), pack-reused 14196\u001b[K\n",
            "Receiving objects: 100% (14224/14224), 83.23 MiB | 45.26 MiB/s, done.\n",
            "Resolving deltas: 100% (8970/8970), done.\n",
            "/content/donkeycar\n",
            "Branch 'donkey-3.x' set up to track remote branch 'donkey-3.x' from 'origin'.\n",
            "Switched to a new branch 'donkey-3.x'\n"
          ],
          "name": "stdout"
        }
      ]
    },
    {
      "cell_type": "markdown",
      "metadata": {
        "id": "4E8pOE73l3Fn"
      },
      "source": [
        "### (Q) 저장된 Donkeycar 소스코드는 어디에 ?\n",
        "\n",
        "Git에서 가져온 코드들은 Google Colaboratory의 탐색창의 상단의 파일 메뉴를 클릭하면 설치된 소스코드의 디렉토리를 아래와 같이 확인이 가능합니다.\n",
        "\n",
        "* Google Colaboratory의 파일은 /content 아래에 위치합니다.\n",
        "\n",
        "![DonkeyCar Git Source Codes Folder](https://api.monosnap.com/file/download?id=Apc4BB8AwlJ1tryBBykAzdnxvAwTw1)\n",
        "\n",
        "* 사용자가 /content 디렉토리 아래에 mydata라는 새로운 디렉토리(폴더)를 생성했다면, 실제 Google Colaboratory에서는 /content/mydata 라는 폴더가 생성됩니다."
      ]
    },
    {
      "cell_type": "markdown",
      "metadata": {
        "id": "9TkkcF-gsAnx"
      },
      "source": [
        "## 4.1 DonkeyCar 프로그램 설치하기\n",
        "\n",
        "DonkeyCar 프로그램 소스코드가 저장된 donkey폴더 내의 setup.py 파일을 사용해서 설치를 진행합니다."
      ]
    },
    {
      "cell_type": "code",
      "metadata": {
        "id": "jz_PZgrByPDh",
        "colab": {
          "base_uri": "https://localhost:8080/"
        },
        "outputId": "258bbebf-fddc-4c80-e14c-451c868c7bd0"
      },
      "source": [
        "!pip install -e .[pc]"
      ],
      "execution_count": 10,
      "outputs": [
        {
          "output_type": "stream",
          "text": [
            "Obtaining file:///content/donkeycar\n",
            "Requirement already satisfied: numpy in /usr/local/lib/python3.6/dist-packages (from donkeycar==3.1.1) (1.19.5)\n",
            "Requirement already satisfied: pillow in /usr/local/lib/python3.6/dist-packages (from donkeycar==3.1.1) (7.0.0)\n",
            "Requirement already satisfied: docopt in /usr/local/lib/python3.6/dist-packages (from donkeycar==3.1.1) (0.6.2)\n",
            "Requirement already satisfied: tornado in /usr/local/lib/python3.6/dist-packages (from donkeycar==3.1.1) (5.1.1)\n",
            "Requirement already satisfied: requests in /usr/local/lib/python3.6/dist-packages (from donkeycar==3.1.1) (2.23.0)\n",
            "Requirement already satisfied: h5py in /usr/local/lib/python3.6/dist-packages (from donkeycar==3.1.1) (2.10.0)\n",
            "Requirement already satisfied: moviepy in /usr/local/lib/python3.6/dist-packages (from donkeycar==3.1.1) (0.2.3.5)\n",
            "Requirement already satisfied: pandas in /usr/local/lib/python3.6/dist-packages (from donkeycar==3.1.1) (1.1.5)\n",
            "Requirement already satisfied: PrettyTable in /usr/local/lib/python3.6/dist-packages (from donkeycar==3.1.1) (2.0.0)\n",
            "Collecting paho-mqtt\n",
            "\u001b[?25l  Downloading https://files.pythonhosted.org/packages/32/d3/6dcb8fd14746fcde6a556f932b5de8bea8fedcb85b3a092e0e986372c0e7/paho-mqtt-1.5.1.tar.gz (101kB)\n",
            "\u001b[K     |████████████████████████████████| 102kB 8.3MB/s \n",
            "\u001b[?25hRequirement already satisfied: matplotlib in /usr/local/lib/python3.6/dist-packages (from donkeycar==3.1.1) (3.2.2)\n",
            "Requirement already satisfied: urllib3!=1.25.0,!=1.25.1,<1.26,>=1.21.1 in /usr/local/lib/python3.6/dist-packages (from requests->donkeycar==3.1.1) (1.24.3)\n",
            "Requirement already satisfied: chardet<4,>=3.0.2 in /usr/local/lib/python3.6/dist-packages (from requests->donkeycar==3.1.1) (3.0.4)\n",
            "Requirement already satisfied: certifi>=2017.4.17 in /usr/local/lib/python3.6/dist-packages (from requests->donkeycar==3.1.1) (2020.12.5)\n",
            "Requirement already satisfied: idna<3,>=2.5 in /usr/local/lib/python3.6/dist-packages (from requests->donkeycar==3.1.1) (2.10)\n",
            "Requirement already satisfied: six in /usr/local/lib/python3.6/dist-packages (from h5py->donkeycar==3.1.1) (1.15.0)\n",
            "Requirement already satisfied: decorator<5.0,>=4.0.2 in /usr/local/lib/python3.6/dist-packages (from moviepy->donkeycar==3.1.1) (4.4.2)\n",
            "Requirement already satisfied: imageio<3.0,>=2.1.2 in /usr/local/lib/python3.6/dist-packages (from moviepy->donkeycar==3.1.1) (2.4.1)\n",
            "Requirement already satisfied: tqdm<5.0,>=4.11.2 in /usr/local/lib/python3.6/dist-packages (from moviepy->donkeycar==3.1.1) (4.41.1)\n",
            "Requirement already satisfied: pytz>=2017.2 in /usr/local/lib/python3.6/dist-packages (from pandas->donkeycar==3.1.1) (2018.9)\n",
            "Requirement already satisfied: python-dateutil>=2.7.3 in /usr/local/lib/python3.6/dist-packages (from pandas->donkeycar==3.1.1) (2.8.1)\n",
            "Requirement already satisfied: setuptools in /usr/local/lib/python3.6/dist-packages (from PrettyTable->donkeycar==3.1.1) (51.3.3)\n",
            "Requirement already satisfied: wcwidth in /usr/local/lib/python3.6/dist-packages (from PrettyTable->donkeycar==3.1.1) (0.2.5)\n",
            "Requirement already satisfied: kiwisolver>=1.0.1 in /usr/local/lib/python3.6/dist-packages (from matplotlib->donkeycar==3.1.1) (1.3.1)\n",
            "Requirement already satisfied: cycler>=0.10 in /usr/local/lib/python3.6/dist-packages (from matplotlib->donkeycar==3.1.1) (0.10.0)\n",
            "Requirement already satisfied: pyparsing!=2.0.4,!=2.1.2,!=2.1.6,>=2.0.1 in /usr/local/lib/python3.6/dist-packages (from matplotlib->donkeycar==3.1.1) (2.4.7)\n",
            "Building wheels for collected packages: paho-mqtt\n",
            "  Building wheel for paho-mqtt (setup.py) ... \u001b[?25l\u001b[?25hdone\n",
            "  Created wheel for paho-mqtt: filename=paho_mqtt-1.5.1-cp36-none-any.whl size=61546 sha256=b65fc8095e7378aa2cddd8520ccf7e73521b7b45d8c44c38f3ffe673985fbbc4\n",
            "  Stored in directory: /root/.cache/pip/wheels/75/e2/f5/78942b19b4d135605e58dfe85fba52253b14d636aabf76904b\n",
            "Successfully built paho-mqtt\n",
            "Installing collected packages: paho-mqtt, donkeycar\n",
            "  Running setup.py develop for donkeycar\n",
            "Successfully installed donkeycar paho-mqtt-1.5.1\n"
          ],
          "name": "stdout"
        }
      ]
    },
    {
      "cell_type": "code",
      "metadata": {
        "id": "FTJTkh542XM-",
        "colab": {
          "base_uri": "https://localhost:8080/"
        },
        "outputId": "5194a855-596a-4813-e50e-f99b7e59280c"
      },
      "source": [
        "!pip list | grep tensorflow"
      ],
      "execution_count": 11,
      "outputs": [
        {
          "output_type": "stream",
          "text": [
            "mesh-tensorflow               0.1.12          \n",
            "tensorflow                    1.15.2          \n",
            "tensorflow-addons             0.8.3           \n",
            "tensorflow-datasets           4.0.1           \n",
            "tensorflow-estimator          1.15.1          \n",
            "tensorflow-gan                2.0.0           \n",
            "tensorflow-gcs-config         2.4.0           \n",
            "tensorflow-gpu                1.13.1          \n",
            "tensorflow-hub                0.11.0          \n",
            "tensorflow-metadata           0.26.0          \n",
            "tensorflow-privacy            0.2.2           \n",
            "tensorflow-probability        0.7.0           \n"
          ],
          "name": "stdout"
        }
      ]
    },
    {
      "cell_type": "markdown",
      "metadata": {
        "id": "syCctLq2r4Wk"
      },
      "source": [
        "## 4.2 DonkeyCar 프로젝트 생성하기\n",
        "\n",
        "DonkeyCar에 대한 나만의 프로젝트를 새로이 생성합니다. 프로젝트를 생성하기 위해서는 프로젝트 이름이 필요합니다. 여기서는 mycar라는 프로젝트명을 사용합니다. Donkeycar의 프로젝트 생성 형식은 다음과 같습니다.\n",
        "\n",
        "$ donkey createcar --path /content/mycar [enter]"
      ]
    },
    {
      "cell_type": "code",
      "metadata": {
        "id": "1xjJBSITyXy2",
        "colab": {
          "base_uri": "https://localhost:8080/"
        },
        "outputId": "e6be319d-f59c-4b86-f16e-e4c2fcceeadf"
      },
      "source": [
        "!donkey createcar --path /content/mycar"
      ],
      "execution_count": 12,
      "outputs": [
        {
          "output_type": "stream",
          "text": [
            "using donkey v3.1.1 ...\n",
            "Creating car folder: /content/mycar\n",
            "making dir  /content/mycar\n",
            "Creating data & model folders.\n",
            "making dir  /content/mycar/models\n",
            "making dir  /content/mycar/data\n",
            "making dir  /content/mycar/logs\n",
            "Copying car application template: complete\n",
            "Copying car config defaults. Adjust these before starting your car.\n",
            "Copying train script. Adjust these before starting your car.\n",
            "Copying my car config overrides\n",
            "Donkey setup complete.\n"
          ],
          "name": "stdout"
        }
      ]
    },
    {
      "cell_type": "markdown",
      "metadata": {
        "id": "RkEtUoKIq2Ua"
      },
      "source": [
        "### (Q) 생성된 mycar 프로젝트는 어디에 ?\n",
        "\n",
        "탐색창의 파일을 클릭하면, 다음과 같이 /content 디렉토리 아래에 mycar폴더가 새롭게 생성되었다는 것을 확인할 수 있습니다. mycar폴더에는 3개의 폴더와 4개의 파이썬 파일이 생성됩니다.\n",
        "\n",
        "![Donkeycar User-Defined Project Folder](https://api.monosnap.com/file/download?id=yMcfRjpwpEpeZIkCqiq2nfX7ihdFjX)"
      ]
    },
    {
      "cell_type": "markdown",
      "metadata": {
        "id": "dnUy1Z1zro77"
      },
      "source": [
        "## 4.3 라즈베리파이의 주행데이타를 Google Colaboratory로 이동 준비(PC/노트북)\n",
        "\n",
        "* 라즈베리파이에 저장된 주행 영상데이타는 프로젝트 파일 폴더(예를 들어 mycar라고 가정) 아래에 data 폴더 아래에 tub_라는 이름을 시작하는 폴더에 순차번호를 붙여서 저장되어 있습니다. 예를들어, 폴더명이 tub_1_19-11-09라면, 11월 09일에 주행한 첫번째 주행영상이라는 의미로 해석이 가능합니다(~/mycar/data/tub_1_19-11-09).\n",
        "\n",
        "* 주행데이타는 개별(1회분의 주행영상)은 물론이고 여러개의 풀더(여러번의 주행영상들)을 모두 학습에 활용할 수 있기때문에 우선 PC로 모두 이동하여 저장하는 방법이 유용합니다.\n",
        "\n",
        "* 본 워크샵에서는 Paragon S/W의 extFS for Windows 소프트웨어를 사용해서 라즈베리파이의 SD카드로부터 프로젝트 폴더내 data폴더내의 tub_폴더 데이타를 PC/노트북으로 바로 복사할 수 있습니다. \n",
        "\n",
        "* 라즈베리파이 SD카드로부터 폴더 단위의 복사를 완료했다면, tub_ 폴더들을 Google Laboratory로 업로드하기 위해서 zip으로 묶고, 압축된 파일을 Google Laboratory로 업로드합니다.\n",
        "\n",
        "![Alt text](https://monosnap.com/image/cLWMOMwqgzhLhg2io0DgSBaov7NWKb)"
      ]
    },
    {
      "cell_type": "markdown",
      "metadata": {
        "id": "ixjmMBKvzrV4"
      },
      "source": [
        "## 4.4 Data.zip을 노트북/PC에서 Google Colaboratory로 업로드하기"
      ]
    },
    {
      "cell_type": "markdown",
      "metadata": {
        "id": "Kz4k56hs0TAD"
      },
      "source": [
        "#### PC/노트북에서 압축된 주행데이타 파일을 업로드 하기 위한 수행코드는 아래와 같습니다.\n",
        "\n",
        "업로드할 파일은 data.tar.gz 파일명을 가지며, 해당 파일이 업로드되면 아래의 수행코드에 따라 data.tar.gz파일이 mycar 폴더에 위치하게 되며, 자동적으로 압축이 해제되어 설치됩니다."
      ]
    },
    {
      "cell_type": "code",
      "metadata": {
        "id": "ws3tajS7iaex"
      },
      "source": [
        "import os\n",
        "from google.colab import files\n",
        "import shutil\n",
        "\n",
        "WORK_FOLDER = \"/content/mycar/data\"\n",
        "if(os.path.exists(WORK_FOLDER) == True):  \n",
        "    shutil.rmtree('/content/mycar/data')\n",
        "os.makedirs(WORK_FOLDER)"
      ],
      "execution_count": 13,
      "outputs": []
    },
    {
      "cell_type": "code",
      "metadata": {
        "id": "wkvP7rkCkR8W",
        "colab": {
          "base_uri": "https://localhost:8080/",
          "height": 35
        },
        "outputId": "b5381677-8466-4f62-d051-dc4e320f6d39"
      },
      "source": [
        "%pwd"
      ],
      "execution_count": 14,
      "outputs": [
        {
          "output_type": "execute_result",
          "data": {
            "application/vnd.google.colaboratory.intrinsic+json": {
              "type": "string"
            },
            "text/plain": [
              "'/content/donkeycar'"
            ]
          },
          "metadata": {
            "tags": []
          },
          "execution_count": 14
        }
      ]
    },
    {
      "cell_type": "code",
      "metadata": {
        "id": "1Kb9gG4WkIIg",
        "colab": {
          "base_uri": "https://localhost:8080/"
        },
        "outputId": "da4b06b6-5f4d-49ff-a5d2-e22f862f5e0e"
      },
      "source": [
        "%cd \"/content/mycar\""
      ],
      "execution_count": 15,
      "outputs": [
        {
          "output_type": "stream",
          "text": [
            "/content/mycar\n"
          ],
          "name": "stdout"
        }
      ]
    },
    {
      "cell_type": "code",
      "metadata": {
        "id": "ncx9VYhKjCCJ"
      },
      "source": [
        "uploaded = files.upload()"
      ],
      "execution_count": null,
      "outputs": []
    },
    {
      "cell_type": "code",
      "metadata": {
        "colab": {
          "base_uri": "https://localhost:8080/",
          "height": 35
        },
        "id": "xG0xjncF-PPi",
        "outputId": "c3a0474f-35b1-4d34-ad17-814edbfbeda8"
      },
      "source": [
        "%pwd"
      ],
      "execution_count": 18,
      "outputs": [
        {
          "output_type": "execute_result",
          "data": {
            "application/vnd.google.colaboratory.intrinsic+json": {
              "type": "string"
            },
            "text/plain": [
              "'/content/mycar'"
            ]
          },
          "metadata": {
            "tags": []
          },
          "execution_count": 18
        }
      ]
    },
    {
      "cell_type": "code",
      "metadata": {
        "id": "2lbD-04R-f0S"
      },
      "source": [
        "! gzip -cd data.tar.gz | tar xvf -"
      ],
      "execution_count": 22,
      "outputs": []
    },
    {
      "cell_type": "markdown",
      "metadata": {
        "id": "9-3U5MnYoZPY"
      },
      "source": [
        "## 4.4 PC/노트북에서 업로드된 data.tar.gz파일 삭제하기\n",
        "\n",
        "업로드된 data.zip파일을 삭제하여 tub_ 폴더만이 data폴더 안에 위치하도록 합니다."
      ]
    },
    {
      "cell_type": "code",
      "metadata": {
        "id": "bXs57m5Nh91O"
      },
      "source": [
        "!rm /content/mycar/data.tar.gz"
      ],
      "execution_count": null,
      "outputs": []
    },
    {
      "cell_type": "markdown",
      "metadata": {
        "id": "T3Ya8qEUAfOv"
      },
      "source": [
        "# 5> Donkeycar 주행영상데이타를 활용한 자율주행모델 학습하기\n",
        "\n",
        "동키카에서 지원되는 학습모듈을 사용해서 주행영상 데이타 기반의 인공지능 학습을 진행합니다. CNN(Convolution Neural Network)기반의 이미지 식별을 통한 모델 학습으로 주행영상과 실제 주행시 함께 획득한 속도와 주행방향에 대한 데이타를 입력으로 하여 주행 모델을 학습하게 됩니다.\n",
        "\n",
        "* tub_ 디렉토리가 적은 경우, 학습이 되지 않습니다. 최소 10개이상의 주행을 하고 학습하세요."
      ]
    },
    {
      "cell_type": "code",
      "metadata": {
        "id": "jqgaPmDU0tH_",
        "colab": {
          "base_uri": "https://localhost:8080/"
        },
        "outputId": "eba677af-0138-4e31-fad6-0b67419a1390"
      },
      "source": [
        "!python /content/mycar/train.py"
      ],
      "execution_count": 34,
      "outputs": [
        {
          "output_type": "stream",
          "text": [
            "using donkey v3.1.1 ...\n",
            "Usage:\n",
            "    train.py [--tub=<tub1,tub2,..tubn>] [--file=<file> ...] (--model=<model>) [--transfer=<model>] [--type=(linear|latent|categorical|rnn|imu|behavior|3d|look_ahead|tensorrt_linear|tflite_linear|coral_tflite_linear)] [--figure_format=<figure_format>] [--continuous] [--aug]\n"
          ],
          "name": "stdout"
        }
      ]
    },
    {
      "cell_type": "markdown",
      "metadata": {
        "id": "hmRtjhxVKvQQ"
      },
      "source": [
        "[주의] \n",
        "\n",
        "*   학습데이타가 128개보다 작은 경우, 오류가 발생(validation_step에서 오류발생)\n",
        "*   위의 경우, config.py파일의 BATCH_SIZE를 총 데이타갯수보다 작게 설정(e.g) BATCH_SIZE=64\n",
        "\n"
      ]
    },
    {
      "cell_type": "code",
      "metadata": {
        "id": "cCvUUnaHzwx8",
        "colab": {
          "base_uri": "https://localhost:8080/"
        },
        "outputId": "64e62214-c714-4dd1-9d31-c6e30e886034"
      },
      "source": [
        "#\n",
        "# 학습을 위한 데이타는 /data 디렉토리 아래의 tub_ 이름의 폴더에서 자동으로 가져와서 학습을 수행\n",
        "#\n",
        "!python /content/mycar/train.py --model /content/mycar/models/mypilot.h5"
      ],
      "execution_count": 35,
      "outputs": [
        {
          "output_type": "stream",
          "text": [
            "using donkey v3.1.1 ...\n",
            "loading config file: /content/mycar/config.py\n",
            "loading personal config over-rides\n",
            "\n",
            "config loaded\n",
            "\"get_model_by_type\" model Type is: linear\n",
            "WARNING:tensorflow:From /tensorflow-1.15.2/python3.6/tensorflow_core/python/ops/resource_variable_ops.py:1630: calling BaseResourceVariable.__init__ (from tensorflow.python.ops.resource_variable_ops) with constraint is deprecated and will be removed in a future version.\n",
            "Instructions for updating:\n",
            "If using Keras pass *_constraint arguments to layers.\n",
            "training with model type <class 'donkeycar.parts.keras.KerasLinear'>\n",
            "Model: \"model\"\n",
            "__________________________________________________________________________________________________\n",
            "Layer (type)                    Output Shape         Param #     Connected to                     \n",
            "==================================================================================================\n",
            "img_in (InputLayer)             [(None, 120, 160, 3) 0                                            \n",
            "__________________________________________________________________________________________________\n",
            "conv2d_1 (Conv2D)               (None, 58, 78, 24)   1824        img_in[0][0]                     \n",
            "__________________________________________________________________________________________________\n",
            "dropout (Dropout)               (None, 58, 78, 24)   0           conv2d_1[0][0]                   \n",
            "__________________________________________________________________________________________________\n",
            "conv2d_2 (Conv2D)               (None, 27, 37, 32)   19232       dropout[0][0]                    \n",
            "__________________________________________________________________________________________________\n",
            "dropout_1 (Dropout)             (None, 27, 37, 32)   0           conv2d_2[0][0]                   \n",
            "__________________________________________________________________________________________________\n",
            "conv2d_3 (Conv2D)               (None, 12, 17, 64)   51264       dropout_1[0][0]                  \n",
            "__________________________________________________________________________________________________\n",
            "dropout_2 (Dropout)             (None, 12, 17, 64)   0           conv2d_3[0][0]                   \n",
            "__________________________________________________________________________________________________\n",
            "conv2d_4 (Conv2D)               (None, 10, 15, 64)   36928       dropout_2[0][0]                  \n",
            "__________________________________________________________________________________________________\n",
            "dropout_3 (Dropout)             (None, 10, 15, 64)   0           conv2d_4[0][0]                   \n",
            "__________________________________________________________________________________________________\n",
            "conv2d_5 (Conv2D)               (None, 8, 13, 64)    36928       dropout_3[0][0]                  \n",
            "__________________________________________________________________________________________________\n",
            "dropout_4 (Dropout)             (None, 8, 13, 64)    0           conv2d_5[0][0]                   \n",
            "__________________________________________________________________________________________________\n",
            "flattened (Flatten)             (None, 6656)         0           dropout_4[0][0]                  \n",
            "__________________________________________________________________________________________________\n",
            "dense (Dense)                   (None, 100)          665700      flattened[0][0]                  \n",
            "__________________________________________________________________________________________________\n",
            "dropout_5 (Dropout)             (None, 100)          0           dense[0][0]                      \n",
            "__________________________________________________________________________________________________\n",
            "dense_1 (Dense)                 (None, 50)           5050        dropout_5[0][0]                  \n",
            "__________________________________________________________________________________________________\n",
            "dropout_6 (Dropout)             (None, 50)           0           dense_1[0][0]                    \n",
            "__________________________________________________________________________________________________\n",
            "n_outputs0 (Dense)              (None, 1)            51          dropout_6[0][0]                  \n",
            "__________________________________________________________________________________________________\n",
            "n_outputs1 (Dense)              (None, 1)            51          dropout_6[0][0]                  \n",
            "==================================================================================================\n",
            "Total params: 817,028\n",
            "Trainable params: 817,028\n",
            "Non-trainable params: 0\n",
            "__________________________________________________________________________________________________\n",
            "None\n",
            "found 0 pickles writing json records and images in tub /content/mycar/data/tub_5_20-07-14\n",
            "found 0 pickles writing json records and images in tub /content/mycar/data/tub_2_20-07-14\n",
            "found 0 pickles writing json records and images in tub /content/mycar/data/tub_1_20-07-14\n",
            "found 0 pickles writing json records and images in tub /content/mycar/data/tub_7_20-07-14\n",
            "found 0 pickles writing json records and images in tub /content/mycar/data/tub_10_20-07-14\n",
            "found 0 pickles writing json records and images in tub /content/mycar/data/tub_11_20-07-14\n",
            "found 0 pickles writing json records and images in tub /content/mycar/data/tub_4_20-07-14\n",
            "found 0 pickles writing json records and images in tub /content/mycar/data/tub_6_20-07-14\n",
            "found 0 pickles writing json records and images in tub /content/mycar/data/tub_3_20-07-14\n",
            "found 0 pickles writing json records and images in tub /content/mycar/data/tub_12_20-07-14\n",
            "/content/mycar/data/tub_5_20-07-14\n",
            "/content/mycar/data/tub_2_20-07-14\n",
            "/content/mycar/data/tub_1_20-07-14\n",
            "/content/mycar/data/tub_7_20-07-14\n",
            "/content/mycar/data/tub_10_20-07-14\n",
            "/content/mycar/data/tub_11_20-07-14\n",
            "/content/mycar/data/tub_4_20-07-14\n",
            "/content/mycar/data/tub_6_20-07-14\n",
            "/content/mycar/data/tub_3_20-07-14\n",
            "/content/mycar/data/tub_12_20-07-14\n",
            "collating 2165 records ...\n",
            "train: 1732, val: 433\n",
            "total records: 2165\n",
            "steps_per_epoch 13\n",
            "2021-01-27 08:41:23.643040: I tensorflow/stream_executor/platform/default/dso_loader.cc:44] Successfully opened dynamic library libcuda.so.1\n",
            "2021-01-27 08:41:23.647767: I tensorflow/stream_executor/cuda/cuda_gpu_executor.cc:983] successful NUMA node read from SysFS had negative value (-1), but there must be at least one NUMA node, so returning NUMA node zero\n",
            "2021-01-27 08:41:23.648346: I tensorflow/core/common_runtime/gpu/gpu_device.cc:1639] Found device 0 with properties: \n",
            "name: Tesla T4 major: 7 minor: 5 memoryClockRate(GHz): 1.59\n",
            "pciBusID: 0000:00:04.0\n",
            "2021-01-27 08:41:23.648657: I tensorflow/stream_executor/platform/default/dso_loader.cc:44] Successfully opened dynamic library libcudart.so.10.1\n",
            "2021-01-27 08:41:23.650332: I tensorflow/stream_executor/platform/default/dso_loader.cc:44] Successfully opened dynamic library libcublas.so.10\n",
            "2021-01-27 08:41:23.660279: I tensorflow/stream_executor/platform/default/dso_loader.cc:44] Successfully opened dynamic library libcufft.so.10\n",
            "2021-01-27 08:41:23.660622: I tensorflow/stream_executor/platform/default/dso_loader.cc:44] Successfully opened dynamic library libcurand.so.10\n",
            "2021-01-27 08:41:23.668957: I tensorflow/stream_executor/platform/default/dso_loader.cc:44] Successfully opened dynamic library libcusolver.so.10\n",
            "2021-01-27 08:41:23.669869: I tensorflow/stream_executor/platform/default/dso_loader.cc:44] Successfully opened dynamic library libcusparse.so.10\n",
            "2021-01-27 08:41:23.682880: I tensorflow/stream_executor/platform/default/dso_loader.cc:44] Successfully opened dynamic library libcudnn.so.7\n",
            "2021-01-27 08:41:23.683000: I tensorflow/stream_executor/cuda/cuda_gpu_executor.cc:983] successful NUMA node read from SysFS had negative value (-1), but there must be at least one NUMA node, so returning NUMA node zero\n",
            "2021-01-27 08:41:23.683577: I tensorflow/stream_executor/cuda/cuda_gpu_executor.cc:983] successful NUMA node read from SysFS had negative value (-1), but there must be at least one NUMA node, so returning NUMA node zero\n",
            "2021-01-27 08:41:23.684048: I tensorflow/core/common_runtime/gpu/gpu_device.cc:1767] Adding visible gpu devices: 0\n",
            "2021-01-27 08:41:23.696687: I tensorflow/core/platform/profile_utils/cpu_utils.cc:94] CPU Frequency: 2199995000 Hz\n",
            "2021-01-27 08:41:23.696895: I tensorflow/compiler/xla/service/service.cc:168] XLA service 0x2360680 initialized for platform Host (this does not guarantee that XLA will be used). Devices:\n",
            "2021-01-27 08:41:23.696925: I tensorflow/compiler/xla/service/service.cc:176]   StreamExecutor device (0): Host, Default Version\n",
            "2021-01-27 08:41:23.819408: I tensorflow/stream_executor/cuda/cuda_gpu_executor.cc:983] successful NUMA node read from SysFS had negative value (-1), but there must be at least one NUMA node, so returning NUMA node zero\n",
            "2021-01-27 08:41:23.820286: I tensorflow/compiler/xla/service/service.cc:168] XLA service 0x2360bc0 initialized for platform CUDA (this does not guarantee that XLA will be used). Devices:\n",
            "2021-01-27 08:41:23.820321: I tensorflow/compiler/xla/service/service.cc:176]   StreamExecutor device (0): Tesla T4, Compute Capability 7.5\n",
            "2021-01-27 08:41:23.820502: I tensorflow/stream_executor/cuda/cuda_gpu_executor.cc:983] successful NUMA node read from SysFS had negative value (-1), but there must be at least one NUMA node, so returning NUMA node zero\n",
            "2021-01-27 08:41:23.821277: I tensorflow/core/common_runtime/gpu/gpu_device.cc:1639] Found device 0 with properties: \n",
            "name: Tesla T4 major: 7 minor: 5 memoryClockRate(GHz): 1.59\n",
            "pciBusID: 0000:00:04.0\n",
            "2021-01-27 08:41:23.821373: I tensorflow/stream_executor/platform/default/dso_loader.cc:44] Successfully opened dynamic library libcudart.so.10.1\n",
            "2021-01-27 08:41:23.821397: I tensorflow/stream_executor/platform/default/dso_loader.cc:44] Successfully opened dynamic library libcublas.so.10\n",
            "2021-01-27 08:41:23.821418: I tensorflow/stream_executor/platform/default/dso_loader.cc:44] Successfully opened dynamic library libcufft.so.10\n",
            "2021-01-27 08:41:23.821437: I tensorflow/stream_executor/platform/default/dso_loader.cc:44] Successfully opened dynamic library libcurand.so.10\n",
            "2021-01-27 08:41:23.821455: I tensorflow/stream_executor/platform/default/dso_loader.cc:44] Successfully opened dynamic library libcusolver.so.10\n",
            "2021-01-27 08:41:23.821474: I tensorflow/stream_executor/platform/default/dso_loader.cc:44] Successfully opened dynamic library libcusparse.so.10\n",
            "2021-01-27 08:41:23.821494: I tensorflow/stream_executor/platform/default/dso_loader.cc:44] Successfully opened dynamic library libcudnn.so.7\n",
            "2021-01-27 08:41:23.821570: I tensorflow/stream_executor/cuda/cuda_gpu_executor.cc:983] successful NUMA node read from SysFS had negative value (-1), but there must be at least one NUMA node, so returning NUMA node zero\n",
            "2021-01-27 08:41:23.822324: I tensorflow/stream_executor/cuda/cuda_gpu_executor.cc:983] successful NUMA node read from SysFS had negative value (-1), but there must be at least one NUMA node, so returning NUMA node zero\n",
            "2021-01-27 08:41:23.823042: I tensorflow/core/common_runtime/gpu/gpu_device.cc:1767] Adding visible gpu devices: 0\n",
            "2021-01-27 08:41:23.823143: I tensorflow/stream_executor/platform/default/dso_loader.cc:44] Successfully opened dynamic library libcudart.so.10.1\n",
            "2021-01-27 08:41:23.824479: I tensorflow/core/common_runtime/gpu/gpu_device.cc:1180] Device interconnect StreamExecutor with strength 1 edge matrix:\n",
            "2021-01-27 08:41:23.824515: I tensorflow/core/common_runtime/gpu/gpu_device.cc:1186]      0 \n",
            "2021-01-27 08:41:23.824531: I tensorflow/core/common_runtime/gpu/gpu_device.cc:1199] 0:   N \n",
            "2021-01-27 08:41:23.824654: I tensorflow/stream_executor/cuda/cuda_gpu_executor.cc:983] successful NUMA node read from SysFS had negative value (-1), but there must be at least one NUMA node, so returning NUMA node zero\n",
            "2021-01-27 08:41:23.825442: I tensorflow/stream_executor/cuda/cuda_gpu_executor.cc:983] successful NUMA node read from SysFS had negative value (-1), but there must be at least one NUMA node, so returning NUMA node zero\n",
            "2021-01-27 08:41:23.826167: W tensorflow/core/common_runtime/gpu/gpu_bfc_allocator.cc:39] Overriding allow_growth setting because the TF_FORCE_GPU_ALLOW_GROWTH environment variable is set. Original config value was 0.\n",
            "2021-01-27 08:41:23.826232: I tensorflow/core/common_runtime/gpu/gpu_device.cc:1325] Created TensorFlow device (/job:localhost/replica:0/task:0/device:GPU:0 with 14125 MB memory) -> physical GPU (device: 0, name: Tesla T4, pci bus id: 0000:00:04.0, compute capability: 7.5)\n",
            "Epoch 1/100\n",
            "2021-01-27 08:41:32.392952: I tensorflow/stream_executor/platform/default/dso_loader.cc:44] Successfully opened dynamic library libcublas.so.10\n",
            "2021-01-27 08:41:33.857515: I tensorflow/stream_executor/platform/default/dso_loader.cc:44] Successfully opened dynamic library libcudnn.so.7\n",
            "11/13 [========================>.....] - ETA: 1s - loss: 0.2821 - n_outputs0_loss: 0.2563 - n_outputs1_loss: 0.0258Epoch 1/100\n",
            " 3/13 [=====>........................] - ETA: 4s - loss: 0.1798 - n_outputs0_loss: 0.1776 - n_outputs1_loss: 0.0022\n",
            "Epoch 00001: val_loss improved from inf to 0.17982, saving model to /content/mycar/models/mypilot.h5\n",
            "13/13 [==============================] - 10s 772ms/step - loss: 0.2668 - n_outputs0_loss: 0.2446 - n_outputs1_loss: 0.0222 - val_loss: 0.1798 - val_n_outputs0_loss: 0.1776 - val_n_outputs1_loss: 0.0022\n",
            "Epoch 2/100\n",
            "11/13 [========================>.....] - ETA: 0s - loss: 0.1537 - n_outputs0_loss: 0.1497 - n_outputs1_loss: 0.0040Epoch 1/100\n",
            " 2/13 [===>..........................] - ETA: 0s - loss: 0.1145 - n_outputs0_loss: 0.1137 - n_outputs1_loss: 8.3101e-04\n",
            "Epoch 00002: val_loss improved from 0.17982 to 0.11578, saving model to /content/mycar/models/mypilot.h5\n",
            "13/13 [==============================] - 1s 75ms/step - loss: 0.1470 - n_outputs0_loss: 0.1431 - n_outputs1_loss: 0.0039 - val_loss: 0.1158 - val_n_outputs0_loss: 0.1150 - val_n_outputs1_loss: 8.0202e-04\n",
            "Epoch 3/100\n",
            "11/13 [========================>.....] - ETA: 0s - loss: 0.1101 - n_outputs0_loss: 0.1069 - n_outputs1_loss: 0.0031Epoch 1/100\n",
            " 1/13 [=>............................] - ETA: 0s - loss: 0.0741 - n_outputs0_loss: 0.0737 - n_outputs1_loss: 4.2394e-04\n",
            "Epoch 00003: val_loss improved from 0.11578 to 0.08372, saving model to /content/mycar/models/mypilot.h5\n",
            "13/13 [==============================] - 1s 74ms/step - loss: 0.1071 - n_outputs0_loss: 0.1041 - n_outputs1_loss: 0.0030 - val_loss: 0.0837 - val_n_outputs0_loss: 0.0833 - val_n_outputs1_loss: 4.3162e-04\n",
            "Epoch 4/100\n",
            "11/13 [========================>.....] - ETA: 0s - loss: 0.0703 - n_outputs0_loss: 0.0668 - n_outputs1_loss: 0.0034Epoch 1/100\n",
            " 1/13 [=>............................] - ETA: 0s - loss: 0.0861 - n_outputs0_loss: 0.0853 - n_outputs1_loss: 7.9183e-04\n",
            "Epoch 00004: val_loss did not improve from 0.08372\n",
            "13/13 [==============================] - 1s 52ms/step - loss: 0.0684 - n_outputs0_loss: 0.0649 - n_outputs1_loss: 0.0035 - val_loss: 0.0951 - val_n_outputs0_loss: 0.0944 - val_n_outputs1_loss: 6.8804e-04\n",
            "Epoch 5/100\n",
            "11/13 [========================>.....] - ETA: 0s - loss: 0.0546 - n_outputs0_loss: 0.0512 - n_outputs1_loss: 0.0034Epoch 1/100\n",
            " 1/13 [=>............................] - ETA: 0s - loss: 0.0291 - n_outputs0_loss: 0.0284 - n_outputs1_loss: 6.3882e-04\n",
            "Epoch 00005: val_loss improved from 0.08372 to 0.03372, saving model to /content/mycar/models/mypilot.h5\n",
            "13/13 [==============================] - 1s 73ms/step - loss: 0.0524 - n_outputs0_loss: 0.0490 - n_outputs1_loss: 0.0034 - val_loss: 0.0337 - val_n_outputs0_loss: 0.0331 - val_n_outputs1_loss: 5.7418e-04\n",
            "Epoch 6/100\n",
            "11/13 [========================>.....] - ETA: 0s - loss: 0.0303 - n_outputs0_loss: 0.0269 - n_outputs1_loss: 0.0035Epoch 1/100\n",
            " 1/13 [=>............................] - ETA: 0s - loss: 0.0176 - n_outputs0_loss: 0.0173 - n_outputs1_loss: 3.2568e-04\n",
            "Epoch 00006: val_loss improved from 0.03372 to 0.01749, saving model to /content/mycar/models/mypilot.h5\n",
            "13/13 [==============================] - 1s 70ms/step - loss: 0.0293 - n_outputs0_loss: 0.0260 - n_outputs1_loss: 0.0034 - val_loss: 0.0175 - val_n_outputs0_loss: 0.0171 - val_n_outputs1_loss: 3.8538e-04\n",
            "Epoch 7/100\n",
            "11/13 [========================>.....] - ETA: 0s - loss: 0.0240 - n_outputs0_loss: 0.0210 - n_outputs1_loss: 0.0030Epoch 1/100\n",
            " 1/13 [=>............................] - ETA: 0s - loss: 0.0140 - n_outputs0_loss: 0.0136 - n_outputs1_loss: 4.4392e-04\n",
            "Epoch 00007: val_loss improved from 0.01749 to 0.01322, saving model to /content/mycar/models/mypilot.h5\n",
            "13/13 [==============================] - 1s 71ms/step - loss: 0.0231 - n_outputs0_loss: 0.0202 - n_outputs1_loss: 0.0029 - val_loss: 0.0132 - val_n_outputs0_loss: 0.0128 - val_n_outputs1_loss: 4.2802e-04\n",
            "Epoch 8/100\n",
            "11/13 [========================>.....] - ETA: 0s - loss: 0.0197 - n_outputs0_loss: 0.0173 - n_outputs1_loss: 0.0024Epoch 1/100\n",
            " 1/13 [=>............................] - ETA: 0s - loss: 0.0155 - n_outputs0_loss: 0.0152 - n_outputs1_loss: 3.0596e-04\n",
            "Epoch 00008: val_loss did not improve from 0.01322\n",
            "13/13 [==============================] - 1s 51ms/step - loss: 0.0201 - n_outputs0_loss: 0.0176 - n_outputs1_loss: 0.0024 - val_loss: 0.0133 - val_n_outputs0_loss: 0.0130 - val_n_outputs1_loss: 2.9459e-04\n",
            "Epoch 9/100\n",
            "11/13 [========================>.....] - ETA: 0s - loss: 0.0189 - n_outputs0_loss: 0.0164 - n_outputs1_loss: 0.0025Epoch 1/100\n",
            " 1/13 [=>............................] - ETA: 0s - loss: 0.0185 - n_outputs0_loss: 0.0179 - n_outputs1_loss: 6.7667e-04\n",
            "Epoch 00009: val_loss did not improve from 0.01322\n",
            "13/13 [==============================] - 1s 49ms/step - loss: 0.0188 - n_outputs0_loss: 0.0164 - n_outputs1_loss: 0.0024 - val_loss: 0.0172 - val_n_outputs0_loss: 0.0165 - val_n_outputs1_loss: 6.4253e-04\n",
            "Epoch 10/100\n",
            "11/13 [========================>.....] - ETA: 0s - loss: 0.0172 - n_outputs0_loss: 0.0152 - n_outputs1_loss: 0.0020Epoch 1/100\n",
            " 1/13 [=>............................] - ETA: 0s - loss: 0.0102 - n_outputs0_loss: 0.0099 - n_outputs1_loss: 3.4341e-04\n",
            "Epoch 00010: val_loss did not improve from 0.01322\n",
            "13/13 [==============================] - 1s 50ms/step - loss: 0.0165 - n_outputs0_loss: 0.0145 - n_outputs1_loss: 0.0020 - val_loss: 0.0132 - val_n_outputs0_loss: 0.0129 - val_n_outputs1_loss: 3.2767e-04\n",
            "Epoch 11/100\n",
            "11/13 [========================>.....] - ETA: 0s - loss: 0.0153 - n_outputs0_loss: 0.0131 - n_outputs1_loss: 0.0022Epoch 1/100\n",
            " 1/13 [=>............................] - ETA: 0s - loss: 0.0157 - n_outputs0_loss: 0.0151 - n_outputs1_loss: 5.8858e-04\n",
            "Epoch 00011: val_loss did not improve from 0.01322\n",
            "13/13 [==============================] - 1s 51ms/step - loss: 0.0154 - n_outputs0_loss: 0.0132 - n_outputs1_loss: 0.0021 - val_loss: 0.0154 - val_n_outputs0_loss: 0.0149 - val_n_outputs1_loss: 5.8137e-04\n",
            "Epoch 12/100\n",
            "11/13 [========================>.....] - ETA: 0s - loss: 0.0140 - n_outputs0_loss: 0.0122 - n_outputs1_loss: 0.0019Epoch 1/100\n",
            " 1/13 [=>............................] - ETA: 0s - loss: 0.0113 - n_outputs0_loss: 0.0110 - n_outputs1_loss: 3.0979e-04\n",
            "Epoch 00012: val_loss did not improve from 0.01322\n",
            "13/13 [==============================] - 1s 51ms/step - loss: 0.0142 - n_outputs0_loss: 0.0123 - n_outputs1_loss: 0.0019 - val_loss: 0.0134 - val_n_outputs0_loss: 0.0131 - val_n_outputs1_loss: 3.1411e-04\n",
            "Epoch 00012: early stopping\n",
            "Training completed in 0:00:27.\n",
            "\n",
            "\n",
            "----------- Best Eval Loss :0.013223 ---------\n",
            "<Figure size 640x480 with 1 Axes>\n"
          ],
          "name": "stdout"
        }
      ]
    },
    {
      "cell_type": "markdown",
      "metadata": {
        "id": "6BEOJYH601O0"
      },
      "source": [
        "# 6> 학습한 모델 PC/노트북에 다운로드 하기\n",
        "\n",
        "* Google Colaboratory의 탐색창에서 파일 섹션으로 이동합니다. \n",
        "\n",
        "* Google Colaboratory에서 학습한 모델을 저장하고 있는 디렉토리(models)를 클릭하고 이동합니다. 사용자의 프로젝트 폴더가 mycar라면, mycar/models 디렉토리에 학습한 인공지능 모델이 저장되어 있습니다.\n",
        "\n",
        "* 학습한 모델은 확장자로 *.h5를 사용합니다. 다운로드할 모델파일을 선택하고, 마우스의 오른쪽 버튼을 누르면 선택한 파일의 '다운로드' 메뉴항목이 표시됩니다. 해당 항목을 선택하면 노트북/PC에 모델을 다운로드 할 수 있습니다.\n",
        "\n",
        "\n",
        "![Alt text](https://monosnap.com/image/XpGITFyzwgkqjNI7c40fsv91KRpTqw)\n",
        "\n",
        "* 학습한 모델을 저장한 폴더에는 저장된 모델명 파일(여기서는 mypolot.h5)의 학습과정동안 계산된 loss(손실)과 정확도(accurracy)에 대한 값을 그래프로 표현한 png파일도 함께 저장되어 있습니다. 결과값에 대한 파일명은 \"모델명_loss_acc_정확도실수값.png\"의 형식으로 표현됩니다.\n",
        "\n",
        "<img src=\"https://monosnap.com/image/Xrnv8MfkNS8opa46LAcNvuHnmHPu9Q\" width=\"480\" height=\"320\" />"
      ]
    },
    {
      "cell_type": "markdown",
      "metadata": {
        "id": "0tlwsxAZ3NBp"
      },
      "source": [
        "### <모델디렉토리에 생성된 png파일의 이름 변경하여 표시하기>"
      ]
    },
    {
      "cell_type": "code",
      "metadata": {
        "id": "OPIditpm2_xN",
        "colab": {
          "base_uri": "https://localhost:8080/",
          "height": 497
        },
        "outputId": "1347d71b-9af1-4481-cde7-ba0b48cc3571"
      },
      "source": [
        "\n",
        "# 학습과정의 손실-인식율 그래프로 표시\n",
        "# models 디렉토리에 *.png파일로 저장\n",
        "\n",
        "from IPython.display import Image\n",
        "import os\n",
        "\n",
        "models_dir = '/content/mycar/models'\n",
        "\n",
        "acc_loss_filepath = 'mypilot.h5_loss_acc_0.013080.png'\n",
        "\n",
        "filename = os.path.join(models_dir, acc_loss_filepath)\n",
        "Image(filename=filename)"
      ],
      "execution_count": null,
      "outputs": [
        {
          "output_type": "execute_result",
          "data": {
            "image/png": "[encoded data removed]",
            "text/plain": [
              "<IPython.core.display.Image object>"
            ]
          },
          "metadata": {
            "tags": []
          },
          "execution_count": 30
        }
      ]
    },
    {
      "cell_type": "markdown",
      "metadata": {
        "id": "hfERkGy821Xy"
      },
      "source": [
        "# 7> 자율주행모드로 동키카 운행하기\n",
        "\n",
        "* PC/노트북에 다운로드한 인공지능 모델(*.h5)를 폴더에 저장합니다.\n",
        "\n",
        "* 저장이 완료된 모델을 탑재한 라즈베리파이 SD카드를 동키카에 적재하고 동키카에 전원을 넣어 부팅합니다.\n",
        "\n",
        "* 노트북/PC에서 SSH로 동키카에 접속한 후, 아래의 명령을 입력하여 자율주행 모드로의 실행을 설정합니다.\n",
        "\n",
        "```\n",
        "# 동키카에 탑재된 라즈베리파이에서 수행할 코드\n",
        "\n",
        "$cd mycar [enter]\n",
        "$python manage.py drive --model /mycar/models/mypilot.h5 [enter]\n",
        "```\n",
        "\n",
        "\n",
        "\n",
        "\n"
      ]
    },
    {
      "cell_type": "markdown",
      "metadata": {
        "id": "kxTAj6h2DTCe"
      },
      "source": [
        "## 8> PC에 설치된 Donkeycar 시뮬레이터에서 학습된 모델 작동시키기\n",
        "\n",
        "<참고>\n",
        "동키카 시뮬레이터 사용에 대해서는 아래의 링크를 참고하세요.\n",
        "* https://docs.donkeycar.com/guide/simulator/\n",
        "\n",
        "1. PC/Notebook에 설치된 simulator의 디렉토리로 이동합니다. 시뮬레이터 구동을 위한 동키카 프로젝트 폴더를 생성했다면, 해당디렉토리로 이동합니다(여기서는 ~/mysim으로 가정)\n",
        "2. 해당 디렉토리로 이동해서 simulator를 구동합니다.\n",
        "    * mysconfig.py파일에서 DONKEY_SIM_PATH가 시뮬레이터의 경로를 잘 설정하고 있는지 확인 부탁드립니다.\n",
        "3. 학습된 자율주행모델(*.h5)를 ~/mysim 디렉토리 아래의 models 디렉토리에 복사합니다.\n",
        "4. 아래의 명령어를 입력해서 자율주행을 실행합니다.\n",
        "    * ```$python manage.py drive --model models/mypilot.h5 ```    \n",
        "5. 유니티(Unity) 시뮬레이터창이 표시되고, 터미널에서 localhost:8887 접속에 대한 내용이 안내되면 웹브라우져를 실행하고 시뮬레이터에 접속합니다.\n",
        "6. 표시되는 웹 브라우져내의 drive창에서 아래의 Mode&Pilot의 Local Pilot으로 설정하면 자동주행을 합니다.\n",
        "\n",
        "![시뮬레이터 자율주행 설정](https://api.monosnap.com/file/download?id=PLU9FFdile460iwnUUCNvgdHKDLhHT)"
      ]
    }
  ]
}